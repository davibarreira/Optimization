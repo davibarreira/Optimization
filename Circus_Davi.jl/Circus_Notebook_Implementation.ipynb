{
 "cells": [
  {
   "cell_type": "code",
   "execution_count": 1,
   "metadata": {},
   "outputs": [],
   "source": [
    "include(\"./src/methods.jl\")\n",
    "using PyPlot, JuMP"
   ]
  },
  {
   "cell_type": "code",
   "execution_count": 2,
   "metadata": {},
   "outputs": [],
   "source": [
    "using MathOptInterface"
   ]
  },
  {
   "cell_type": "code",
   "execution_count": 3,
   "metadata": {},
   "outputs": [
    {
     "data": {
      "text/plain": [
       "Dict{Any,Any} with 3 entries:\n",
       "  2 => [2, 3]\n",
       "  3 => [4, 5]\n",
       "  1 => [1]"
      ]
     },
     "execution_count": 3,
     "metadata": {},
     "output_type": "execute_result"
    }
   ],
   "source": [
    "c = [0,0,1]\n",
    "A = [-1. 1. -1.;\n",
    "     -1. -1. -1.;\n",
    "     1. 0. 0.\n",
    "     -1. 0. 0.]\n",
    "b = [0,0,4.,-1.]\n",
    "\n",
    "c_simplex, A_simplex, b_simplex,var_relation = simplex_format(c,A,b)\n",
    "\n",
    "atol = 1e-8\n",
    "max_iter = 1000\n",
    "xzero = []\n",
    "num_const, num_var = size(A)\n",
    "isempty(xzero) ?  x = zeros(num_var) : x = xzero\n",
    "if ~all(A*x - b .<= atol)\n",
    "    phaseI = true\n",
    "    c_phaseI,A_phaseI,b_phaseI,\n",
    "        x_phaseI,bfs,nfs = phaseI_simplex_problem(A_simplex,b_simplex)\n",
    "    x_simplex = SimplexFromBFS(c_phaseI,A_phaseI,\n",
    "        b_phaseI,x_phaseI,index_bfs=bfs,index_nfs=nfs)\n",
    "end\n",
    "var_relation"
   ]
  },
  {
   "cell_type": "code",
   "execution_count": 4,
   "metadata": {},
   "outputs": [
    {
     "data": {
      "text/plain": [
       "4-element Array{Float64,1}:\n",
       "  0.0\n",
       "  0.0\n",
       "  4.0\n",
       " -1.0"
      ]
     },
     "execution_count": 4,
     "metadata": {},
     "output_type": "execute_result"
    }
   ],
   "source": [
    "c = [0,0,1]\n",
    "A = [-1. 1. -1.;\n",
    "     -1. -1. -1.;\n",
    "     1. 0. 0.\n",
    "     -1. 0. 0.]\n",
    "b = [0,0,4.,-1.]"
   ]
  },
  {
   "cell_type": "code",
   "execution_count": 5,
   "metadata": {},
   "outputs": [
    {
     "name": "stdout",
     "output_type": "stream",
     "text": [
      "Coin0506I Presolve 0 (-4) rows, 0 (-3) columns and 0 (-8) elements\n",
      "Clp3002W Empty problem - 0 rows, 0 columns and 0 elements\n",
      "Clp0000I Optimal - objective value -4\n",
      "Coin0511I After Postsolve, objective -4, infeasibilities - dual 0 (0), primal 0 (0)\n",
      "Clp0032I Optimal objective -4 - 0 iterations time 0.002, Presolve 0.00\n"
     ]
    },
    {
     "data": {
      "text/plain": [
       "3-element Array{Float64,1}:\n",
       "  4.0\n",
       " -0.0\n",
       " -4.0"
      ]
     },
     "execution_count": 5,
     "metadata": {},
     "output_type": "execute_result"
    }
   ],
   "source": [
    "model = Model(Clp.Optimizer)\n",
    "@variable(model, x[1:size(c)[1]])\n",
    "@constraint(model,A*x.<=b) \n",
    "@objective(model, Min, c'*x)\n",
    "optimize!(model)\n",
    "xo = zeros(size(c)[1])\n",
    "for i = 1:size(c)[1]\n",
    "    xo[i] = value(x[i])\n",
    "end\n",
    "xo"
   ]
  },
  {
   "cell_type": "code",
   "execution_count": 6,
   "metadata": {},
   "outputs": [
    {
     "data": {
      "text/plain": [
       "3-element Array{Float64,1}:\n",
       "  4.0\n",
       "  0.0\n",
       " -4.0"
      ]
     },
     "execution_count": 6,
     "metadata": {},
     "output_type": "execute_result"
    }
   ],
   "source": [
    "c = [0,0,1]\n",
    "A = [-1. 1. -1.;\n",
    "     -1. -1. -1.;\n",
    "     1. 0. 0.\n",
    "     -1. 0. 0.]\n",
    "b = [0,0,4.,0.]\n",
    "cs,As,bs,var_relation = simplex_format(c,A,b)\n",
    "x = [0.,0,0,0,0,0,0,4]\n",
    "x_simplex = SimplexFromBFS(cs,As,bs,x,index_bfs=[6,7,8],index_nfs=[1,2,3,4,5])\n",
    "x_circus = variable_simplex_to_circus(var_relation,x_simplex)\n",
    "x_simplex = variable_circus_to_simplex(var_relation,x_circus,cs,As,bs)\n",
    "x_circus"
   ]
  },
  {
   "cell_type": "markdown",
   "metadata": {},
   "source": [
    "#### Phase 1\n"
   ]
  },
  {
   "cell_type": "code",
   "execution_count": 7,
   "metadata": {},
   "outputs": [
    {
     "data": {
      "text/plain": [
       "([0.0, 0.0, 0.0, 0.0, 0.0, 0.0, 0.0, 0.0, 0.0, 1.0, 1.0, 1.0, 1.0], [-1.0 1.0 … 0.0 0.0; -1.0 -1.0 … 0.0 0.0; 1.0 0.0 … 1.0 0.0; 1.0 -0.0 … 0.0 1.0], [0.0; 0.0; 4.0; 1.0], [0.0, 0.0, 0.0, 0.0, 0.0, 0.0, 0.0, 0.0, 0.0, 0.0, 0.0, 4.0, 1.0], [10, 11, 12, 13], [1, 2, 3, 4, 5, 6, 7, 8, 9])"
      ]
     },
     "execution_count": 7,
     "metadata": {},
     "output_type": "execute_result"
    }
   ],
   "source": [
    "c = [0,0,1]\n",
    "A = [-1. 1. -1.;\n",
    "     -1. -1. -1.;\n",
    "     1. 0. 0.\n",
    "     -1. 0. 0.]\n",
    "b = [0,0,4.,-1.]\n",
    "\n",
    "# x = [0,0,0,0,0,0,0,4,1]\n",
    "cs,As,bs,var_relation = simplex_format(c,A,b)\n",
    "cpi, Api, bpi, xpi,bfs_pi,nfs_pi = phaseI_simplex_problem(As,bs)"
   ]
  },
  {
   "cell_type": "code",
   "execution_count": 8,
   "metadata": {},
   "outputs": [
    {
     "data": {
      "text/plain": [
       "3-element Array{Float64,1}:\n",
       "  1.0\n",
       "  0.0\n",
       " -1.0"
      ]
     },
     "execution_count": 8,
     "metadata": {},
     "output_type": "execute_result"
    }
   ],
   "source": [
    "x_simplex = SimplexFromBFS(cpi,Api,bpi,xpi,index_bfs=bfs_pi,index_nfs=nfs_pi)\n",
    "x_circus = variable_simplex_to_circus(var_relation,x_simplex)"
   ]
  },
  {
   "cell_type": "code",
   "execution_count": 9,
   "metadata": {},
   "outputs": [
    {
     "name": "stdout",
     "output_type": "stream",
     "text": [
      "Coin0506I Presolve 0 (-17) rows, 0 (-13) columns and 0 (-33) elements\n",
      "Clp3002W Empty problem - 0 rows, 0 columns and 0 elements\n",
      "Clp0000I Optimal - objective value 0\n",
      "Coin0511I After Postsolve, objective 0, infeasibilities - dual 0 (0), primal 0 (0)\n",
      "Clp0032I Optimal objective 0 - 0 iterations time 0.002, Presolve 0.00\n"
     ]
    }
   ],
   "source": [
    "model = Model(Clp.Optimizer)\n",
    "@variable(model, x[1:size(cpi)[1]])\n",
    "@constraint(model,Api*x.==bpi) \n",
    "@constraint(model,x.>=zeros(size(cpi)[1])) \n",
    "@objective(model, Min, cpi'*x)\n",
    "optimize!(model)\n",
    "xo = zeros(size(cpi)[1])\n",
    "for i = 1:size(cpi)[1]\n",
    "    xo[i] = value(x[i])\n",
    "end\n"
   ]
  },
  {
   "cell_type": "code",
   "execution_count": 10,
   "metadata": {},
   "outputs": [
    {
     "name": "stderr",
     "output_type": "stream",
     "text": [
      "libGL error: MESA-LOADER: failed to open iris (search paths /usr/lib/x86_64-linux-gnu/dri:\\$${ORIGIN}/dri:/usr/lib/dri)\n",
      "libGL error: failed to load driver: iris\n",
      "libGL error: MESA-LOADER: failed to open iris (search paths /usr/lib/x86_64-linux-gnu/dri:\\$${ORIGIN}/dri:/usr/lib/dri)\n",
      "libGL error: failed to load driver: iris\n",
      "libGL error: MESA-LOADER: failed to open swrast (search paths /usr/lib/x86_64-linux-gnu/dri:\\$${ORIGIN}/dri:/usr/lib/dri)\n",
      "libGL error: failed to load driver: swrast\n"
     ]
    },
    {
     "data": {
      "text/plain": [
       "PyObject <mpl_toolkits.mplot3d.art3d.Path3DCollection object at 0x7f870b1ceb50>"
      ]
     },
     "execution_count": 10,
     "metadata": {},
     "output_type": "execute_result"
    }
   ],
   "source": [
    "c = [0,0,1]\n",
    "A = [-1. 1. -1.;\n",
    "     -1. -1. -1.;\n",
    "     1. 0. 0.\n",
    "     -1. 0. 0.]\n",
    "b = [0,0,4.,-1.]\n",
    "# xo = x_circus\n",
    "\n",
    "pygui(true)\n",
    "px= [0,4 ,4 ,0 ,0,0,0 ,0,4,4,4 ,4]\n",
    "py= [0,0 ,-4,-4,0,4,-4,4,4,-4,0,4]\n",
    "pz= [0,-4,0 ,4 ,0,4,4 ,4,0,0,-4,0]\n",
    "plt= PyPlot.plot3D(px,py,pz)\n",
    "PyPlot.scatter3D([xo[1]],[xo[2]],[xo[3]])"
   ]
  },
  {
   "cell_type": "markdown",
   "metadata": {},
   "source": [
    "### Checking if BFS is Optimal"
   ]
  },
  {
   "cell_type": "code",
   "execution_count": 11,
   "metadata": {},
   "outputs": [
    {
     "data": {
      "text/plain": [
       "1"
      ]
     },
     "execution_count": 11,
     "metadata": {},
     "output_type": "execute_result"
    }
   ],
   "source": [
    "check_optimality_simplex(cpi,Api,bpi,xo)"
   ]
  },
  {
   "cell_type": "code",
   "execution_count": 12,
   "metadata": {},
   "outputs": [
    {
     "data": {
      "text/plain": [
       "1"
      ]
     },
     "execution_count": 12,
     "metadata": {},
     "output_type": "execute_result"
    }
   ],
   "source": [
    "c = [0,0,1]\n",
    "A = [-1. 1. -1.;\n",
    "     -1. -1. -1.;\n",
    "     1. 0. 0.\n",
    "     -1. 0. 0.]\n",
    "b = [0,0,4.,0.]\n",
    "cs,As,bs,var_relation = simplex_format(c,A,b)\n",
    "x = [0.,0,0,0,0,0,0,4]\n",
    "x_simplex = SimplexFromBFS(cs,As,bs,x,index_bfs=[6,7,8],index_nfs=[1,2,3,4,5])\n",
    "x_circus  = variable_simplex_to_circus(var_relation,x_simplex)\n",
    "active_ix = [1,2,3]\n",
    "active_ix_simplex = []\n",
    "for i in active_ix\n",
    "    push!(active_ix_simplex,var_relation[i][1])\n",
    "end\n",
    "nactive_ix_simplex = filter(x -> !(x in active_ix_simplex),collect(1:size(x_simplex)[1]))\n",
    "\n",
    "check_optimality_simplex(cs,As,bs,x_simplex,\n",
    "    index_bfs=active_ix_simplex,index_nfs=nactive_ix_simplex)"
   ]
  },
  {
   "cell_type": "code",
   "execution_count": 13,
   "metadata": {},
   "outputs": [
    {
     "data": {
      "text/plain": [
       "0"
      ]
     },
     "execution_count": 13,
     "metadata": {},
     "output_type": "execute_result"
    }
   ],
   "source": [
    "checkKKT(c,A,b,x_circus)\n",
    "checkKKT(c,A,b,[0.0,0.0,0.0])"
   ]
  },
  {
   "cell_type": "markdown",
   "metadata": {},
   "source": [
    "### Importing MPS file test case "
   ]
  },
  {
   "cell_type": "code",
   "execution_count": 14,
   "metadata": {},
   "outputs": [
    {
     "name": "stdout",
     "output_type": "stream",
     "text": [
      "objective_value(model) = -464.75314285714296\n",
      "X_sol = [339.94285714285724, 0.0, 0.0, 0.0, 0.0, 54.50000000000001, 0.0, 0.0, 19.307142857142853, 0.0, 25.499999999999993, 0.0, 500.00000000000006, 18.214285714285708, 84.80000000000001, 0.0, 0.0, 24.079999999999984, 80.0, 18.214285714285708, -2.3606070955485056e-14, 215.00000000000003, 0.0, -5.684341886080802e-14, 0.0, 0.0, 0.0, 475.92000000000013, 0.0, 0.0, 0.0, 383.94285714285724]\n",
      "Coin0506I Presolve 6 (-21) rows, 9 (-23) columns and 26 (-57) elements\n",
      "Clp0006I 0  Obj 0 Dual inf 1,8228541 (3)\n",
      "Clp0006I 3  Obj -464,75314\n",
      "Clp0000I Optimal - objective value -464,75314\n",
      "Coin0511I After Postsolve, objective -464,75314, infeasibilities - dual 0 (0), primal 0 (0)\n",
      "Clp0032I Optimal objective -464,7531429 - 3 iterations time 0,002, Presolve 0,00\n"
     ]
    }
   ],
   "source": [
    "model = JuMP.read_from_file(\"../TestCases/afiro.mps\")\n",
    "set_optimizer(model,Clp.Optimizer)\n",
    "optimize!(model)\n",
    "variables = JuMP.all_variables(model)\n",
    "X_sol = zeros(size(variables)[1])\n",
    "for (i,v) in enumerate(variables)\n",
    "    X_sol[i] = value(v)\n",
    "end\n",
    "\n",
    "@show objective_value(model);\n",
    "@show X_sol;\n",
    "\n",
    "\n",
    "list_of_constraint_types(model)\n",
    "\n",
    "gc = JuMP.all_constraints(model,VariableRef, MOI.GreaterThan{Float64})\n",
    "ec = JuMP.all_constraints(model,GenericAffExpr{Float64,VariableRef}, MOI.EqualTo{Float64})\n",
    "lc = JuMP.all_constraints(model,GenericAffExpr{Float64,VariableRef}, MOI.LessThan{Float64})\n",
    "cj = JuMP.objective_function(model)\n",
    "\n",
    "variables = JuMP.all_variables(model)\n",
    "A = zeros(1,size(variables)[1])\n",
    "b= zeros(1)\n",
    "\n",
    "c = zeros(1,size(variables)[1])\n",
    "c[1,indexin(cj.terms.keys,variables)] = cj.terms.vals\n",
    "c = c'[:]\n",
    "\n",
    "for i in 1:size(lc)[1]\n",
    "    Aux = zeros(1,size(variables)[1])\n",
    "    lc_terms = constraint_object(lc[i]).func.terms\n",
    "    lc_value = constraint_object(lc[i]).set.upper\n",
    "    if i == 1\n",
    "        A[1,indexin(lc_terms.keys,variables)] = lc_terms.vals\n",
    "        b = lc_value\n",
    "    else\n",
    "        Aux[1,indexin(lc_terms.keys,variables)] = lc_terms.vals\n",
    "        A = vcat(A,Aux)\n",
    "        b = vcat(b,lc_value)\n",
    "    end\n",
    "end\n",
    "\n",
    "for i in 1:size(gc)[1]\n",
    "    Aux = zeros(1,size(variables)[1])\n",
    "    lc_terms = constraint_object(gc[i]).func\n",
    "    lc_value = constraint_object(gc[i]).set.lower\n",
    "    Aux[1,findfirst(variables .== lc_terms)] = -1\n",
    "    A = vcat(A,Aux)\n",
    "    b = vcat(b,lc_value)\n",
    "end\n",
    "\n",
    "for i in 1:size(ec)[1]\n",
    "    Aux = zeros(1,size(variables)[1])\n",
    "    lc_terms = constraint_object(ec[i]).func.terms\n",
    "    lc_value = constraint_object(ec[i]).set.value\n",
    "    Aux[1,indexin(lc_terms.keys,variables)] = lc_terms.vals\n",
    "    A = vcat(A,Aux)\n",
    "    b = vcat(b,lc_value)\n",
    "    \n",
    "    Aux[1,indexin(lc_terms.keys,variables)] = -lc_terms.vals\n",
    "    A = vcat(A,Aux)\n",
    "    b = vcat(b,-lc_value)\n",
    "end\n"
   ]
  },
  {
   "cell_type": "code",
   "execution_count": 15,
   "metadata": {},
   "outputs": [
    {
     "name": "stdout",
     "output_type": "stream",
     "text": [
      "objective_value(model) = -464.75314285714285\n",
      "Coin0506I Presolve 11 (-56) rows, 16 (-16) columns and 58 (-91) elements\n",
      "Clp0006I 0  Obj 0 Dual inf 2,199997 (3)\n",
      "Clp0006I 4  Obj -464,75314\n",
      "Clp0000I Optimal - objective value -464,75314\n",
      "Coin0511I After Postsolve, objective -464,75314, infeasibilities - dual 0 (0), primal 0 (0)\n",
      "Clp0032I Optimal objective -464,7531429 - 4 iterations time 0,002, Presolve 0,00\n"
     ]
    }
   ],
   "source": [
    "model = Model(Clp.Optimizer)\n",
    "@variable(model, x[1:size(c)[1]])\n",
    "@constraint(model,A*x.<=b) \n",
    "@objective(model, Min, c'*x)\n",
    "optimize!(model)\n",
    "xo = zeros(size(c)[1])\n",
    "for i = 1:size(c)[1]\n",
    "    xo[i] = value(x[i])\n",
    "end\n",
    "xo\n",
    "@show objective_value(model);"
   ]
  },
  {
   "cell_type": "code",
   "execution_count": 16,
   "metadata": {},
   "outputs": [
    {
     "name": "stdout",
     "output_type": "stream",
     "text": [
      "objective_value(model) = -464.75314285714285\n",
      "Coin0506I Presolve 13 (-89) rows, 20 (-47) columns and 86 (-133) elements\n",
      "Clp0006I 0  Obj 0 Primal inf 688 (4) Dual inf 4,217396 (4)\n",
      "Clp0006I 8  Obj -464,75314\n",
      "Clp0000I Optimal - objective value -464,75314\n",
      "Coin0511I After Postsolve, objective -464,75314, infeasibilities - dual 0 (0), primal 0 (0)\n",
      "Clp0032I Optimal objective -464,7531429 - 8 iterations time 0,002, Presolve 0,00\n"
     ]
    }
   ],
   "source": [
    "cs,As,bs,var_relation = simplex_format(c,A,b)\n",
    "model = Model(Clp.Optimizer)\n",
    "@variable(model, x[1:size(cs)[1]])\n",
    "@constraint(model,As*x.==bs) \n",
    "@constraint(model,x.>=zeros(size(cs)[1])) \n",
    "@objective(model, Min, cs'*x)\n",
    "optimize!(model)\n",
    "@show objective_value(model);"
   ]
  },
  {
   "cell_type": "code",
   "execution_count": 17,
   "metadata": {},
   "outputs": [
    {
     "name": "stdout",
     "output_type": "stream",
     "text": [
      "Coin0506I Presolve 13 (-124) rows, 20 (-82) columns and 86 (-203) elements\n",
      "Clp0006I 0  Obj 0 Primal inf 688 (4)\n",
      "Clp0006I 7  Obj 8,6676808e-16\n",
      "Clp0000I Optimal - objective value 0\n",
      "Coin0511I After Postsolve, objective 0, infeasibilities - dual 0 (0), primal 0 (0)\n",
      "Clp0032I Optimal objective 0 - 7 iterations time 0,002, Presolve 0,00\n"
     ]
    },
    {
     "data": {
      "text/plain": [
       "true"
      ]
     },
     "execution_count": 17,
     "metadata": {},
     "output_type": "execute_result"
    }
   ],
   "source": [
    "cpi, Api, bpi, xpi,bfs_pi,nfs_pi = phaseI_simplex_problem(As,bs)\n",
    "\n",
    "model = Model(Clp.Optimizer)\n",
    "@variable(model, x[1:size(cpi)[1]])\n",
    "@constraint(model,Api*x.==bpi) \n",
    "@constraint(model,x.>=zeros(size(cpi)[1])) \n",
    "@objective(model, Min, cpi'*x)\n",
    "optimize!(model)\n",
    "xo = zeros(size(cpi)[1])\n",
    "for i = 1:size(cpi)[1]\n",
    "    xo[i] = value(x[i])\n",
    "end\n",
    "x_circus = variable_simplex_to_circus(var_relation,xo)\n",
    "all(A*x_circus.<=b.+10^-8)\n",
    "\n",
    "# active_ix_simplex = findall((xo.-10^-8).<=0)\n",
    "# active_ix_simplex = findall((xo.≈0))\n",
    "# active_ix_simplex = active_ix_simplex[1:35]\n",
    "# nactive_ix_simplex = filter(x -> !(x in active_ix_simplex),collect(1:size(xo)[1]))\n",
    "# check_optimality(cpi,Api,bpi,xo,index_bfs=active_ix_simplex,index_nfs=nactive_ix_simplex)\n"
   ]
  },
  {
   "cell_type": "markdown",
   "metadata": {},
   "source": [
    "### The CIRCUS Algorithm"
   ]
  },
  {
   "cell_type": "code",
   "execution_count": null,
   "metadata": {},
   "outputs": [],
   "source": []
  },
  {
   "cell_type": "code",
   "execution_count": 18,
   "metadata": {},
   "outputs": [
    {
     "ename": "UndefVarError",
     "evalue": "UndefVarError: circus_acc not defined",
     "output_type": "error",
     "traceback": [
      "UndefVarError: circus_acc not defined",
      "",
      "Stacktrace:",
      " [1] top-level scope at In[18]:11"
     ]
    }
   ],
   "source": [
    "c = [0,0,1]\n",
    "A = [-1. 1. -1.;\n",
    "     -1. -1. -1.;\n",
    "     1. 0. 0.\n",
    "     0. 0. 1.\n",
    "     -1. 0. 0.]\n",
    "b = [0,0,4.,4.,0.0]\n",
    "\n",
    "# xzero = [0,0,0]\n",
    "xzero = [0,4,4]\n",
    "\n",
    "x = circus_acc(c, A, b, xzero)"
   ]
  },
  {
   "cell_type": "code",
   "execution_count": 201,
   "metadata": {},
   "outputs": [
    {
     "data": {
      "text/plain": [
       "PyObject <mpl_toolkits.mplot3d.art3d.Path3DCollection object at 0x7f3156850150>"
      ]
     },
     "execution_count": 201,
     "metadata": {},
     "output_type": "execute_result"
    }
   ],
   "source": [
    "# xo = [x x+d*α]\n",
    "xo = x\n",
    "\n",
    "pygui(true)\n",
    "px= [0,4 ,4 ,0 ,0,0,0 ,0,4,4,4 ,4]\n",
    "py= [0,0 ,-4,-4,0,4,-4,4,4,-4,0,4]\n",
    "pz= [0,-4,0 ,4 ,0,4,4 ,4,0,0,-4,0]\n",
    "plt= PyPlot.plot3D(px,py,pz)\n",
    "PyPlot.scatter3D([xo[1,:]],[xo[2,:]],[xo[3,:]])"
   ]
  },
  {
   "cell_type": "code",
   "execution_count": 20,
   "metadata": {},
   "outputs": [
    {
     "name": "stdout",
     "output_type": "stream",
     "text": [
      "objective_value(model) = -464.75314285714296\n",
      "X_sol = [339.94285714285724, 0.0, 0.0, 0.0, 0.0, 54.50000000000001, 0.0, 0.0, 19.307142857142853, 0.0, 25.499999999999993, 0.0, 500.00000000000006, 18.214285714285708, 84.80000000000001, 0.0, 0.0, 24.079999999999984, 80.0, 18.214285714285708, -2.3606070955485056e-14, 215.00000000000003, 0.0, -5.684341886080802e-14, 0.0, 0.0, 0.0, 475.92000000000013, 0.0, 0.0, 0.0, 383.94285714285724]\n",
      "objective_value(model) = 224.69066498276453\n",
      "objective_value(model) = 224.69066498273884\n",
      "Coin0506I Presolve 6 (-21) rows, 9 (-23) columns and 26 (-57) elements\n",
      "Clp0006I 0  Obj 0 Dual inf 1,8228541 (3)\n",
      "Clp0006I 3  Obj -464,75314\n",
      "Clp0000I Optimal - objective value -464,75314\n",
      "Coin0511I After Postsolve, objective -464,75314, infeasibilities - dual 0 (0), primal 0 (0)\n",
      "Clp0032I Optimal objective -464,7531429 - 3 iterations time 0,002, Presolve 0,00\n",
      "Coin0506I Presolve 67 (0) rows, 32 (0) columns and 2144 (0) elements\n",
      "Clp0006I 0  Obj 0 Primal inf 2105,3086 (1) Dual inf 0,081917347 (5) w.o. free dual inf (0)\n",
      "Clp0006I 31  Obj 304,0268 Primal inf 14255,963 (19)\n",
      "Clp0006I 40  Obj 2638,5224 Primal inf 199481,12 (19)\n",
      "Clp0006I 40  Obj 2638,5224 Primal inf 199481,12 (19)\n",
      "Clp0006I 41  Obj -4,9948008e+13 Primal inf 5,1621529e+15 (21)\n",
      "Clp0006I 41  Obj -4,7175062e+13 Primal inf 5,1621529e+15 (21) Dual inf 1,199838e+17 (32) w.o. free dual inf (27)\n",
      "Clp0006I 62  Obj 294,02284 Dual inf 2,2791348 (9)\n",
      "Clp0006I 74  Obj 224,69066\n",
      "Clp0000I Optimal - objective value 224,69066\n",
      "Clp0032I Optimal objective 224,690665 - 74 iterations time 0,002\n",
      "Coin0506I Presolve 67 (-131) rows, 64 (-67) columns and 4288 (-198) elements\n",
      "Clp0006I 0  Obj 0 Primal inf 2105,3086 (1) Dual inf 8,1917797 (5)\n",
      "Clp0006I 31  Obj -1,793602e+10 Primal inf 4,7965071e+13 (30)\n",
      "Clp0006I 73  Obj 199,10668 Primal inf 1087,7671 (14)\n",
      "Clp0006I 92  Obj 224,6907\n",
      "Clp0000I Optimal - objective value 224,69071\n",
      "Coin0511I After Postsolve, objective 224,69071, infeasibilities - dual 880,79044 (32), primal 2,3185085e-06 (4)\n",
      "Coin0512I Presolved model was optimal, full model needs cleaning up\n",
      "Clp0006I 0  Obj 224,69031 Primal inf 7,5882706e-05 (1) Dual inf 9,5952043e+11 (40)\n",
      "Clp0029I End of values pass after 0 iterations\n",
      "Clp0006I 0  Obj 224,69031 Primal inf 7,5882706e-05 (1) Dual inf 9,5952043e+11 (40) w.o. free dual inf (38)\n",
      "Clp0029I End of values pass after 2 iterations\n",
      "Clp0006I 2  Obj 224,69034 Primal inf 6,599572e-05 (1) Dual inf 9,5952043e+11 (41) w.o. free dual inf (39)\n",
      "Clp0006I 4  Obj 224,69066\n",
      "Clp0000I Optimal - objective value 224,69066\n",
      "Clp0032I Optimal objective 224,690665 - 96 iterations time 0,012, Presolve 0,00\n",
      "Coin0506I Presolve 67 (-198) rows, 65 (-133) columns and 4289 (-331) elements\n",
      "Clp0006I 0  Obj 0 Primal inf 2105,3086 (1)\n",
      "Clp0006I 31  Obj 2,2720604e-14 Primal inf 19205,509 (16)\n",
      "Clp0006I 58  Obj 2,0780456e-13\n",
      "Clp0000I Optimal - objective value 0\n",
      "Coin0511I After Postsolve, objective 0, infeasibilities - dual 0 (0), primal 0 (0)\n",
      "Clp0032I Optimal objective 0 - 58 iterations time 0,002, Presolve 0,00\n"
     ]
    },
    {
     "data": {
      "text/plain": [
       "true"
      ]
     },
     "execution_count": 20,
     "metadata": {},
     "output_type": "execute_result"
    }
   ],
   "source": [
    "model = JuMP.read_from_file(\"../TestCases/afiro.mps\")\n",
    "set_optimizer(model,Clp.Optimizer)\n",
    "optimize!(model)\n",
    "variables = JuMP.all_variables(model)\n",
    "X_sol = zeros(size(variables)[1])\n",
    "for (i,v) in enumerate(variables)\n",
    "    X_sol[i] = value(v)\n",
    "end\n",
    "\n",
    "@show objective_value(model);\n",
    "@show X_sol;\n",
    "\n",
    "\n",
    "list_of_constraint_types(model)\n",
    "\n",
    "gc = JuMP.all_constraints(model,VariableRef, MOI.GreaterThan{Float64})\n",
    "ec = JuMP.all_constraints(model,GenericAffExpr{Float64,VariableRef}, MOI.EqualTo{Float64})\n",
    "lc = JuMP.all_constraints(model,GenericAffExpr{Float64,VariableRef}, MOI.LessThan{Float64})\n",
    "cj = JuMP.objective_function(model)\n",
    "\n",
    "variables = JuMP.all_variables(model)\n",
    "A = zeros(1,size(variables)[1])\n",
    "b= zeros(1)\n",
    "\n",
    "c = zeros(1,size(variables)[1])\n",
    "c[1,indexin(cj.terms.keys,variables)] = cj.terms.vals\n",
    "c = c'[:]\n",
    "\n",
    "for i in 1:size(lc)[1]\n",
    "    Aux = zeros(1,size(variables)[1])\n",
    "    lc_terms = constraint_object(lc[i]).func.terms\n",
    "    lc_value = constraint_object(lc[i]).set.upper\n",
    "    if i == 1\n",
    "        A[1,indexin(lc_terms.keys,variables)] = lc_terms.vals\n",
    "        b = lc_value\n",
    "    else\n",
    "        Aux[1,indexin(lc_terms.keys,variables)] = lc_terms.vals\n",
    "        A = vcat(A,Aux)\n",
    "        b = vcat(b,lc_value)\n",
    "    end\n",
    "end\n",
    "\n",
    "for i in 1:size(gc)[1]\n",
    "    Aux = zeros(1,size(variables)[1])\n",
    "    lc_terms = constraint_object(gc[i]).func\n",
    "    lc_value = constraint_object(gc[i]).set.lower\n",
    "    Aux[1,findfirst(variables .== lc_terms)] = -1\n",
    "    A = vcat(A,Aux)\n",
    "    b = vcat(b,lc_value)\n",
    "end\n",
    "\n",
    "for i in 1:size(ec)[1]\n",
    "    Aux = zeros(1,size(variables)[1])\n",
    "    lc_terms = constraint_object(ec[i]).func.terms\n",
    "    lc_value = constraint_object(ec[i]).set.value\n",
    "    Aux[1,indexin(lc_terms.keys,variables)] = lc_terms.vals\n",
    "    A = vcat(A,Aux)\n",
    "    b = vcat(b,lc_value)\n",
    "    \n",
    "    Aux[1,indexin(lc_terms.keys,variables)] = -lc_terms.vals\n",
    "    A = vcat(A,Aux)\n",
    "    b = vcat(b,-lc_value)\n",
    "end\n",
    "A = A + randn(size(A)[1],size(A)[2])*0.01;\n",
    "\n",
    "model = Model(Clp.Optimizer)\n",
    "@variable(model, x[1:size(c)[1]])\n",
    "@constraint(model,A*x.<=b) \n",
    "@objective(model, Min, c'*x)\n",
    "optimize!(model)\n",
    "xo = zeros(size(c)[1])\n",
    "for i = 1:size(c)[1]\n",
    "    xo[i] = value(x[i])\n",
    "end\n",
    "xo\n",
    "@show objective_value(model);\n",
    "\n",
    "cs,As,bs,var_relation = simplex_format(c,A,b)\n",
    "model = Model(Clp.Optimizer)\n",
    "@variable(model, x[1:size(cs)[1]])\n",
    "@constraint(model,As*x.==bs) \n",
    "@constraint(model,x.>=zeros(size(cs)[1])) \n",
    "@objective(model, Min, cs'*x)\n",
    "optimize!(model)\n",
    "@show objective_value(model);\n",
    "\n",
    "cpi, Api, bpi, xpi,bfs_pi,nfs_pi = phaseI_simplex_problem(As,bs)\n",
    "\n",
    "model = Model(Clp.Optimizer)\n",
    "@variable(model, x[1:size(cpi)[1]])\n",
    "@constraint(model,Api*x.==bpi) \n",
    "@constraint(model,x.>=zeros(size(cpi)[1])) \n",
    "@objective(model, Min, cpi'*x)\n",
    "optimize!(model)\n",
    "xo = zeros(size(cpi)[1])\n",
    "for i = 1:size(cpi)[1]\n",
    "    xo[i] = value(x[i])\n",
    "end\n",
    "x_circus = variable_simplex_to_circus(var_relation,xo)\n",
    "all(A*x_circus.<=b.+10^-8)"
   ]
  },
  {
   "cell_type": "code",
   "execution_count": 21,
   "metadata": {},
   "outputs": [
    {
     "name": "stdout",
     "output_type": "stream",
     "text": [
      "objective_value(model) = 224.69066498276453\n",
      "Coin0506I Presolve 67 (0) rows, 32 (0) columns and 2144 (0) elements\n",
      "Clp0006I 0  Obj 0 Primal inf 2105,3086 (1) Dual inf 0,081917347 (5) w.o. free dual inf (0)\n",
      "Clp0006I 31  Obj 304,0268 Primal inf 14255,963 (19)\n",
      "Clp0006I 40  Obj 2638,5224 Primal inf 199481,12 (19)\n",
      "Clp0006I 40  Obj 2638,5224 Primal inf 199481,12 (19)\n",
      "Clp0006I 41  Obj -4,9948008e+13 Primal inf 5,1621529e+15 (21)\n",
      "Clp0006I 41  Obj -4,7175062e+13 Primal inf 5,1621529e+15 (21) Dual inf 1,199838e+17 (32) w.o. free dual inf (27)\n",
      "Clp0006I 62  Obj 294,02284 Dual inf 2,2791348 (9)\n",
      "Clp0006I 74  Obj 224,69066\n",
      "Clp0000I Optimal - objective value 224,69066\n",
      "Clp0032I Optimal objective 224,690665 - 74 iterations time 0,002\n"
     ]
    }
   ],
   "source": [
    "model = Model(Clp.Optimizer)\n",
    "@variable(model, x[1:size(c)[1]])\n",
    "@constraint(model,A*x.<=b) \n",
    "@objective(model, Min, c'*x)\n",
    "optimize!(model)\n",
    "xo = zeros(size(c)[1])\n",
    "for i = 1:size(c)[1]\n",
    "    xo[i] = value(x[i])\n",
    "end\n",
    "xo\n",
    "@show objective_value(model);"
   ]
  },
  {
   "cell_type": "code",
   "execution_count": 27,
   "metadata": {},
   "outputs": [
    {
     "name": "stdout",
     "output_type": "stream",
     "text": [
      "c' * x = 233.18233751153008\n",
      "c' * x = 230.60893684952703\n",
      "c' * x = 230.03131972057102\n",
      "c' * x = 229.98302097735422\n",
      "c' * x = 229.95041238351982\n",
      "c' * x = 229.94768576758975\n",
      "c' * x = 229.94584487179813\n",
      "c' * x = 229.94569114146518\n",
      "c' * x = 229.9455919361855\n",
      "c' * x = 229.94558675907783\n",
      "c' * x = 229.94557946550157\n"
     ]
    },
    {
     "data": {
      "text/plain": [
       "32-element Array{Float64,1}:\n",
       " -0.7909259697473099\n",
       "  0.2769467898953235\n",
       " -0.37236805237924087\n",
       "  0.48513843971578324\n",
       " -0.3397694599761757\n",
       "  3.2786221067903716\n",
       "  7.734067497819865\n",
       " -0.10813335014482266\n",
       "  0.6287191947406658\n",
       " -0.22040370887404492\n",
       " -0.08665166640695596\n",
       "  1.6094369080579385\n",
       " 29.834595242386023\n",
       "  ⋮\n",
       "  0.49669139983926625\n",
       " 12.819693855567214\n",
       "  0.1450107050454674\n",
       "  1.8712920950374383\n",
       "  0.29346618862844875\n",
       " 18.69593572717825\n",
       " -1.2329683797220425\n",
       " 27.341727019656638\n",
       " 24.058493316712976\n",
       "  2.73012795813681\n",
       "  0.19056806777527324\n",
       "  0.6709306619690438"
      ]
     },
     "execution_count": 27,
     "metadata": {},
     "output_type": "execute_result"
    }
   ],
   "source": [
    "function circus_acc(c, A, b, x; atol = 1e-8, max_iter = 1000)\n",
    "    num_const, num_var = size(A)\n",
    "    # Test to verify that xzero is a feasible starting point\n",
    "\n",
    "    cnormed = c/norm(c)\n",
    "    Anormed = copy(A)\n",
    "    bnormed = copy(b)\n",
    "    for  i in 1:num_const\n",
    "        normA = norm(Anormed[i,:])\n",
    "        Anormed[i,:] /= normA\n",
    "        bnormed[i] /= normA\n",
    "    end\n",
    "\n",
    "    sortedJ = sortperm((Anormed*cnormed),rev=true)\n",
    "    index_active = findall(b - A*x .<  atol)\n",
    "\n",
    "    # If the initial point is a vertex, take the circumcenter of the\n",
    "    # restrictions. Create a line until you reach a restriction.\n",
    "    # From the middle of the line, move in direction -c, until you reach a restriction.\n",
    "    iter = 0\n",
    "    while iter <= max_iter\n",
    "        iter_2 = 0\n",
    "        while length(index_active) == num_var && iter_2 < 10\n",
    "            if checkKKT(c,A,b,x) == 1\n",
    "                return x\n",
    "            end\n",
    "            x = circus_treating_vertex(c,A,b,Anormed,cnormed,x,index_active)\n",
    "            index_active = findall(b - A*x .<  atol)\n",
    "            iter_2 += 1\n",
    "        end\n",
    "\n",
    "\n",
    "        (x1,x2) = purification(x,A,b,c,length(x),index_active)\n",
    "        if checkKKT(c,A,b,x1) == 1\n",
    "            return x1\n",
    "        else\n",
    "            x = x2\n",
    "            index_active = findall(b - A*x .<  atol)\n",
    "#             if length(index_active) < num_var\n",
    "#                 x = x1\n",
    "#             else\n",
    "                d = findDirection(x, A, b, Anormed,cnormed, index_active)\n",
    "                α = ratiotest(x,A,b,d)\n",
    "                x = x + α*d\n",
    "#             end\n",
    "        end\n",
    "        index_active = findall(b - A*x .<  atol)\n",
    "        iter+=1\n",
    "        @show c'*x\n",
    "    end\n",
    "    println(\"Max iterations!\")\n",
    "    return x\n",
    "end\n",
    "\n",
    "xo = x_circus\n",
    "index_active = findall(b - A*xo .<  10^-8)\n",
    "\n",
    "x = circus_acc(c, A, b, x_circus)"
   ]
  },
  {
   "cell_type": "code",
   "execution_count": 28,
   "metadata": {},
   "outputs": [
    {
     "data": {
      "text/plain": [
       "224.69066898440434"
      ]
     },
     "execution_count": 28,
     "metadata": {},
     "output_type": "execute_result"
    }
   ],
   "source": [
    "c'*x"
   ]
  },
  {
   "cell_type": "code",
   "execution_count": 329,
   "metadata": {},
   "outputs": [
    {
     "data": {
      "text/plain": [
       "5-element Array{Int64,1}:\n",
       "  2\n",
       " 11\n",
       " 20\n",
       " 53\n",
       " 67"
      ]
     },
     "execution_count": 329,
     "metadata": {},
     "output_type": "execute_result"
    }
   ],
   "source": [
    "index_active = [2, 11, 20, 53, 67]\n",
    "# A[[2, 11, 20, 53, 67],:] \n",
    "# aFact = cholesky(A[index_active,:]*A[index_active,:]')"
   ]
  },
  {
   "cell_type": "code",
   "execution_count": 23,
   "metadata": {},
   "outputs": [
    {
     "data": {
      "text/plain": [
       "purification (generic function with 2 methods)"
      ]
     },
     "execution_count": 23,
     "metadata": {},
     "output_type": "execute_result"
    }
   ],
   "source": [
    "function findDirection(x, A, b, Anormed,cnormed, index_active)\n",
    "    # Find the Opposite to Circumcenter direction\n",
    "    # Finds indexes J such that b-Ax < ϵ\n",
    "    J = index_active\n",
    "    lenJ = length(J)\n",
    "    # If x is interior, takes direction -c\n",
    "    if isempty(J)\n",
    "        return -cnormed\n",
    "    end\n",
    "    if lenJ == length(x)\n",
    "        X = Anormed[J,:]'\n",
    "        xcirc = FindCircumcenter(X)\n",
    "    else\n",
    "        X = Matrix([cnormed (Anormed[J,:])'])\n",
    "        xcirc = FindCircumcenter(X)\n",
    "    end\n",
    "    return -xcirc\n",
    "end\n",
    "\n",
    "function circus_treating_vertex(c,A,b,Anormed,cnormed,x,index_active)\n",
    "    if checkKKT(c,A,b,x) == 1\n",
    "        return x\n",
    "    end\n",
    "    d = findDirection(x, A, b, Anormed,cnormed, index_active)\n",
    "    α = ratiotest(x,A,b,d)\n",
    "    x = x + α*d/2\n",
    "    d = -c\n",
    "    α = ratiotest(x,A,b,d)\n",
    "    x = x + α*d\n",
    "    return x\n",
    "end\n",
    "\n",
    "function purification(x, A, b, c, num_var,index_active,atol=1e-8)\n",
    "    num_active = length(index_active)\n",
    "    iter = 0\n",
    "    xold = x\n",
    "    if iszero(num_active)\n",
    "        alpha = ratiotest(x,A,b,-c)\n",
    "        x = x - alpha*c\n",
    "        index_active = findall(b - A*x.<= atol)\n",
    "        num_active = length(index_active)\n",
    "    end\n",
    "    \n",
    "    # It is possible that the purification activates more than\n",
    "    # one restriction at the same iteration, hence, there is no\n",
    "    # guarantee that we can get a point in an edge\n",
    "    while num_active < num_var && iter <= num_var\n",
    "        iter += 1\n",
    "        \n",
    "        # In the Cholesky decompostion, we need to use the Hermitian function,\n",
    "        # otherwise numerical errors will say the matrix is not symmetric and the\n",
    "        # cholesky() function fails. Using Hermitian, we avoid this problem.\n",
    "        aFact = cholesky(Hermitian(A[index_active,:]*A[index_active,:]'))\n",
    "        lambda = aFact\\(A[index_active,:]*c)\n",
    "        d = -c +  A[index_active,:]'*lambda\n",
    "        # if norm(d) ≈ 0\n",
    "        #     break\n",
    "        # end\n",
    "        alpha = ratiotest(x,A,b,d)\n",
    "        xnew = x + alpha*d\n",
    "        if norm(xnew - x) < atol\n",
    "            return xnew,x\n",
    "        end\n",
    "        xold = copy(x)\n",
    "        x = xnew\n",
    "        index_active = findall(b - A*x .<  atol)\n",
    "        num_active = length(index_active)\n",
    "    end\n",
    "    return x,xold\n",
    "end"
   ]
  },
  {
   "cell_type": "code",
   "execution_count": null,
   "metadata": {},
   "outputs": [],
   "source": []
  }
 ],
 "metadata": {
  "kernelspec": {
   "display_name": "Julia 1.4.1",
   "language": "julia",
   "name": "julia-1.4"
  },
  "language_info": {
   "file_extension": ".jl",
   "mimetype": "application/julia",
   "name": "julia",
   "version": "1.4.1"
  }
 },
 "nbformat": 4,
 "nbformat_minor": 4
}
