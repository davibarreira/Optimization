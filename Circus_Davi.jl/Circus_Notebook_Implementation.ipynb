{
 "cells": [
  {
   "cell_type": "code",
   "execution_count": 163,
   "metadata": {},
   "outputs": [],
   "source": [
    "include(\"./src/methods.jl\")\n",
    "using PyPlot, JuMP"
   ]
  },
  {
   "cell_type": "code",
   "execution_count": 181,
   "metadata": {},
   "outputs": [],
   "source": [
    "using MathOptInterface"
   ]
  },
  {
   "cell_type": "code",
   "execution_count": 164,
   "metadata": {},
   "outputs": [
    {
     "data": {
      "text/plain": [
       "Dict{Any,Any} with 3 entries:\n",
       "  2 => [2, 3]\n",
       "  3 => [4, 5]\n",
       "  1 => [1]"
      ]
     },
     "execution_count": 164,
     "metadata": {},
     "output_type": "execute_result"
    }
   ],
   "source": [
    "c = [0,0,1]\n",
    "A = [-1. 1. -1.;\n",
    "     -1. -1. -1.;\n",
    "     1. 0. 0.\n",
    "     -1. 0. 0.]\n",
    "b = [0,0,4.,-1.]\n",
    "\n",
    "c_simplex, A_simplex, b_simplex,var_relation = simplex_format(c,A,b)\n",
    "\n",
    "atol = 1e-8\n",
    "max_iter = 1000\n",
    "xzero = []\n",
    "num_const, num_var = size(A)\n",
    "isempty(xzero) ?  x = zeros(num_var) : x = xzero\n",
    "if ~all(A*x - b .<= atol)\n",
    "    phaseI = true\n",
    "    c_phaseI,A_phaseI,b_phaseI,\n",
    "        x_phaseI,bfs,nfs = phaseI_simplex_problem(A_simplex,b_simplex)\n",
    "    x_simplex = SimplexFromBFS(c_phaseI,A_phaseI,\n",
    "        b_phaseI,x_phaseI,index_bfs=bfs,index_nfs=nfs)\n",
    "end\n",
    "var_relation"
   ]
  },
  {
   "cell_type": "code",
   "execution_count": 165,
   "metadata": {},
   "outputs": [
    {
     "data": {
      "text/plain": [
       "4-element Array{Float64,1}:\n",
       "  0.0\n",
       "  0.0\n",
       "  4.0\n",
       " -1.0"
      ]
     },
     "execution_count": 165,
     "metadata": {},
     "output_type": "execute_result"
    }
   ],
   "source": [
    "c = [0,0,1]\n",
    "A = [-1. 1. -1.;\n",
    "     -1. -1. -1.;\n",
    "     1. 0. 0.\n",
    "     -1. 0. 0.]\n",
    "b = [0,0,4.,-1.]"
   ]
  },
  {
   "cell_type": "code",
   "execution_count": 166,
   "metadata": {},
   "outputs": [
    {
     "name": "stdout",
     "output_type": "stream",
     "text": [
      "Coin0506I Presolve 0 (-4) rows, 0 (-3) columns and 0 (-8) elements\n",
      "Clp3002W Empty problem - 0 rows, 0 columns and 0 elements\n",
      "Clp0000I Optimal - objective value -4\n",
      "Coin0511I After Postsolve, objective -4, infeasibilities - dual 0 (0), primal 0 (0)\n",
      "Clp0032I Optimal objective -4 - 0 iterations time 0,002, Presolve 0,00\n"
     ]
    },
    {
     "data": {
      "text/plain": [
       "3-element Array{Float64,1}:\n",
       "  4.0\n",
       " -0.0\n",
       " -4.0"
      ]
     },
     "execution_count": 166,
     "metadata": {},
     "output_type": "execute_result"
    }
   ],
   "source": [
    "model = Model(Clp.Optimizer)\n",
    "@variable(model, x[1:size(c)[1]])\n",
    "@constraint(model,A*x.<=b) \n",
    "# @constraint(model,x[4].>=0) \n",
    "@objective(model, Min, c'*x)\n",
    "optimize!(model)\n",
    "xo = zeros(size(c)[1])\n",
    "for i = 1:size(c)[1]\n",
    "    xo[i] = value(x[i])\n",
    "end\n",
    "xo"
   ]
  },
  {
   "cell_type": "code",
   "execution_count": 167,
   "metadata": {},
   "outputs": [
    {
     "data": {
      "text/plain": [
       "3-element Array{Float64,1}:\n",
       "  4.0\n",
       "  0.0\n",
       " -4.0"
      ]
     },
     "execution_count": 167,
     "metadata": {},
     "output_type": "execute_result"
    }
   ],
   "source": [
    "c = [0,0,1]\n",
    "A = [-1. 1. -1.;\n",
    "     -1. -1. -1.;\n",
    "     1. 0. 0.\n",
    "     -1. 0. 0.]\n",
    "b = [0,0,4.,0.]\n",
    "cs,As,bs,var_relation = simplex_format(c,A,b)\n",
    "x = [0.,0,0,0,0,0,0,4]\n",
    "x_simplex = SimplexFromBFS(cs,As,bs,x,index_bfs=[6,7,8],index_nfs=[1,2,3,4,5])\n",
    "x_circus = variable_simplex_to_circus(var_relation,x_simplex)\n",
    "x_simplex = variable_circus_to_simplex(var_relation,x_circus,cs,As,bs)\n",
    "x_circus"
   ]
  },
  {
   "cell_type": "markdown",
   "metadata": {},
   "source": [
    "#### Phase 1\n"
   ]
  },
  {
   "cell_type": "code",
   "execution_count": 168,
   "metadata": {},
   "outputs": [
    {
     "data": {
      "text/plain": [
       "([0.0, 0.0, 0.0, 0.0, 0.0, 0.0, 0.0, 0.0, 0.0, 1.0, 1.0, 1.0, 1.0], [-1.0 1.0 … 0.0 0.0; -1.0 -1.0 … 0.0 0.0; 1.0 0.0 … 1.0 0.0; 1.0 -0.0 … 0.0 1.0], [0.0; 0.0; 4.0; 1.0], [0.0, 0.0, 0.0, 0.0, 0.0, 0.0, 0.0, 0.0, 0.0, 0.0, 0.0, 4.0, 1.0], [10, 11, 12, 13], [1, 2, 3, 4, 5, 6, 7, 8, 9])"
      ]
     },
     "execution_count": 168,
     "metadata": {},
     "output_type": "execute_result"
    }
   ],
   "source": [
    "c = [0,0,1]\n",
    "A = [-1. 1. -1.;\n",
    "     -1. -1. -1.;\n",
    "     1. 0. 0.\n",
    "     -1. 0. 0.]\n",
    "b = [0,0,4.,-1.]\n",
    "\n",
    "# x = [0,0,0,0,0,0,0,4,1]\n",
    "cs,As,bs,var_relation = simplex_format(c,A,b)\n",
    "cpi, Api, bpi, xpi,bfs_pi,nfs_pi = phaseI_simplex_problem(As,bs)"
   ]
  },
  {
   "cell_type": "code",
   "execution_count": 169,
   "metadata": {},
   "outputs": [
    {
     "data": {
      "text/plain": [
       "3-element Array{Float64,1}:\n",
       "  1.0\n",
       "  0.0\n",
       " -1.0"
      ]
     },
     "execution_count": 169,
     "metadata": {},
     "output_type": "execute_result"
    }
   ],
   "source": [
    "x_simplex = SimplexFromBFS(cpi,Api,bpi,xpi,index_bfs=bfs_pi,index_nfs=nfs_pi)\n",
    "x_circus = variable_simplex_to_circus(var_relation,x_simplex)"
   ]
  },
  {
   "cell_type": "code",
   "execution_count": 496,
   "metadata": {},
   "outputs": [
    {
     "name": "stdout",
     "output_type": "stream",
     "text": [
      "Coin0506I Presolve 0 (-17) rows, 0 (-13) columns and 0 (-33) elements\n",
      "Clp3002W Empty problem - 0 rows, 0 columns and 0 elements\n",
      "Clp0000I Optimal - objective value 0\n",
      "Coin0511I After Postsolve, objective 0, infeasibilities - dual 0 (0), primal 0 (0)\n",
      "Clp0032I Optimal objective 0 - 0 iterations time 0,002, Presolve 0,00\n"
     ]
    }
   ],
   "source": [
    "model = Model(Clp.Optimizer)\n",
    "@variable(model, x[1:size(cpi)[1]])\n",
    "@constraint(model,Api*x.==bpi) \n",
    "@constraint(model,x.>=zeros(size(cpi)[1])) \n",
    "@objective(model, Min, cpi'*x)\n",
    "optimize!(model)\n",
    "xo = zeros(size(cpi)[1])\n",
    "for i = 1:size(cpi)[1]\n",
    "    xo[i] = value(x[i])\n",
    "end\n",
    "# x_circus = variable_simplex_to_circus(var_relation,xo)\n",
    "\n",
    "# termination_status(model)\n",
    "# display(typeof(MOI.OPTIMAL))"
   ]
  },
  {
   "cell_type": "code",
   "execution_count": 498,
   "metadata": {},
   "outputs": [
    {
     "data": {
      "text/plain": [
       "PyObject <mpl_toolkits.mplot3d.art3d.Path3DCollection object at 0x7f292ab253d0>"
      ]
     },
     "execution_count": 498,
     "metadata": {},
     "output_type": "execute_result"
    }
   ],
   "source": [
    "c = [0,0,1]\n",
    "A = [-1. 1. -1.;\n",
    "     -1. -1. -1.;\n",
    "     1. 0. 0.\n",
    "     -1. 0. 0.]\n",
    "b = [0,0,4.,-1.]\n",
    "# xo = x_circus\n",
    "\n",
    "pygui(true)\n",
    "px= [1,4 ,4 ,1 ,1,1,1 ,1,4,4,4 ,4]\n",
    "py= [0,0 ,-4,-4,0,4,-4,4,4,-4,0,4]\n",
    "pz= [-1,-4,0 ,3 ,-1,3,3 ,3,0,0,-4,0]\n",
    "plt= PyPlot.plot3D(px,py,pz)\n",
    "PyPlot.scatter3D([xo[1]],[xo[2]],[xo[3]])"
   ]
  },
  {
   "cell_type": "markdown",
   "metadata": {},
   "source": [
    "### Checking if BFS is Optimal"
   ]
  },
  {
   "cell_type": "code",
   "execution_count": 499,
   "metadata": {},
   "outputs": [
    {
     "data": {
      "text/plain": [
       "1"
      ]
     },
     "execution_count": 499,
     "metadata": {},
     "output_type": "execute_result"
    }
   ],
   "source": [
    "function check_optimality(c,A,b,x;index_bfs=[],index_nfs=[])\n",
    "    c = -c\n",
    "    # Initial setup\n",
    "    initial_bfs = x\n",
    "    e  = 10^-7\n",
    "    if size(index_bfs)[1]>0\n",
    "        B = index_bfs\n",
    "        N = index_nfs\n",
    "    else\n",
    "        B  = findall(initial_bfs .> 0+e)\n",
    "        N  = findall(initial_bfs .<= 0+e)\n",
    "    end\n",
    "    xn = initial_bfs[N]; xb = initial_bfs[B];\n",
    "\n",
    "    Ab = A[:,B]; An = A[:,N]; cb = c[B]; cn = c[N]\n",
    "    p  = inv(Ab)*b\n",
    "    Q  = -inv(Ab)*An\n",
    "    r  = (cb'*Q + cn')'\n",
    "    if all(r.<= 0+e)\n",
    "        return 1\n",
    "    else\n",
    "        return 0\n",
    "    end\n",
    "end\n",
    "check_optimality(cpi,Api,bpi,xo)"
   ]
  },
  {
   "cell_type": "code",
   "execution_count": 500,
   "metadata": {},
   "outputs": [
    {
     "data": {
      "text/plain": [
       "1"
      ]
     },
     "execution_count": 500,
     "metadata": {},
     "output_type": "execute_result"
    }
   ],
   "source": [
    "c = [0,0,1]\n",
    "A = [-1. 1. -1.;\n",
    "     -1. -1. -1.;\n",
    "     1. 0. 0.\n",
    "     -1. 0. 0.]\n",
    "b = [0,0,4.,0.]\n",
    "cs,As,bs,var_relation = simplex_format(c,A,b)\n",
    "x = [0.,0,0,0,0,0,0,4]\n",
    "x_simplex = SimplexFromBFS(cs,As,bs,x,index_bfs=[6,7,8],index_nfs=[1,2,3,4,5])\n",
    "x_circus  = variable_simplex_to_circus(var_relation,x_simplex)\n",
    "active_ix = [1,2,3]\n",
    "active_ix_simplex = []\n",
    "for i in active_ix\n",
    "    push!(active_ix_simplex,var_relation[i][1])\n",
    "end\n",
    "nactive_ix_simplex = filter(x -> !(x in active_ix_simplex),collect(1:size(x_simplex)[1]))\n",
    "\n",
    "check_optimality(cs,As,bs,x_simplex,index_bfs=active_ix_simplex,index_nfs=nactive_ix_simplex)"
   ]
  },
  {
   "cell_type": "markdown",
   "metadata": {},
   "source": [
    "### Importing MPS file test case "
   ]
  },
  {
   "cell_type": "code",
   "execution_count": 527,
   "metadata": {},
   "outputs": [
    {
     "name": "stdout",
     "output_type": "stream",
     "text": [
      "objective_value(model) = -464.75314285714296\n",
      "X_sol = [339.94285714285724, 0.0, 0.0, 0.0, 0.0, 54.50000000000001, 0.0, 0.0, 19.307142857142853, 0.0, 25.499999999999993, 0.0, 500.00000000000006, 18.214285714285708, 84.80000000000001, 0.0, 0.0, 24.079999999999984, 80.0, 18.214285714285708, -2.3606070955485056e-14, 215.00000000000003, 0.0, -5.684341886080802e-14, 0.0, 0.0, 0.0, 475.92000000000013, 0.0, 0.0, 0.0, 383.94285714285724]\n",
      "Coin0506I Presolve 6 (-21) rows, 9 (-23) columns and 26 (-57) elements\n",
      "Clp0006I 0  Obj 0 Dual inf 1,8228541 (3)\n",
      "Clp0006I 3  Obj -464,75314\n",
      "Clp0000I Optimal - objective value -464,75314\n",
      "Coin0511I After Postsolve, objective -464,75314, infeasibilities - dual 0 (0), primal 0 (0)\n",
      "Clp0032I Optimal objective -464,7531429 - 3 iterations time 0,002, Presolve 0,00\n"
     ]
    }
   ],
   "source": [
    "model = JuMP.read_from_file(\"../TestCases/afiro.mps\")\n",
    "set_optimizer(model,Clp.Optimizer)\n",
    "optimize!(model)\n",
    "variables = JuMP.all_variables(model)\n",
    "X_sol = zeros(size(variables)[1])\n",
    "for (i,v) in enumerate(variables)\n",
    "    X_sol[i] = value(v)\n",
    "end\n",
    "\n",
    "@show objective_value(model);\n",
    "@show X_sol;"
   ]
  },
  {
   "cell_type": "code",
   "execution_count": 207,
   "metadata": {},
   "outputs": [
    {
     "data": {
      "text/plain": [
       "3-element Array{Tuple{DataType,DataType},1}:\n",
       " (GenericAffExpr{Float64,VariableRef}, MathOptInterface.EqualTo{Float64})\n",
       " (GenericAffExpr{Float64,VariableRef}, MathOptInterface.LessThan{Float64})\n",
       " (VariableRef, MathOptInterface.GreaterThan{Float64})"
      ]
     },
     "execution_count": 207,
     "metadata": {},
     "output_type": "execute_result"
    }
   ],
   "source": [
    "list_of_constraint_types(model)"
   ]
  },
  {
   "cell_type": "code",
   "execution_count": 365,
   "metadata": {},
   "outputs": [
    {
     "data": {
      "text/latex": [
       "$$ -0.6 X23 - 0.48 X36 + 10 X39 - 0.4 X02 - 0.32 X14 $$"
      ],
      "text/plain": [
       "-0.6 X23 - 0.48 X36 + 10 X39 - 0.4 X02 - 0.32 X14"
      ]
     },
     "execution_count": 365,
     "metadata": {},
     "output_type": "execute_result"
    }
   ],
   "source": [
    "gc = JuMP.all_constraints(model,VariableRef, MOI.GreaterThan{Float64})\n",
    "ec = JuMP.all_constraints(model,GenericAffExpr{Float64,VariableRef}, MOI.EqualTo{Float64})\n",
    "lc = JuMP.all_constraints(model,GenericAffExpr{Float64,VariableRef}, MOI.LessThan{Float64})\n",
    "c = JuMP.objective_function(model)"
   ]
  },
  {
   "cell_type": "code",
   "execution_count": 489,
   "metadata": {},
   "outputs": [],
   "source": [
    "variables = JuMP.all_variables(model)\n",
    "A = zeros(1,size(variables)[1]+size(ec)[1])\n",
    "bl= zeros(1)\n",
    "for i in 1:size(lc)[1]\n",
    "    Aux = zeros(1,size(variables)[1]+size(ec)[1])\n",
    "    lc_terms = constraint_object(lc[i]).func.terms\n",
    "    lc_value = constraint_object(lc[i]).set.upper\n",
    "    if i == 1\n",
    "        A[1,indexin(lc_terms.keys,variables)] = lc_terms.vals\n",
    "        bl = lc_value\n",
    "    else\n",
    "        Aux[1,indexin(lc_terms.keys,variables)] = lc_terms.vals\n",
    "        A = vcat(A,Aux)\n",
    "        bl = vcat(bl,lc_value)\n",
    "    end\n",
    "end\n",
    "\n",
    "for i in 1:size(gc)[1]\n",
    "    Aux = zeros(1,size(variables)[1]+size(ec)[1])\n",
    "    lc_terms = constraint_object(gc[i]).func\n",
    "    lc_value = constraint_object(gc[i]).set.lower\n",
    "    Aux[1,findfirst(variables .== lc_terms)] = -1\n",
    "    A = vcat(A,Aux)\n",
    "    bl = vcat(bl,lc_value)\n",
    "end\n",
    "\n",
    "for i in 1:size(ec)[1]\n",
    "    Aux = zeros(1,size(variables)[1]+size(ec)[1])\n",
    "    lc_terms = constraint_object(ec[i]).func.terms\n",
    "    lc_value = constraint_object(ec[i]).set.value\n",
    "    Aux[1,indexin(lc_terms.keys,variables)] = lc_terms.vals\n",
    "    Aux[1,size(variables)[1]+i] = -1\n",
    "    A = vcat(A,Aux)\n",
    "    bl = vcat(bl,lc_value)\n",
    "end\n",
    "\n",
    "for i in 1:size(ec)[1]\n",
    "    Aux = zeros(1,size(variables)[1]+size(ec)[1])\n",
    "    Aux[1,size(variables)[1]+i] = -1\n",
    "    A = vcat(A,Aux)\n",
    "    bl = vcat(bl,0.0)\n",
    "end"
   ]
  },
  {
   "cell_type": "code",
   "execution_count": 493,
   "metadata": {},
   "outputs": [
    {
     "data": {
      "text/plain": [
       "67×40 Array{Float64,2}:\n",
       " 0.0  0.0   0.0   0.0   0.0     0.0  …   0.0   0.0   0.0   0.0   0.0   0.0\n",
       " 0.0  0.0   1.0   0.0   0.0     0.0      0.0   0.0   0.0   0.0   0.0   0.0\n",
       " 0.0  0.0   0.0   0.0   0.0     0.0      0.0   0.0   0.0   0.0   0.0   0.0\n",
       " 1.4  0.0   0.0   0.0   0.0     0.0      0.0   0.0   0.0   0.0   0.0   0.0\n",
       " 0.0  0.0   0.0   0.0   0.0    -1.0      0.0   0.0   0.0   0.0   0.0   0.0\n",
       " 0.0  0.0   0.0   0.0   0.0     0.0  …   0.0   0.0   0.0   0.0   0.0   0.0\n",
       " 0.0  0.0   0.0   0.0   0.0     0.0      0.0   0.0   0.0   0.0   0.0   0.0\n",
       " 0.0  0.0   0.0   0.0   0.0     0.0      0.0   0.0   0.0   0.0   0.0   0.0\n",
       " 0.0  0.0   0.0   0.0   1.0     0.0      0.0   0.0   0.0   0.0   0.0   0.0\n",
       " 0.0  0.0   0.0   0.0   0.313   0.0      0.0   0.0   0.0   0.0   0.0   0.0\n",
       " 0.0  0.0   0.0   0.0   0.0     0.0  …   0.0   0.0   0.0   0.0   0.0   0.0\n",
       " 0.0  0.0   0.0   0.0   0.0     0.0      0.0   0.0   0.0   0.0   0.0   0.0\n",
       " 0.0  0.0   0.0   0.0   0.0     0.0      0.0   0.0   0.0   0.0   0.0   0.0\n",
       " ⋮                              ⋮    ⋱         ⋮                      \n",
       " 0.0  0.0   0.0   0.0   0.0     0.0  …   0.0   0.0  -1.0   0.0   0.0   0.0\n",
       " 0.0  0.0   0.0   0.0   0.0     0.0      0.0   0.0   0.0  -1.0   0.0   0.0\n",
       " 0.0  0.0   0.0   0.0  -0.96    0.0      0.0   0.0   0.0   0.0  -1.0   0.0\n",
       " 0.0  0.0  -0.39  0.0   0.0     0.0      0.0   0.0   0.0   0.0   0.0  -1.0\n",
       " 0.0  0.0   0.0   0.0   0.0     0.0      0.0   0.0   0.0   0.0   0.0   0.0\n",
       " 0.0  0.0   0.0   0.0   0.0     0.0  …   0.0   0.0   0.0   0.0   0.0   0.0\n",
       " 0.0  0.0   0.0   0.0   0.0     0.0     -1.0   0.0   0.0   0.0   0.0   0.0\n",
       " 0.0  0.0   0.0   0.0   0.0     0.0      0.0  -1.0   0.0   0.0   0.0   0.0\n",
       " 0.0  0.0   0.0   0.0   0.0     0.0      0.0   0.0  -1.0   0.0   0.0   0.0\n",
       " 0.0  0.0   0.0   0.0   0.0     0.0      0.0   0.0   0.0  -1.0   0.0   0.0\n",
       " 0.0  0.0   0.0   0.0   0.0     0.0  …   0.0   0.0   0.0   0.0  -1.0   0.0\n",
       " 0.0  0.0   0.0   0.0   0.0     0.0      0.0   0.0   0.0   0.0   0.0  -1.0"
      ]
     },
     "execution_count": 493,
     "metadata": {},
     "output_type": "execute_result"
    }
   ],
   "source": [
    "A"
   ]
  }
 ],
 "metadata": {
  "kernelspec": {
   "display_name": "Julia 1.4.1",
   "language": "julia",
   "name": "julia-1.4"
  },
  "language_info": {
   "file_extension": ".jl",
   "mimetype": "application/julia",
   "name": "julia",
   "version": "1.4.1"
  }
 },
 "nbformat": 4,
 "nbformat_minor": 4
}
