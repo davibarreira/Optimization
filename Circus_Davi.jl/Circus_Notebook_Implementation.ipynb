{
 "cells": [
  {
   "cell_type": "code",
   "execution_count": 1,
   "metadata": {},
   "outputs": [],
   "source": [
    "include(\"./src/methods.jl\")\n",
    "using PyPlot, JuMP"
   ]
  },
  {
   "cell_type": "code",
   "execution_count": null,
   "metadata": {},
   "outputs": [],
   "source": [
    "c = [0,0,1]\n",
    "A = [-1. 1. -1.;\n",
    "     -1. -1. -1.;\n",
    "     1. 0. 0.\n",
    "     -1. 0. 0.]\n",
    "b = [0,0,4.,-1.]\n",
    "\n",
    "c_simplex, A_simplex, b_simplex,var_relation = simplex_format(c,A,b)\n",
    "\n",
    "atol = 1e-8\n",
    "max_iter = 1000\n",
    "xzero = []\n",
    "num_const, num_var = size(A)\n",
    "isempty(xzero) ?  x = zeros(num_var) : x = xzero\n",
    "if ~all(A*x - b .<= atol)\n",
    "    phaseI = true\n",
    "    c_phaseI,A_phaseI,b_phaseI,\n",
    "        x_phaseI,bfs,nfs = phaseI_simplex_problem(A_simplex,b_simplex)\n",
    "    x_simplex = SimplexFromBFS(c_phaseI,A_phaseI,\n",
    "        b_phaseI,x_phaseI,index_bfs=bfs,index_nfs=nfs)\n",
    "end\n",
    "var_relation"
   ]
  },
  {
   "cell_type": "code",
   "execution_count": null,
   "metadata": {},
   "outputs": [],
   "source": [
    "c = [0,0,1]\n",
    "A = [-1. 1. -1.;\n",
    "     -1. -1. -1.;\n",
    "     1. 0. 0.\n",
    "     -1. 0. 0.]\n",
    "b = [0,0,4.,-1.]"
   ]
  },
  {
   "cell_type": "code",
   "execution_count": null,
   "metadata": {},
   "outputs": [],
   "source": [
    "model = Model(Clp.Optimizer)\n",
    "@variable(model, x[1:size(c)[1]])\n",
    "@constraint(model,A*x.<=b) \n",
    "# @constraint(model,x[4].>=0) \n",
    "@objective(model, Min, c'*x)\n",
    "optimize!(model)\n",
    "xo = zeros(size(c)[1])\n",
    "for i = 1:size(c)[1]\n",
    "    xo[i] = value(x[i])\n",
    "end\n",
    "xo"
   ]
  },
  {
   "cell_type": "code",
   "execution_count": null,
   "metadata": {},
   "outputs": [],
   "source": [
    "c = [0,0,1]\n",
    "A = [-1. 1. -1.;\n",
    "     -1. -1. -1.;\n",
    "     1. 0. 0.\n",
    "     -1. 0. 0.]\n",
    "b = [0,0,4.,0.]\n",
    "cs,As,bs,var_relation = simplex_format(c,A,b)\n",
    "x = [0.,0,0,0,0,0,0,4]\n",
    "x_simplex = SimplexFromBFS(cs,As,bs,x,index_bfs=[6,7,8],index_nfs=[1,2,3,4,5])\n",
    "x_circus = variable_simplex_to_circus(var_relation,x_simplex)\n",
    "x_simplex = variable_circus_to_simplex(var_relation,x_circus,cs,As,bs)\n",
    "x_circus"
   ]
  },
  {
   "cell_type": "markdown",
   "metadata": {},
   "source": [
    "#### Phase 1\n"
   ]
  },
  {
   "cell_type": "code",
   "execution_count": null,
   "metadata": {},
   "outputs": [],
   "source": [
    "c = [0,0,1]\n",
    "A = [-1. 1. -1.;\n",
    "     -1. -1. -1.;\n",
    "     1. 0. 0.\n",
    "     -1. 0. 0.]\n",
    "b = [0,0,4.,-1.]\n",
    "\n",
    "# x = [0,0,0,0,0,0,0,4,1]\n",
    "cs,As,bs,var_relation = simplex_format(c,A,b)\n",
    "cpi, Api, bpi, xpi,bfs_pi,nfs_pi = phaseI_simplex_problem(As,bs)"
   ]
  },
  {
   "cell_type": "code",
   "execution_count": null,
   "metadata": {},
   "outputs": [],
   "source": [
    "x_simplex = SimplexFromBFS(cpi,Api,bpi,xpi,index_bfs=bfs_pi,index_nfs=nfs_pi)\n",
    "x_circus = variable_simplex_to_circus(var_relation,x_simplex)"
   ]
  },
  {
   "cell_type": "code",
   "execution_count": null,
   "metadata": {},
   "outputs": [],
   "source": [
    "model = Model(Clp.Optimizer)\n",
    "@variable(model, x[1:size(cpi)[1]])\n",
    "@constraint(model,Api*x.==bpi) \n",
    "@constraint(model,x.>=zeros(size(cpi)[1])) \n",
    "@objective(model, Min, cpi'*x)\n",
    "optimize!(model)\n",
    "xo = zeros(size(cpi)[1])\n",
    "for i = 1:size(cpi)[1]\n",
    "    xo[i] = value(x[i])\n",
    "end\n",
    "# x_circus = variable_simplex_to_circus(var_relation,xo)\n",
    "\n",
    "# termination_status(model)\n",
    "# display(typeof(MOI.OPTIMAL))"
   ]
  },
  {
   "cell_type": "code",
   "execution_count": null,
   "metadata": {},
   "outputs": [],
   "source": [
    "c = [0,0,1]\n",
    "A = [-1. 1. -1.;\n",
    "     -1. -1. -1.;\n",
    "     1. 0. 0.\n",
    "     -1. 0. 0.]\n",
    "b = [0,0,4.,-1.]\n",
    "# xo = x_circus\n",
    "\n",
    "pygui(true)\n",
    "px= [1,4 ,4 ,1 ,1,1,1 ,1,4,4,4 ,4]\n",
    "py= [0,0 ,-4,-4,0,4,-4,4,4,-4,0,4]\n",
    "pz= [-1,-4,0 ,3 ,-1,3,3 ,3,0,0,-4,0]\n",
    "plt= PyPlot.plot3D(px,py,pz)\n",
    "PyPlot.scatter3D([xo[1]],[xo[2]],[xo[3]])"
   ]
  },
  {
   "cell_type": "markdown",
   "metadata": {},
   "source": [
    "### Checking if BFS is Optimal"
   ]
  },
  {
   "cell_type": "code",
   "execution_count": 150,
   "metadata": {},
   "outputs": [
    {
     "data": {
      "text/plain": [
       "1"
      ]
     },
     "execution_count": 150,
     "metadata": {},
     "output_type": "execute_result"
    }
   ],
   "source": [
    "function check_optimality(c,A,b,x;index_bfs=[],index_nfs=[])\n",
    "    c = -c\n",
    "    # Initial setup\n",
    "    initial_bfs = x\n",
    "    e  = 10^-7\n",
    "    if size(index_bfs)[1]>0\n",
    "        B = index_bfs\n",
    "        N = index_nfs\n",
    "    else\n",
    "        B  = findall(initial_bfs .> 0+e)\n",
    "        N  = findall(initial_bfs .<= 0+e)\n",
    "    end\n",
    "    xn = initial_bfs[N]; xb = initial_bfs[B];\n",
    "\n",
    "    Ab = A[:,B]; An = A[:,N]; cb = c[B]; cn = c[N]\n",
    "    p  = inv(Ab)*b\n",
    "    Q  = -inv(Ab)*An\n",
    "    r  = (cb'*Q + cn')'\n",
    "    if all(r.<= 0+e)\n",
    "        return 1\n",
    "    else\n",
    "        return 0\n",
    "    end\n",
    "end\n",
    "check_optimality(cpi,Api,bpi,xo)"
   ]
  },
  {
   "cell_type": "code",
   "execution_count": 162,
   "metadata": {},
   "outputs": [
    {
     "data": {
      "text/plain": [
       "1"
      ]
     },
     "execution_count": 162,
     "metadata": {},
     "output_type": "execute_result"
    }
   ],
   "source": [
    "c = [0,0,1]\n",
    "A = [-1. 1. -1.;\n",
    "     -1. -1. -1.;\n",
    "     1. 0. 0.\n",
    "     -1. 0. 0.]\n",
    "b = [0,0,4.,0.]\n",
    "cs,As,bs,var_relation = simplex_format(c,A,b)\n",
    "x = [0.,0,0,0,0,0,0,4]\n",
    "x_simplex = SimplexFromBFS(cs,As,bs,x,index_bfs=[6,7,8],index_nfs=[1,2,3,4,5])\n",
    "x_circus  = variable_simplex_to_circus(var_relation,x_simplex)\n",
    "active_ix = [1,2,3]\n",
    "active_ix_simplex = []\n",
    "for i in active_ix\n",
    "    push!(active_ix_simplex,var_relation[i][1])\n",
    "end\n",
    "nactive_ix_simplex = filter(x -> !(x in active_ix_simplex),collect(1:size(x_simplex)[1]))\n",
    "\n",
    "check_optimality(cs,As,bs,x_simplex,index_bfs=active_ix_simplex,index_nfs=nactive_ix_simplex)"
   ]
  }
 ],
 "metadata": {
  "kernelspec": {
   "display_name": "Julia 1.4.1",
   "language": "julia",
   "name": "julia-1.4"
  },
  "language_info": {
   "file_extension": ".jl",
   "mimetype": "application/julia",
   "name": "julia",
   "version": "1.4.1"
  }
 },
 "nbformat": 4,
 "nbformat_minor": 4
}
