{
 "cells": [
  {
   "cell_type": "code",
   "execution_count": 100,
   "metadata": {},
   "outputs": [],
   "source": [
    "include(\"./src/methods.jl\")\n",
    "using PyPlot, JuMP"
   ]
  },
  {
   "cell_type": "code",
   "execution_count": 101,
   "metadata": {},
   "outputs": [],
   "source": [
    "using MathOptInterface"
   ]
  },
  {
   "cell_type": "code",
   "execution_count": 102,
   "metadata": {},
   "outputs": [
    {
     "data": {
      "text/plain": [
       "Dict{Any,Any} with 3 entries:\n",
       "  2 => [2, 3]\n",
       "  3 => [4, 5]\n",
       "  1 => [1]"
      ]
     },
     "execution_count": 102,
     "metadata": {},
     "output_type": "execute_result"
    }
   ],
   "source": [
    "c = [0,0,1]\n",
    "A = [-1. 1. -1.;\n",
    "     -1. -1. -1.;\n",
    "     1. 0. 0.\n",
    "     -1. 0. 0.]\n",
    "b = [0,0,4.,-1.]\n",
    "\n",
    "c_simplex, A_simplex, b_simplex,var_relation = simplex_format(c,A,b)\n",
    "\n",
    "atol = 1e-8\n",
    "max_iter = 1000\n",
    "xzero = []\n",
    "num_const, num_var = size(A)\n",
    "isempty(xzero) ?  x = zeros(num_var) : x = xzero\n",
    "if ~all(A*x - b .<= atol)\n",
    "    phaseI = true\n",
    "    c_phaseI,A_phaseI,b_phaseI,\n",
    "        x_phaseI,bfs,nfs = phaseI_simplex_problem(A_simplex,b_simplex)\n",
    "    x_simplex = SimplexFromBFS(c_phaseI,A_phaseI,\n",
    "        b_phaseI,x_phaseI,index_bfs=bfs,index_nfs=nfs)\n",
    "end\n",
    "var_relation"
   ]
  },
  {
   "cell_type": "code",
   "execution_count": 103,
   "metadata": {},
   "outputs": [
    {
     "data": {
      "text/plain": [
       "4-element Array{Float64,1}:\n",
       "  0.0\n",
       "  0.0\n",
       "  4.0\n",
       " -1.0"
      ]
     },
     "execution_count": 103,
     "metadata": {},
     "output_type": "execute_result"
    }
   ],
   "source": [
    "c = [0,0,1]\n",
    "A = [-1. 1. -1.;\n",
    "     -1. -1. -1.;\n",
    "     1. 0. 0.\n",
    "     -1. 0. 0.]\n",
    "b = [0,0,4.,-1.]"
   ]
  },
  {
   "cell_type": "code",
   "execution_count": 104,
   "metadata": {},
   "outputs": [
    {
     "name": "stdout",
     "output_type": "stream",
     "text": [
      "Coin0506I Presolve 0 (-4) rows, 0 (-3) columns and 0 (-8) elements\n",
      "Clp3002W Empty problem - 0 rows, 0 columns and 0 elements\n",
      "Clp0000I Optimal - objective value -4\n",
      "Coin0511I After Postsolve, objective -4, infeasibilities - dual 0 (0), primal 0 (0)\n",
      "Clp0032I Optimal objective -4 - 0 iterations time 0,002, Presolve 0,00\n"
     ]
    },
    {
     "data": {
      "text/plain": [
       "3-element Array{Float64,1}:\n",
       "  4.0\n",
       " -0.0\n",
       " -4.0"
      ]
     },
     "execution_count": 104,
     "metadata": {},
     "output_type": "execute_result"
    }
   ],
   "source": [
    "model = Model(Clp.Optimizer)\n",
    "@variable(model, x[1:size(c)[1]])\n",
    "@constraint(model,A*x.<=b) \n",
    "@objective(model, Min, c'*x)\n",
    "optimize!(model)\n",
    "xo = zeros(size(c)[1])\n",
    "for i = 1:size(c)[1]\n",
    "    xo[i] = value(x[i])\n",
    "end\n",
    "xo"
   ]
  },
  {
   "cell_type": "code",
   "execution_count": 105,
   "metadata": {},
   "outputs": [
    {
     "data": {
      "text/plain": [
       "3-element Array{Float64,1}:\n",
       "  4.0\n",
       "  0.0\n",
       " -4.0"
      ]
     },
     "execution_count": 105,
     "metadata": {},
     "output_type": "execute_result"
    }
   ],
   "source": [
    "c = [0,0,1]\n",
    "A = [-1. 1. -1.;\n",
    "     -1. -1. -1.;\n",
    "     1. 0. 0.\n",
    "     -1. 0. 0.]\n",
    "b = [0,0,4.,0.]\n",
    "cs,As,bs,var_relation = simplex_format(c,A,b)\n",
    "x = [0.,0,0,0,0,0,0,4]\n",
    "x_simplex = SimplexFromBFS(cs,As,bs,x,index_bfs=[6,7,8],index_nfs=[1,2,3,4,5])\n",
    "x_circus = variable_simplex_to_circus(var_relation,x_simplex)\n",
    "x_simplex = variable_circus_to_simplex(var_relation,x_circus,cs,As,bs)\n",
    "x_circus"
   ]
  },
  {
   "cell_type": "markdown",
   "metadata": {},
   "source": [
    "#### Phase 1\n"
   ]
  },
  {
   "cell_type": "code",
   "execution_count": 106,
   "metadata": {},
   "outputs": [
    {
     "data": {
      "text/plain": [
       "([0.0, 0.0, 0.0, 0.0, 0.0, 0.0, 0.0, 0.0, 0.0, 1.0, 1.0, 1.0, 1.0], [-1.0 1.0 … 0.0 0.0; -1.0 -1.0 … 0.0 0.0; 1.0 0.0 … 1.0 0.0; 1.0 -0.0 … 0.0 1.0], [0.0; 0.0; 4.0; 1.0], [0.0, 0.0, 0.0, 0.0, 0.0, 0.0, 0.0, 0.0, 0.0, 0.0, 0.0, 4.0, 1.0], [10, 11, 12, 13], [1, 2, 3, 4, 5, 6, 7, 8, 9])"
      ]
     },
     "execution_count": 106,
     "metadata": {},
     "output_type": "execute_result"
    }
   ],
   "source": [
    "c = [0,0,1]\n",
    "A = [-1. 1. -1.;\n",
    "     -1. -1. -1.;\n",
    "     1. 0. 0.\n",
    "     -1. 0. 0.]\n",
    "b = [0,0,4.,-1.]\n",
    "\n",
    "# x = [0,0,0,0,0,0,0,4,1]\n",
    "cs,As,bs,var_relation = simplex_format(c,A,b)\n",
    "cpi, Api, bpi, xpi,bfs_pi,nfs_pi = phaseI_simplex_problem(As,bs)"
   ]
  },
  {
   "cell_type": "code",
   "execution_count": 107,
   "metadata": {},
   "outputs": [
    {
     "data": {
      "text/plain": [
       "3-element Array{Float64,1}:\n",
       "  1.0\n",
       "  0.0\n",
       " -1.0"
      ]
     },
     "execution_count": 107,
     "metadata": {},
     "output_type": "execute_result"
    }
   ],
   "source": [
    "x_simplex = SimplexFromBFS(cpi,Api,bpi,xpi,index_bfs=bfs_pi,index_nfs=nfs_pi)\n",
    "x_circus = variable_simplex_to_circus(var_relation,x_simplex)"
   ]
  },
  {
   "cell_type": "code",
   "execution_count": 108,
   "metadata": {},
   "outputs": [
    {
     "name": "stdout",
     "output_type": "stream",
     "text": [
      "Coin0506I Presolve 0 (-17) rows, 0 (-13) columns and 0 (-33) elements\n",
      "Clp3002W Empty problem - 0 rows, 0 columns and 0 elements\n",
      "Clp0000I Optimal - objective value 0\n",
      "Coin0511I After Postsolve, objective 0, infeasibilities - dual 0 (0), primal 0 (0)\n",
      "Clp0032I Optimal objective 0 - 0 iterations time 0,002, Presolve 0,00\n"
     ]
    }
   ],
   "source": [
    "model = Model(Clp.Optimizer)\n",
    "@variable(model, x[1:size(cpi)[1]])\n",
    "@constraint(model,Api*x.==bpi) \n",
    "@constraint(model,x.>=zeros(size(cpi)[1])) \n",
    "@objective(model, Min, cpi'*x)\n",
    "optimize!(model)\n",
    "xo = zeros(size(cpi)[1])\n",
    "for i = 1:size(cpi)[1]\n",
    "    xo[i] = value(x[i])\n",
    "end\n"
   ]
  },
  {
   "cell_type": "code",
   "execution_count": 109,
   "metadata": {},
   "outputs": [
    {
     "data": {
      "text/plain": [
       "PyObject <mpl_toolkits.mplot3d.art3d.Path3DCollection object at 0x7f8a0980ce50>"
      ]
     },
     "execution_count": 109,
     "metadata": {},
     "output_type": "execute_result"
    }
   ],
   "source": [
    "c = [0,0,1]\n",
    "A = [-1. 1. -1.;\n",
    "     -1. -1. -1.;\n",
    "     1. 0. 0.\n",
    "     -1. 0. 0.]\n",
    "b = [0,0,4.,-1.]\n",
    "# xo = x_circus\n",
    "\n",
    "pygui(true)\n",
    "px= [1,4 ,4 ,1 ,1,1,1 ,1,4,4,4 ,4]\n",
    "py= [0,0 ,-4,-4,0,4,-4,4,4,-4,0,4]\n",
    "pz= [-1,-4,0 ,3 ,-1,3,3 ,3,0,0,-4,0]\n",
    "plt= PyPlot.plot3D(px,py,pz)\n",
    "PyPlot.scatter3D([xo[1]],[xo[2]],[xo[3]])"
   ]
  },
  {
   "cell_type": "markdown",
   "metadata": {},
   "source": [
    "### Checking if BFS is Optimal"
   ]
  },
  {
   "cell_type": "code",
   "execution_count": 110,
   "metadata": {},
   "outputs": [
    {
     "data": {
      "text/plain": [
       "1"
      ]
     },
     "execution_count": 110,
     "metadata": {},
     "output_type": "execute_result"
    }
   ],
   "source": [
    "check_optimality_simplex(cpi,Api,bpi,xo)"
   ]
  },
  {
   "cell_type": "code",
   "execution_count": 111,
   "metadata": {},
   "outputs": [
    {
     "data": {
      "text/plain": [
       "1"
      ]
     },
     "execution_count": 111,
     "metadata": {},
     "output_type": "execute_result"
    }
   ],
   "source": [
    "c = [0,0,1]\n",
    "A = [-1. 1. -1.;\n",
    "     -1. -1. -1.;\n",
    "     1. 0. 0.\n",
    "     -1. 0. 0.]\n",
    "b = [0,0,4.,0.]\n",
    "cs,As,bs,var_relation = simplex_format(c,A,b)\n",
    "x = [0.,0,0,0,0,0,0,4]\n",
    "x_simplex = SimplexFromBFS(cs,As,bs,x,index_bfs=[6,7,8],index_nfs=[1,2,3,4,5])\n",
    "x_circus  = variable_simplex_to_circus(var_relation,x_simplex)\n",
    "active_ix = [1,2,3]\n",
    "active_ix_simplex = []\n",
    "for i in active_ix\n",
    "    push!(active_ix_simplex,var_relation[i][1])\n",
    "end\n",
    "nactive_ix_simplex = filter(x -> !(x in active_ix_simplex),collect(1:size(x_simplex)[1]))\n",
    "\n",
    "check_optimality_simplex(cs,As,bs,x_simplex,\n",
    "    index_bfs=active_ix_simplex,index_nfs=nactive_ix_simplex)"
   ]
  },
  {
   "cell_type": "code",
   "execution_count": 112,
   "metadata": {},
   "outputs": [
    {
     "data": {
      "text/plain": [
       "0"
      ]
     },
     "execution_count": 112,
     "metadata": {},
     "output_type": "execute_result"
    }
   ],
   "source": [
    "checkKKT(c,A,b,x_circus)\n",
    "checkKKT(c,A,b,[0.0,0.0,0.0])"
   ]
  },
  {
   "cell_type": "markdown",
   "metadata": {},
   "source": [
    "### Importing MPS file test case "
   ]
  },
  {
   "cell_type": "code",
   "execution_count": 113,
   "metadata": {},
   "outputs": [
    {
     "name": "stdout",
     "output_type": "stream",
     "text": [
      "objective_value(model) = -464.75314285714296\n",
      "X_sol = [339.94285714285724, 0.0, 0.0, 0.0, 0.0, 54.50000000000001, 0.0, 0.0, 19.307142857142853, 0.0, 25.499999999999993, 0.0, 500.00000000000006, 18.214285714285708, 84.80000000000001, 0.0, 0.0, 24.079999999999984, 80.0, 18.214285714285708, -2.3606070955485056e-14, 215.00000000000003, 0.0, -5.684341886080802e-14, 0.0, 0.0, 0.0, 475.92000000000013, 0.0, 0.0, 0.0, 383.94285714285724]\n",
      "Coin0506I Presolve 6 (-21) rows, 9 (-23) columns and 26 (-57) elements\n",
      "Clp0006I 0  Obj 0 Dual inf 1,8228541 (3)\n",
      "Clp0006I 3  Obj -464,75314\n",
      "Clp0000I Optimal - objective value -464,75314\n",
      "Coin0511I After Postsolve, objective -464,75314, infeasibilities - dual 0 (0), primal 0 (0)\n",
      "Clp0032I Optimal objective -464,7531429 - 3 iterations time 0,002, Presolve 0,00\n"
     ]
    }
   ],
   "source": [
    "model = JuMP.read_from_file(\"../TestCases/afiro.mps\")\n",
    "set_optimizer(model,Clp.Optimizer)\n",
    "optimize!(model)\n",
    "variables = JuMP.all_variables(model)\n",
    "X_sol = zeros(size(variables)[1])\n",
    "for (i,v) in enumerate(variables)\n",
    "    X_sol[i] = value(v)\n",
    "end\n",
    "\n",
    "@show objective_value(model);\n",
    "@show X_sol;\n",
    "\n",
    "\n",
    "list_of_constraint_types(model)\n",
    "\n",
    "gc = JuMP.all_constraints(model,VariableRef, MOI.GreaterThan{Float64})\n",
    "ec = JuMP.all_constraints(model,GenericAffExpr{Float64,VariableRef}, MOI.EqualTo{Float64})\n",
    "lc = JuMP.all_constraints(model,GenericAffExpr{Float64,VariableRef}, MOI.LessThan{Float64})\n",
    "cj = JuMP.objective_function(model)\n",
    "\n",
    "variables = JuMP.all_variables(model)\n",
    "A = zeros(1,size(variables)[1])\n",
    "b= zeros(1)\n",
    "\n",
    "c = zeros(1,size(variables)[1])\n",
    "c[1,indexin(cj.terms.keys,variables)] = cj.terms.vals\n",
    "c = c'[:]\n",
    "\n",
    "for i in 1:size(lc)[1]\n",
    "    Aux = zeros(1,size(variables)[1])\n",
    "    lc_terms = constraint_object(lc[i]).func.terms\n",
    "    lc_value = constraint_object(lc[i]).set.upper\n",
    "    if i == 1\n",
    "        A[1,indexin(lc_terms.keys,variables)] = lc_terms.vals\n",
    "        b = lc_value\n",
    "    else\n",
    "        Aux[1,indexin(lc_terms.keys,variables)] = lc_terms.vals\n",
    "        A = vcat(A,Aux)\n",
    "        b = vcat(b,lc_value)\n",
    "    end\n",
    "end\n",
    "\n",
    "for i in 1:size(gc)[1]\n",
    "    Aux = zeros(1,size(variables)[1])\n",
    "    lc_terms = constraint_object(gc[i]).func\n",
    "    lc_value = constraint_object(gc[i]).set.lower\n",
    "    Aux[1,findfirst(variables .== lc_terms)] = -1\n",
    "    A = vcat(A,Aux)\n",
    "    b = vcat(b,lc_value)\n",
    "end\n",
    "\n",
    "for i in 1:size(ec)[1]\n",
    "    Aux = zeros(1,size(variables)[1])\n",
    "    lc_terms = constraint_object(ec[i]).func.terms\n",
    "    lc_value = constraint_object(ec[i]).set.value\n",
    "    Aux[1,indexin(lc_terms.keys,variables)] = lc_terms.vals\n",
    "    A = vcat(A,Aux)\n",
    "    b = vcat(b,lc_value)\n",
    "    \n",
    "    Aux[1,indexin(lc_terms.keys,variables)] = -lc_terms.vals\n",
    "    A = vcat(A,Aux)\n",
    "    b = vcat(b,-lc_value)\n",
    "end\n"
   ]
  },
  {
   "cell_type": "code",
   "execution_count": 114,
   "metadata": {},
   "outputs": [
    {
     "name": "stdout",
     "output_type": "stream",
     "text": [
      "objective_value(model) = -464.75314285714285\n",
      "Coin0506I Presolve 11 (-56) rows, 16 (-16) columns and 58 (-91) elements\n",
      "Clp0006I 0  Obj 0 Dual inf 2,199997 (3)\n",
      "Clp0006I 4  Obj -464,75314\n",
      "Clp0000I Optimal - objective value -464,75314\n",
      "Coin0511I After Postsolve, objective -464,75314, infeasibilities - dual 0 (0), primal 0 (0)\n",
      "Clp0032I Optimal objective -464,7531429 - 4 iterations time 0,002, Presolve 0,00\n"
     ]
    }
   ],
   "source": [
    "model = Model(Clp.Optimizer)\n",
    "@variable(model, x[1:size(c)[1]])\n",
    "@constraint(model,A*x.<=b) \n",
    "@objective(model, Min, c'*x)\n",
    "optimize!(model)\n",
    "xo = zeros(size(c)[1])\n",
    "for i = 1:size(c)[1]\n",
    "    xo[i] = value(x[i])\n",
    "end\n",
    "xo\n",
    "@show objective_value(model);"
   ]
  },
  {
   "cell_type": "code",
   "execution_count": 115,
   "metadata": {},
   "outputs": [
    {
     "name": "stdout",
     "output_type": "stream",
     "text": [
      "objective_value(model) = -464.75314285714285\n",
      "Coin0506I Presolve 13 (-89) rows, 20 (-47) columns and 86 (-133) elements\n",
      "Clp0006I 0  Obj 0 Primal inf 688 (4) Dual inf 4,217396 (4)\n",
      "Clp0006I 8  Obj -464,75314\n",
      "Clp0000I Optimal - objective value -464,75314\n",
      "Coin0511I After Postsolve, objective -464,75314, infeasibilities - dual 0 (0), primal 0 (0)\n",
      "Clp0032I Optimal objective -464,7531429 - 8 iterations time 0,002, Presolve 0,00\n"
     ]
    }
   ],
   "source": [
    "cs,As,bs,var_relation = simplex_format(c,A,b)\n",
    "model = Model(Clp.Optimizer)\n",
    "@variable(model, x[1:size(cs)[1]])\n",
    "@constraint(model,As*x.==bs) \n",
    "@constraint(model,x.>=zeros(size(cs)[1])) \n",
    "@objective(model, Min, cs'*x)\n",
    "optimize!(model)\n",
    "@show objective_value(model);"
   ]
  },
  {
   "cell_type": "code",
   "execution_count": 116,
   "metadata": {},
   "outputs": [
    {
     "name": "stdout",
     "output_type": "stream",
     "text": [
      "Coin0506I Presolve 13 (-124) rows, 20 (-82) columns and 86 (-203) elements\n",
      "Clp0006I 0  Obj 0 Primal inf 688 (4)\n",
      "Clp0006I 7  Obj 8,6676808e-16\n",
      "Clp0000I Optimal - objective value 0\n",
      "Coin0511I After Postsolve, objective 0, infeasibilities - dual 0 (0), primal 0 (0)\n",
      "Clp0032I Optimal objective 0 - 7 iterations time 0,002, Presolve 0,00\n"
     ]
    },
    {
     "data": {
      "text/plain": [
       "true"
      ]
     },
     "execution_count": 116,
     "metadata": {},
     "output_type": "execute_result"
    }
   ],
   "source": [
    "cpi, Api, bpi, xpi,bfs_pi,nfs_pi = phaseI_simplex_problem(As,bs)\n",
    "\n",
    "model = Model(Clp.Optimizer)\n",
    "@variable(model, x[1:size(cpi)[1]])\n",
    "@constraint(model,Api*x.==bpi) \n",
    "@constraint(model,x.>=zeros(size(cpi)[1])) \n",
    "@objective(model, Min, cpi'*x)\n",
    "optimize!(model)\n",
    "xo = zeros(size(cpi)[1])\n",
    "for i = 1:size(cpi)[1]\n",
    "    xo[i] = value(x[i])\n",
    "end\n",
    "x_circus = variable_simplex_to_circus(var_relation,xo)\n",
    "all(A*x_circus.<=b.+10^-8)\n",
    "\n",
    "# active_ix_simplex = findall((xo.-10^-8).<=0)\n",
    "# active_ix_simplex = findall((xo.≈0))\n",
    "# active_ix_simplex = active_ix_simplex[1:35]\n",
    "# nactive_ix_simplex = filter(x -> !(x in active_ix_simplex),collect(1:size(xo)[1]))\n",
    "# check_optimality(cpi,Api,bpi,xo,index_bfs=active_ix_simplex,index_nfs=nactive_ix_simplex)\n"
   ]
  },
  {
   "cell_type": "markdown",
   "metadata": {},
   "source": [
    "### The CIRCUS Algorithm"
   ]
  },
  {
   "cell_type": "code",
   "execution_count": 132,
   "metadata": {},
   "outputs": [
    {
     "data": {
      "text/plain": [
       "3-element Array{Float64,1}:\n",
       " 0.0\n",
       " 0.0\n",
       " 0.0"
      ]
     },
     "execution_count": 132,
     "metadata": {},
     "output_type": "execute_result"
    }
   ],
   "source": [
    "c = [0,0,1]\n",
    "A = [-1. 1. -1.;\n",
    "     -1. -1. -1.;\n",
    "     1. 0. 0.\n",
    "     -1. 0. 0.]\n",
    "b = [0,0,4.,0.]\n",
    "\n",
    "\n",
    "\n",
    "num_const, num_var = size(A)\n",
    "isempty(xzero) ?  x = zeros(num_var) : x = xzero\n",
    "# Test to verify that xzero is a feasible starting point\n",
    "\n",
    "cnormed = c/norm(c)\n",
    "Anormed = copy(A)\n",
    "bnormed = copy(b)\n",
    "for  i in 1:num_const\n",
    "    normA = norm(Anormed[i,:])\n",
    "    Anormed[i,:] /= normA\n",
    "    bnormed[i] /= normA\n",
    "end\n",
    "\n",
    "sortedJ = sortperm((Anormed*cnormed),rev=true)\n",
    "x = refinesolution(x, A, b, c, num_var, atol)"
   ]
  },
  {
   "cell_type": "code",
   "execution_count": null,
   "metadata": {},
   "outputs": [],
   "source": [
    "\n",
    "# # Refine feasible point to find a vertex\n",
    "# x = refinesolution(x, A, b, c, num_var, atol)\n",
    "# iter = 0\n",
    "# f = dot(c,x)\n",
    "# status = :Optimal\n",
    "\n",
    "# while iter <= max_iter\n",
    "#     iter += 1\n",
    "#     # Find Circumcenter direction\n",
    "#     d = finddirection(x, A, b, Anormed,cnormed, num_var,sortedJ)\n",
    "#     println(d)\n",
    "#     alpha = ratiotest(x,A,b,d)\n",
    "#     xnew = x + alpha*d\n",
    "#     xnew = refinesolution(xnew, A, b, c, num_var,atol)\n",
    "#     println(\"Indices das Ativas\")\n",
    "#     println(findall(b-A*xnew .<=atol))\n",
    "#     println(\"Ativas\")\n",
    "#     println(Array(xnew))\n",
    "#     gaperror = norm(xnew - x)\n",
    "#     fnew = dot(xnew,c)\n",
    "#     # gaperror = norm(fnew - f)\n",
    "#     x = xnew\n",
    "#     f = dot(c,x)\n",
    "#     if  gaperror < atol\n",
    "#         # @show x\n",
    "#         # status = :Optimal\n",
    "#         # iter\n",
    "#         # x = refinesolution(x, A, b, c, num_var,atol)\n",
    "#         # f = dot(c,x)\n",
    "#         # return x,f,iter,status\n",
    "#         break\n",
    "#     end\n",
    "# end\n",
    "# if iter >= max_iter\n",
    "#     status = :MaxIter\n",
    "# end"
   ]
  },
  {
   "cell_type": "code",
   "execution_count": null,
   "metadata": {},
   "outputs": [],
   "source": []
  },
  {
   "cell_type": "code",
   "execution_count": null,
   "metadata": {},
   "outputs": [],
   "source": [
    "function circussimplex(c, A, b; xzero = Float64[], atol = 1e-8, max_iter = 10000)\n",
    "    # @assert all(b .> zero(T))\n",
    "\n",
    "    # Set up data structures.\n",
    "    num_const, num_var = size(A)\n",
    "    isempty(xzero) ?  x = zeros(num_var) : x = xzero\n",
    "    # Test to verify that xzero is a feasible starting point\n",
    "    if ~all(A*x - b .<= atol)\n",
    "        # Make Phase to find a feasible initial solution if necessary\n",
    "        # by constructing artificial problem\n",
    "        phaseI = true\n",
    "        c = [zeros(num_var); 1.]\n",
    "        maxb = maximum(abs.(b))\n",
    "        x = [zeros(num_var); maxb]\n",
    "        b = [b; 0.]\n",
    "        art_col = spzeros(num_const)\n",
    "        signb = findall(sign.(b).< 0)\n",
    "        art_col[signb] = -ones(length(signb))\n",
    "        A = [A art_col;\n",
    "            spzeros(num_var)'  -1.]\n",
    "            num_var +=1\n",
    "            num_const +=1\n",
    "    else\n",
    "        phaseI = false\n",
    "    end\n",
    "    cnormed = c/norm(c)\n",
    "    Anormed = copy(A)\n",
    "    bnormed = copy(b)\n",
    "    for  i in 1:num_const\n",
    "        normA = norm(Anormed[i,:])\n",
    "        Anormed[i,:] /= normA\n",
    "        bnormed[i] /= normA\n",
    "    end\n",
    "    sortedJ = sortperm((Anormed*cnormed),rev=true)\n",
    "    # Refine feasible point to find a vertex\n",
    "    x = refinesolution(x, A, b, c, num_var, atol)\n",
    "    iter = 0\n",
    "    f = dot(c,x)\n",
    "    status = :Optimal\n",
    "\n",
    "    while iter <= max_iter\n",
    "        iter += 1\n",
    "        # Find Circumcenter direction\n",
    "        d = finddirection(x, A, b, Anormed,cnormed, num_var,sortedJ)\n",
    "        println(d)\n",
    "        alpha = ratiotest(x,A,b,d)\n",
    "        xnew = x + alpha*d\n",
    "        xnew = refinesolution(xnew, A, b, c, num_var,atol)\n",
    "        println(\"Indices das Ativas\")\n",
    "        println(findall(b-A*xnew .<=atol))\n",
    "        println(\"Ativas\")\n",
    "        println(Array(xnew))\n",
    "        gaperror = norm(xnew - x)\n",
    "        fnew = dot(xnew,c)\n",
    "        # gaperror = norm(fnew - f)\n",
    "        x = xnew\n",
    "        f = dot(c,x)\n",
    "        if  gaperror < atol\n",
    "            # @show x\n",
    "            # status = :Optimal\n",
    "            # iter\n",
    "            # x = refinesolution(x, A, b, c, num_var,atol)\n",
    "            # f = dot(c,x)\n",
    "            # return x,f,iter,status\n",
    "            break\n",
    "        end\n",
    "    end\n",
    "    if iter >= max_iter\n",
    "        status = :MaxIter\n",
    "    end\n",
    "    return x,f,iter,status\n",
    "end"
   ]
  },
  {
   "cell_type": "code",
   "execution_count": null,
   "metadata": {},
   "outputs": [],
   "source": []
  }
 ],
 "metadata": {
  "kernelspec": {
   "display_name": "Julia 1.4.1",
   "language": "julia",
   "name": "julia-1.4"
  },
  "language_info": {
   "file_extension": ".jl",
   "mimetype": "application/julia",
   "name": "julia",
   "version": "1.4.1"
  }
 },
 "nbformat": 4,
 "nbformat_minor": 4
}
