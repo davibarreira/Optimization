{
 "cells": [
  {
   "cell_type": "code",
   "execution_count": 163,
   "metadata": {},
   "outputs": [],
   "source": [
    "include(\"./src/methods.jl\")\n",
    "using PyPlot, JuMP"
   ]
  },
  {
   "cell_type": "code",
   "execution_count": 181,
   "metadata": {},
   "outputs": [],
   "source": [
    "using MathOptInterface"
   ]
  },
  {
   "cell_type": "code",
   "execution_count": 580,
   "metadata": {},
   "outputs": [
    {
     "data": {
      "text/plain": [
       "Dict{Any,Any} with 3 entries:\n",
       "  2 => [2, 3]\n",
       "  3 => [4, 5]\n",
       "  1 => [1]"
      ]
     },
     "execution_count": 580,
     "metadata": {},
     "output_type": "execute_result"
    }
   ],
   "source": [
    "c = [0,0,1]\n",
    "A = [-1. 1. -1.;\n",
    "     -1. -1. -1.;\n",
    "     1. 0. 0.\n",
    "     -1. 0. 0.]\n",
    "b = [0,0,4.,-1.]\n",
    "\n",
    "c_simplex, A_simplex, b_simplex,var_relation = simplex_format(c,A,b)\n",
    "\n",
    "atol = 1e-8\n",
    "max_iter = 1000\n",
    "xzero = []\n",
    "num_const, num_var = size(A)\n",
    "isempty(xzero) ?  x = zeros(num_var) : x = xzero\n",
    "if ~all(A*x - b .<= atol)\n",
    "    phaseI = true\n",
    "    c_phaseI,A_phaseI,b_phaseI,\n",
    "        x_phaseI,bfs,nfs = phaseI_simplex_problem(A_simplex,b_simplex)\n",
    "    x_simplex = SimplexFromBFS(c_phaseI,A_phaseI,\n",
    "        b_phaseI,x_phaseI,index_bfs=bfs,index_nfs=nfs)\n",
    "end\n",
    "var_relation"
   ]
  },
  {
   "cell_type": "code",
   "execution_count": 581,
   "metadata": {},
   "outputs": [
    {
     "data": {
      "text/plain": [
       "4-element Array{Float64,1}:\n",
       "  0.0\n",
       "  0.0\n",
       "  4.0\n",
       " -1.0"
      ]
     },
     "execution_count": 581,
     "metadata": {},
     "output_type": "execute_result"
    }
   ],
   "source": [
    "c = [0,0,1]\n",
    "A = [-1. 1. -1.;\n",
    "     -1. -1. -1.;\n",
    "     1. 0. 0.\n",
    "     -1. 0. 0.]\n",
    "b = [0,0,4.,-1.]"
   ]
  },
  {
   "cell_type": "code",
   "execution_count": 586,
   "metadata": {},
   "outputs": [
    {
     "name": "stdout",
     "output_type": "stream",
     "text": [
      "Coin0506I Presolve 0 (-4) rows, 0 (-3) columns and 0 (-8) elements\n",
      "Clp3002W Empty problem - 0 rows, 0 columns and 0 elements\n",
      "Clp0000I Optimal - objective value -4\n",
      "Coin0511I After Postsolve, objective -4, infeasibilities - dual 0 (0), primal 0 (0)\n",
      "Clp0032I Optimal objective -4 - 0 iterations time 0,002, Presolve 0,00\n"
     ]
    },
    {
     "data": {
      "text/plain": [
       "3-element Array{Float64,1}:\n",
       "  4.0\n",
       " -0.0\n",
       " -4.0"
      ]
     },
     "execution_count": 586,
     "metadata": {},
     "output_type": "execute_result"
    }
   ],
   "source": [
    "model = Model(Clp.Optimizer)\n",
    "@variable(model, x[1:size(c)[1]])\n",
    "@constraint(model,A*x.<=b) \n",
    "@objective(model, Min, c'*x)\n",
    "optimize!(model)\n",
    "xo = zeros(size(c)[1])\n",
    "for i = 1:size(c)[1]\n",
    "    xo[i] = value(x[i])\n",
    "end\n",
    "xo"
   ]
  },
  {
   "cell_type": "code",
   "execution_count": 587,
   "metadata": {},
   "outputs": [
    {
     "data": {
      "text/plain": [
       "3-element Array{Float64,1}:\n",
       "  4.0\n",
       "  0.0\n",
       " -4.0"
      ]
     },
     "execution_count": 587,
     "metadata": {},
     "output_type": "execute_result"
    }
   ],
   "source": [
    "c = [0,0,1]\n",
    "A = [-1. 1. -1.;\n",
    "     -1. -1. -1.;\n",
    "     1. 0. 0.\n",
    "     -1. 0. 0.]\n",
    "b = [0,0,4.,0.]\n",
    "cs,As,bs,var_relation = simplex_format(c,A,b)\n",
    "x = [0.,0,0,0,0,0,0,4]\n",
    "x_simplex = SimplexFromBFS(cs,As,bs,x,index_bfs=[6,7,8],index_nfs=[1,2,3,4,5])\n",
    "x_circus = variable_simplex_to_circus(var_relation,x_simplex)\n",
    "x_simplex = variable_circus_to_simplex(var_relation,x_circus,cs,As,bs)\n",
    "x_circus"
   ]
  },
  {
   "cell_type": "markdown",
   "metadata": {},
   "source": [
    "#### Phase 1\n"
   ]
  },
  {
   "cell_type": "code",
   "execution_count": 588,
   "metadata": {},
   "outputs": [
    {
     "data": {
      "text/plain": [
       "([0.0, 0.0, 0.0, 0.0, 0.0, 0.0, 0.0, 0.0, 0.0, 1.0, 1.0, 1.0, 1.0], [-1.0 1.0 … 0.0 0.0; -1.0 -1.0 … 0.0 0.0; 1.0 0.0 … 1.0 0.0; 1.0 -0.0 … 0.0 1.0], [0.0; 0.0; 4.0; 1.0], [0.0, 0.0, 0.0, 0.0, 0.0, 0.0, 0.0, 0.0, 0.0, 0.0, 0.0, 4.0, 1.0], [10, 11, 12, 13], [1, 2, 3, 4, 5, 6, 7, 8, 9])"
      ]
     },
     "execution_count": 588,
     "metadata": {},
     "output_type": "execute_result"
    }
   ],
   "source": [
    "c = [0,0,1]\n",
    "A = [-1. 1. -1.;\n",
    "     -1. -1. -1.;\n",
    "     1. 0. 0.\n",
    "     -1. 0. 0.]\n",
    "b = [0,0,4.,-1.]\n",
    "\n",
    "# x = [0,0,0,0,0,0,0,4,1]\n",
    "cs,As,bs,var_relation = simplex_format(c,A,b)\n",
    "cpi, Api, bpi, xpi,bfs_pi,nfs_pi = phaseI_simplex_problem(As,bs)"
   ]
  },
  {
   "cell_type": "code",
   "execution_count": 589,
   "metadata": {},
   "outputs": [
    {
     "data": {
      "text/plain": [
       "3-element Array{Float64,1}:\n",
       "  1.0\n",
       "  0.0\n",
       " -1.0"
      ]
     },
     "execution_count": 589,
     "metadata": {},
     "output_type": "execute_result"
    }
   ],
   "source": [
    "x_simplex = SimplexFromBFS(cpi,Api,bpi,xpi,index_bfs=bfs_pi,index_nfs=nfs_pi)\n",
    "x_circus = variable_simplex_to_circus(var_relation,x_simplex)"
   ]
  },
  {
   "cell_type": "code",
   "execution_count": 590,
   "metadata": {},
   "outputs": [
    {
     "name": "stdout",
     "output_type": "stream",
     "text": [
      "Coin0506I Presolve 0 (-17) rows, 0 (-13) columns and 0 (-33) elements\n",
      "Clp3002W Empty problem - 0 rows, 0 columns and 0 elements\n",
      "Clp0000I Optimal - objective value 0\n",
      "Coin0511I After Postsolve, objective 0, infeasibilities - dual 0 (0), primal 0 (0)\n",
      "Clp0032I Optimal objective 0 - 0 iterations time 0,002, Presolve 0,00\n"
     ]
    }
   ],
   "source": [
    "model = Model(Clp.Optimizer)\n",
    "@variable(model, x[1:size(cpi)[1]])\n",
    "@constraint(model,Api*x.==bpi) \n",
    "@constraint(model,x.>=zeros(size(cpi)[1])) \n",
    "@objective(model, Min, cpi'*x)\n",
    "optimize!(model)\n",
    "xo = zeros(size(cpi)[1])\n",
    "for i = 1:size(cpi)[1]\n",
    "    xo[i] = value(x[i])\n",
    "end\n",
    "# x_circus = variable_simplex_to_circus(var_relation,xo)\n",
    "\n",
    "# termination_status(model)\n",
    "# display(typeof(MOI.OPTIMAL))"
   ]
  },
  {
   "cell_type": "code",
   "execution_count": 591,
   "metadata": {},
   "outputs": [
    {
     "data": {
      "text/plain": [
       "PyObject <mpl_toolkits.mplot3d.art3d.Path3DCollection object at 0x7f29235af110>"
      ]
     },
     "execution_count": 591,
     "metadata": {},
     "output_type": "execute_result"
    }
   ],
   "source": [
    "c = [0,0,1]\n",
    "A = [-1. 1. -1.;\n",
    "     -1. -1. -1.;\n",
    "     1. 0. 0.\n",
    "     -1. 0. 0.]\n",
    "b = [0,0,4.,-1.]\n",
    "# xo = x_circus\n",
    "\n",
    "pygui(true)\n",
    "px= [1,4 ,4 ,1 ,1,1,1 ,1,4,4,4 ,4]\n",
    "py= [0,0 ,-4,-4,0,4,-4,4,4,-4,0,4]\n",
    "pz= [-1,-4,0 ,3 ,-1,3,3 ,3,0,0,-4,0]\n",
    "plt= PyPlot.plot3D(px,py,pz)\n",
    "PyPlot.scatter3D([xo[1]],[xo[2]],[xo[3]])"
   ]
  },
  {
   "cell_type": "markdown",
   "metadata": {},
   "source": [
    "### Checking if BFS is Optimal"
   ]
  },
  {
   "cell_type": "code",
   "execution_count": 592,
   "metadata": {},
   "outputs": [
    {
     "data": {
      "text/plain": [
       "1"
      ]
     },
     "execution_count": 592,
     "metadata": {},
     "output_type": "execute_result"
    }
   ],
   "source": [
    "function check_optimality(c,A,b,x;index_bfs=[],index_nfs=[])\n",
    "    c = -c\n",
    "    # Initial setup\n",
    "    initial_bfs = x\n",
    "    e  = 10^-7\n",
    "    if size(index_bfs)[1]>0\n",
    "        B = index_bfs\n",
    "        N = index_nfs\n",
    "    else\n",
    "        B  = findall(initial_bfs .> 0+e)\n",
    "        N  = findall(initial_bfs .<= 0+e)\n",
    "    end\n",
    "    xn = initial_bfs[N]; xb = initial_bfs[B];\n",
    "\n",
    "    Ab = A[:,B]; An = A[:,N]; cb = c[B]; cn = c[N]\n",
    "    p  = inv(Ab)*b\n",
    "    Q  = -inv(Ab)*An\n",
    "    r  = (cb'*Q + cn')'\n",
    "    if all(r.<= 0+e)\n",
    "        return 1\n",
    "    else\n",
    "        return 0\n",
    "    end\n",
    "end\n",
    "check_optimality(cpi,Api,bpi,xo)"
   ]
  },
  {
   "cell_type": "code",
   "execution_count": 593,
   "metadata": {},
   "outputs": [
    {
     "data": {
      "text/plain": [
       "1"
      ]
     },
     "execution_count": 593,
     "metadata": {},
     "output_type": "execute_result"
    }
   ],
   "source": [
    "c = [0,0,1]\n",
    "A = [-1. 1. -1.;\n",
    "     -1. -1. -1.;\n",
    "     1. 0. 0.\n",
    "     -1. 0. 0.]\n",
    "b = [0,0,4.,0.]\n",
    "cs,As,bs,var_relation = simplex_format(c,A,b)\n",
    "x = [0.,0,0,0,0,0,0,4]\n",
    "x_simplex = SimplexFromBFS(cs,As,bs,x,index_bfs=[6,7,8],index_nfs=[1,2,3,4,5])\n",
    "x_circus  = variable_simplex_to_circus(var_relation,x_simplex)\n",
    "active_ix = [1,2,3]\n",
    "active_ix_simplex = []\n",
    "for i in active_ix\n",
    "    push!(active_ix_simplex,var_relation[i][1])\n",
    "end\n",
    "nactive_ix_simplex = filter(x -> !(x in active_ix_simplex),collect(1:size(x_simplex)[1]))\n",
    "\n",
    "check_optimality(cs,As,bs,x_simplex,index_bfs=active_ix_simplex,index_nfs=nactive_ix_simplex)"
   ]
  },
  {
   "cell_type": "markdown",
   "metadata": {},
   "source": [
    "### Importing MPS file test case "
   ]
  },
  {
   "cell_type": "code",
   "execution_count": 702,
   "metadata": {},
   "outputs": [
    {
     "name": "stdout",
     "output_type": "stream",
     "text": [
      "objective_value(model) = -464.75314285714296\n",
      "X_sol = [339.94285714285724, 0.0, 0.0, 0.0, 0.0, 54.50000000000001, 0.0, 0.0, 19.307142857142853, 0.0, 25.499999999999993, 0.0, 500.00000000000006, 18.214285714285708, 84.80000000000001, 0.0, 0.0, 24.079999999999984, 80.0, 18.214285714285708, -2.3606070955485056e-14, 215.00000000000003, 0.0, -5.684341886080802e-14, 0.0, 0.0, 0.0, 475.92000000000013, 0.0, 0.0, 0.0, 383.94285714285724]\n",
      "Coin0506I Presolve 6 (-21) rows, 9 (-23) columns and 26 (-57) elements\n",
      "Clp0006I 0  Obj 0 Dual inf 1,8228541 (3)\n",
      "Clp0006I 3  Obj -464,75314\n",
      "Clp0000I Optimal - objective value -464,75314\n",
      "Coin0511I After Postsolve, objective -464,75314, infeasibilities - dual 0 (0), primal 0 (0)\n",
      "Clp0032I Optimal objective -464,7531429 - 3 iterations time 0,002, Presolve 0,00\n"
     ]
    },
    {
     "data": {
      "text/latex": [
       "$$ \\begin{alignat*}{1}\\min\\quad & -0.6 X23 - 0.48 X36 + 10 X39 - 0.4 X02 - 0.32 X14\\\\\n",
       "\\text{Subject to} \\quad & -X36 + X30 + X29 + X39 + X31 + X28 + X37 = 44.0\\\\\n",
       " & -X06 + X15 - X08 - X07 + X14 - X09 = 0.0\\\\\n",
       " & X02 + X03 - X01 = 0.0\\\\\n",
       " & X23 - X22 + X24 + X25 = 0.0\\\\\n",
       " & X04 - 1.06 X01 = 0.0\\\\\n",
       " & X26 - 0.43 X22 = 0.0\\\\\n",
       " & -1.06 X06 + X16 - 0.96 X08 - 1.06 X07 - 0.86 X09 = 0.0\\\\\n",
       " & -0.39 X30 - 0.43 X29 - 0.37 X31 - 0.43 X28 + X38 = 0.0\\\\\n",
       " & -X11 + X07 \\leq 0.0\\\\\n",
       " & -X34 + X30 \\leq 0.0\\\\\n",
       " & -X13 + X09 \\leq 0.0\\\\\n",
       " & -X23 + 1.4 X36 \\leq 0.0\\\\\n",
       " & 0.109 X22 - X03 \\leq 0.0\\\\\n",
       " & X16 + X38 \\leq 300.0\\\\\n",
       " & -X02 + 1.4 X14 \\leq 0.0\\\\\n",
       " & X26 + X04 \\leq 310.0\\\\\n",
       " & -X12 + X08 \\leq 0.0\\\\\n",
       " & 0.301 X06 + 0.313 X08 + 0.313 X07 + 0.326 X09 - X37 \\leq 0.0\\\\\n",
       " & -X35 + X31 \\leq 0.0\\\\\n",
       " & -X24 + 0.301 X01 \\leq 0.0\\\\\n",
       " & X06 - X10 \\leq 80.0\\\\\n",
       " & 2.364 X10 + 2.249 X34 + 2.219 X33 + 2.408 X12 + 2.191 X32 + 2.386 X11 - X25 + 2.279 X35 + 2.429 X13 \\leq 0.0\\\\\n",
       " & X22 \\leq 500.0\\\\\n",
       " & -X33 + X29 \\leq 0.0\\\\\n",
       " & -X32 + X28 \\leq 500.0\\\\\n",
       " & X01 \\leq 80.0\\\\\n",
       " & 0.108 X30 + 0.108 X29 - X15 + 0.107 X31 + 0.109 X28 \\leq 0.0\\\\\n",
       " & X36 \\geq 0.0\\\\\n",
       " & X33 \\geq 0.0\\\\\n",
       " & X30 \\geq 0.0\\\\\n",
       " & X32 \\geq 0.0\\\\\n",
       " & X08 \\geq 0.0\\\\\n",
       " & X03 \\geq 0.0\\\\\n",
       " & X38 \\geq 0.0\\\\\n",
       " & X34 \\geq 0.0\\\\\n",
       " & X16 \\geq 0.0\\\\\n",
       " & X35 \\geq 0.0\\\\\n",
       " & X02 \\geq 0.0\\\\\n",
       " & X11 \\geq 0.0\\\\\n",
       " & X22 \\geq 0.0\\\\\n",
       " & X14 \\geq 0.0\\\\\n",
       " & X04 \\geq 0.0\\\\\n",
       " & X07 \\geq 0.0\\\\\n",
       " & X13 \\geq 0.0\\\\\n",
       " & X24 \\geq 0.0\\\\\n",
       " & X01 \\geq 0.0\\\\\n",
       " & X06 \\geq 0.0\\\\\n",
       " & X12 \\geq 0.0\\\\\n",
       " & X26 \\geq 0.0\\\\\n",
       " & X29 \\geq 0.0\\\\\n",
       " & X25 \\geq 0.0\\\\\n",
       " & X09 \\geq 0.0\\\\\n",
       " & X28 \\geq 0.0\\\\\n",
       " & X10 \\geq 0.0\\\\\n",
       " & X23 \\geq 0.0\\\\\n",
       " & X39 \\geq 0.0\\\\\n",
       " & X15 \\geq 0.0\\\\\n",
       " & X31 \\geq 0.0\\\\\n",
       " & X37 \\geq 0.0\\\\\n",
       "\\end{alignat*}\n",
       " $$"
      ],
      "text/plain": [
       "A JuMP Model\n",
       "Minimization problem with:\n",
       "Variables: 32\n",
       "Objective function type: GenericAffExpr{Float64,VariableRef}\n",
       "`GenericAffExpr{Float64,VariableRef}`-in-`MathOptInterface.EqualTo{Float64}`: 8 constraints\n",
       "`GenericAffExpr{Float64,VariableRef}`-in-`MathOptInterface.LessThan{Float64}`: 19 constraints\n",
       "`VariableRef`-in-`MathOptInterface.GreaterThan{Float64}`: 32 constraints\n",
       "Model mode: AUTOMATIC\n",
       "CachingOptimizer state: ATTACHED_OPTIMIZER\n",
       "Solver name: Clp"
      ]
     },
     "execution_count": 702,
     "metadata": {},
     "output_type": "execute_result"
    }
   ],
   "source": [
    "model = JuMP.read_from_file(\"../TestCases/afiro.mps\")\n",
    "set_optimizer(model,Clp.Optimizer)\n",
    "optimize!(model)\n",
    "variables = JuMP.all_variables(model)\n",
    "X_sol = zeros(size(variables)[1])\n",
    "for (i,v) in enumerate(variables)\n",
    "    X_sol[i] = value(v)\n",
    "end\n",
    "\n",
    "@show objective_value(model);\n",
    "@show X_sol;\n",
    "\n",
    "\n",
    "list_of_constraint_types(model)\n",
    "\n",
    "gc = JuMP.all_constraints(model,VariableRef, MOI.GreaterThan{Float64})\n",
    "ec = JuMP.all_constraints(model,GenericAffExpr{Float64,VariableRef}, MOI.EqualTo{Float64})\n",
    "lc = JuMP.all_constraints(model,GenericAffExpr{Float64,VariableRef}, MOI.LessThan{Float64})\n",
    "cj = JuMP.objective_function(model)\n",
    "\n",
    "variables = JuMP.all_variables(model)\n",
    "A = zeros(1,size(variables)[1]+size(ec)[1])\n",
    "b= zeros(1)\n",
    "\n",
    "c = zeros(1,size(variables)[1]+size(ec)[1])\n",
    "c[1,indexin(cj.terms.keys,variables)] = cj.terms.vals\n",
    "c = c'[:]\n",
    "\n",
    "for i in 1:size(lc)[1]\n",
    "    Aux = zeros(1,size(variables)[1]+size(ec)[1])\n",
    "    lc_terms = constraint_object(lc[i]).func.terms\n",
    "    lc_value = constraint_object(lc[i]).set.upper\n",
    "    if i == 1\n",
    "        A[1,indexin(lc_terms.keys,variables)] = lc_terms.vals\n",
    "        b = lc_value\n",
    "    else\n",
    "        Aux[1,indexin(lc_terms.keys,variables)] = lc_terms.vals\n",
    "        A = vcat(A,Aux)\n",
    "        b = vcat(b,lc_value)\n",
    "    end\n",
    "end\n",
    "\n",
    "for i in 1:size(gc)[1]\n",
    "    Aux = zeros(1,size(variables)[1]+size(ec)[1])\n",
    "    lc_terms = constraint_object(gc[i]).func\n",
    "    lc_value = constraint_object(gc[i]).set.lower\n",
    "    Aux[1,findfirst(variables .== lc_terms)] = -1\n",
    "    A = vcat(A,Aux)\n",
    "    b = vcat(b,lc_value)\n",
    "end\n",
    "\n",
    "for i in 1:size(ec)[1]\n",
    "    Aux = zeros(1,size(variables)[1]+size(ec)[1])\n",
    "    lc_terms = constraint_object(ec[i]).func.terms\n",
    "    lc_value = constraint_object(ec[i]).set.value\n",
    "    Aux[1,indexin(lc_terms.keys,variables)] = lc_terms.vals\n",
    "    A = vcat(A,Aux)\n",
    "    b = vcat(b,lc_value)\n",
    "end\n",
    "\n",
    "# for i in 1:size(ec)[1]\n",
    "#     Aux = zeros(1,size(variables)[1]+size(ec)[1])\n",
    "#     lc_terms = constraint_object(ec[i]).func.terms\n",
    "#     lc_value = constraint_object(ec[i]).set.value\n",
    "#     Aux[1,indexin(lc_terms.keys,variables)] = lc_terms.vals\n",
    "#     Aux[1,size(variables)[1]+i] = -1\n",
    "#     A = vcat(A,Aux)\n",
    "#     b = vcat(b,lc_value)\n",
    "# end\n",
    "\n",
    "# for i in 1:size(ec)[1]\n",
    "#     Aux = zeros(1,size(variables)[1]+size(ec)[1])\n",
    "#     Aux[1,size(variables)[1]+i] = -1\n",
    "#     A = vcat(A,Aux)\n",
    "#     b = vcat(b,0.0)\n",
    "# end\n",
    "Al = A[1:end-8,:]\n",
    "bl = b[1:end-8]\n",
    "Ae = A[end-7:end,:]\n",
    "be = b[end-7:end]\n",
    "model"
   ]
  },
  {
   "cell_type": "code",
   "execution_count": 705,
   "metadata": {},
   "outputs": [
    {
     "data": {
      "text/plain": [
       "8×40 Array{Float64,2}:\n",
       " -1.0  0.0   1.0   0.0   0.0   0.0  0.0  …  0.0  0.0  0.0  0.0  0.0  0.0  0.0\n",
       "  0.0  0.0   0.0   0.0  -1.0   0.0  0.0     0.0  0.0  0.0  0.0  0.0  0.0  0.0\n",
       "  0.0  0.0   0.0   0.0   0.0   1.0  0.0     0.0  0.0  0.0  0.0  0.0  0.0  0.0\n",
       "  0.0  0.0   0.0   0.0   0.0   0.0  0.0     0.0  0.0  0.0  0.0  0.0  0.0  0.0\n",
       "  0.0  0.0   0.0   0.0   0.0   0.0  0.0     0.0  0.0  0.0  0.0  0.0  0.0  0.0\n",
       "  0.0  0.0   0.0   0.0   0.0   0.0  0.0  …  0.0  0.0  0.0  0.0  0.0  0.0  0.0\n",
       "  0.0  0.0   0.0   0.0  -0.96  0.0  0.0     0.0  0.0  0.0  0.0  0.0  0.0  0.0\n",
       "  0.0  0.0  -0.39  0.0   0.0   0.0  1.0     0.0  0.0  0.0  0.0  0.0  0.0  0.0"
      ]
     },
     "execution_count": 705,
     "metadata": {},
     "output_type": "execute_result"
    }
   ],
   "source": [
    "Ae"
   ]
  },
  {
   "cell_type": "code",
   "execution_count": 707,
   "metadata": {},
   "outputs": [
    {
     "name": "stdout",
     "output_type": "stream",
     "text": [
      "objective_value(model) = -464.75314285714296\n",
      "Coin0506I Presolve 6 (-53) rows, 9 (-31) columns and 26 (-89) elements\n",
      "Clp0006I 0  Obj 0 Dual inf 1,8228541 (3)\n",
      "Clp0006I 3  Obj -464,75314\n",
      "Clp0000I Optimal - objective value -464,75314\n",
      "Coin0511I After Postsolve, objective -464,75314, infeasibilities - dual 0 (0), primal 0 (0)\n",
      "Clp0032I Optimal objective -464,7531429 - 3 iterations time 0,002, Presolve 0,00\n"
     ]
    }
   ],
   "source": [
    "model = Model(Clp.Optimizer)\n",
    "@variable(model, x[1:size(c)[1]])\n",
    "@constraint(model,Al*x.<=bl) \n",
    "@constraint(model,Ae*x.==be) \n",
    "@objective(model, Min, c'*x)\n",
    "optimize!(model)\n",
    "# xo = zeros(size(c)[1])\n",
    "# for i = 1:size(c)[1]\n",
    "#     xo[i] = value(x[i])\n",
    "# end\n",
    "# xo\n",
    "@show objective_value(model);\n"
   ]
  },
  {
   "cell_type": "code",
   "execution_count": 670,
   "metadata": {},
   "outputs": [
    {
     "data": {
      "text/latex": [
       "$$ \\begin{alignat*}{1}\\min\\quad & -0.48 x_{1} - 0.4 x_{11} - 0.32 x_{14} - 0.6 x_{28} + 10 x_{29}\\\\\n",
       "\\text{Subject to} \\quad & 10 x_{1} - x_{12} + x_{16} \\leq 0.0\\\\\n",
       " & x_{3} - x_{8} \\leq 0.0\\\\\n",
       " & -x_{17} + x_{25} \\leq 0.0\\\\\n",
       " & 1.4 x_{1} - x_{28} \\leq 0.0\\\\\n",
       " & -x_{6} + 0.109 x_{13} \\leq 0.0\\\\\n",
       " & x_{7} + x_{9} \\leq 300.0\\\\\n",
       " & -x_{11} + 1.4 x_{14} \\leq 0.0\\\\\n",
       " & x_{15} + x_{22} \\leq 310.0\\\\\n",
       " & x_{5} - x_{21} \\leq 0.0\\\\\n",
       " & 0.313 x_{5} + 0.313 x_{16} + 0.301 x_{20} + 0.326 x_{25} - x_{32} \\leq 0.0\\\\\n",
       " & -x_{10} + x_{31} \\leq 0.0\\\\\n",
       " & -x_{18} + 0.301 x_{19} \\leq 0.0\\\\\n",
       " & x_{20} - x_{27} \\leq 80.0\\\\\n",
       " & 2.219 x_{2} + 2.191 x_{4} + 2.249 x_{8} + 2.279 x_{10} + 2.386 x_{12} + 2.429 x_{17} + 2.408 x_{21} - x_{24} + 2.364 x_{27} \\leq 0.0\\\\\n",
       " & x_{13} \\leq 500.0\\\\\n",
       " & -x_{2} + x_{23} \\leq 0.0\\\\\n",
       " & -x_{4} + x_{26} \\leq 500.0\\\\\n",
       " & x_{19} \\leq 80.0\\\\\n",
       " & 0.108 x_{3} + 0.108 x_{23} + 0.109 x_{26} - x_{30} + 0.107 x_{31} \\leq 0.0\\\\\n",
       " & -x_{1} \\leq 0.0\\\\\n",
       " & -x_{2} \\leq 0.0\\\\\n",
       " & -x_{3} \\leq 0.0\\\\\n",
       " & -x_{4} \\leq 0.0\\\\\n",
       " & -x_{5} \\leq 0.0\\\\\n",
       " & -x_{6} \\leq 0.0\\\\\n",
       " & -x_{7} \\leq 0.0\\\\\n",
       " & -x_{8} \\leq 0.0\\\\\n",
       " & -x_{9} \\leq 0.0\\\\\n",
       " & -x_{10} \\leq 0.0\\\\\n",
       " & -x_{11} \\leq 0.0\\\\\n",
       " & -x_{12} \\leq 0.0\\\\\n",
       " & -x_{13} \\leq 0.0\\\\\n",
       " & -x_{14} \\leq 0.0\\\\\n",
       " & -x_{15} \\leq 0.0\\\\\n",
       " & -x_{16} \\leq 0.0\\\\\n",
       " & -x_{17} \\leq 0.0\\\\\n",
       " & -x_{18} \\leq 0.0\\\\\n",
       " & -x_{19} \\leq 0.0\\\\\n",
       " & -x_{20} \\leq 0.0\\\\\n",
       " & -x_{21} \\leq 0.0\\\\\n",
       " & -x_{22} \\leq 0.0\\\\\n",
       " & -x_{23} \\leq 0.0\\\\\n",
       " & -x_{24} \\leq 0.0\\\\\n",
       " & -x_{25} \\leq 0.0\\\\\n",
       " & -x_{26} \\leq 0.0\\\\\n",
       " & -x_{27} \\leq 0.0\\\\\n",
       " & -x_{28} \\leq 0.0\\\\\n",
       " & -x_{29} \\leq 0.0\\\\\n",
       " & -x_{30} \\leq 0.0\\\\\n",
       " & -x_{31} \\leq 0.0\\\\\n",
       " & -x_{32} \\leq 0.0\\\\\n",
       " & -x_{1} + x_{3} + x_{23} + x_{26} + x_{29} + x_{31} + x_{32} - x_{33} \\leq 44.0\\\\\n",
       " & -x_{5} + x_{14} - x_{16} - x_{20} - x_{25} + x_{30} - x_{34} \\leq 0.0\\\\\n",
       " & x_{6} + x_{11} - x_{19} - x_{35} \\leq 0.0\\\\\n",
       " & -x_{13} + x_{18} + x_{24} + x_{28} - x_{36} \\leq 0.0\\\\\n",
       " & x_{15} - 1.06 x_{19} - x_{37} \\leq 0.0\\\\\n",
       " & -0.43 x_{13} + x_{22} - x_{38} \\leq 0.0\\\\\n",
       " & -0.96 x_{5} + x_{9} - 1.06 x_{16} - 1.06 x_{20} - 0.86 x_{25} - x_{39} \\leq 0.0\\\\\n",
       " & -0.39 x_{3} + x_{7} - 0.43 x_{23} - 0.43 x_{26} - 0.37 x_{31} - x_{40} \\leq 0.0\\\\\n",
       " & -x_{33} \\leq 0.0\\\\\n",
       " & -x_{34} \\leq 0.0\\\\\n",
       " & -x_{35} \\leq 0.0\\\\\n",
       " & -x_{36} \\leq 0.0\\\\\n",
       " & -x_{37} \\leq 0.0\\\\\n",
       " & -x_{38} \\leq 0.0\\\\\n",
       " & -x_{39} \\leq 0.0\\\\\n",
       " & -x_{40} \\leq 0.0\\\\\n",
       "\\end{alignat*}\n",
       " $$"
      ],
      "text/plain": [
       "A JuMP Model\n",
       "Minimization problem with:\n",
       "Variables: 40\n",
       "Objective function type: GenericAffExpr{Float64,VariableRef}\n",
       "`GenericAffExpr{Float64,VariableRef}`-in-`MathOptInterface.LessThan{Float64}`: 67 constraints\n",
       "Model mode: AUTOMATIC\n",
       "CachingOptimizer state: ATTACHED_OPTIMIZER\n",
       "Solver name: Clp\n",
       "Names registered in the model: x"
      ]
     },
     "execution_count": 670,
     "metadata": {},
     "output_type": "execute_result"
    }
   ],
   "source": [
    "model"
   ]
  },
  {
   "cell_type": "code",
   "execution_count": null,
   "metadata": {},
   "outputs": [],
   "source": []
  }
 ],
 "metadata": {
  "kernelspec": {
   "display_name": "Julia 1.4.1",
   "language": "julia",
   "name": "julia-1.4"
  },
  "language_info": {
   "file_extension": ".jl",
   "mimetype": "application/julia",
   "name": "julia",
   "version": "1.4.1"
  }
 },
 "nbformat": 4,
 "nbformat_minor": 4
}
