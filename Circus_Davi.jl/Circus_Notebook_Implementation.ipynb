{
 "cells": [
  {
   "cell_type": "code",
   "execution_count": 1,
   "metadata": {},
   "outputs": [
    {
     "data": {
      "text/plain": [
       "circussimplex (generic function with 1 method)"
      ]
     },
     "execution_count": 1,
     "metadata": {},
     "output_type": "execute_result"
    }
   ],
   "source": [
    "include(\"./src/methods.jl\")\n",
    "# include(\"./src/auxfunctions.jl\")"
   ]
  },
  {
   "cell_type": "code",
   "execution_count": 2,
   "metadata": {},
   "outputs": [],
   "source": [
    "using PyPlot, GLPK, JuMP, Clp"
   ]
  },
  {
   "cell_type": "code",
   "execution_count": 176,
   "metadata": {},
   "outputs": [
    {
     "data": {
      "text/plain": [
       "simplex_format (generic function with 1 method)"
      ]
     },
     "execution_count": 176,
     "metadata": {},
     "output_type": "execute_result"
    }
   ],
   "source": [
    "\n",
    "\"\"\"\n",
    "    simplex_format(c, A, b)\n",
    "Adjust the format from\n",
    "           min  dot(c, x)\n",
    "    subject to  A x ≦ b\n",
    "To the standard Simplex fomat which is\n",
    "           min  dot(c, x)\n",
    "    subject to  A x = b\n",
    "\"\"\"\n",
    "\n",
    "function simplex_format(c,A,b)\n",
    "    row_remove = []\n",
    "    var_stay   = []\n",
    "    for i = 1:size(A)[1]\n",
    "        present_variables = .!(A[i,:].≈0)\n",
    "        if sum(present_variables) == 1\n",
    "            if all(A[i,present_variables].<0) && b[i].≈0\n",
    "                push!(row_remove,i)\n",
    "                push!(var_stay,findmax(present_variables)[2])\n",
    "            elseif all(sign.(A[i,present_variables]).!=sign(b[i]))\n",
    "                push!(row_remove,i)\n",
    "                push!(var_stay,findmax(present_variables)[2])\n",
    "            else\n",
    "                v = zeros(size(A)[1])\n",
    "                v[i] = 1\n",
    "                A = hcat(A,v)\n",
    "                c = vcat(c,0)\n",
    "                push!(var_stay,findmax(present_variables)[2])\n",
    "                push!(var_stay,size(c)[1])\n",
    "            end\n",
    "        else\n",
    "            v = zeros(size(A)[1])\n",
    "            v[i] = 1\n",
    "            A = hcat(A,v)\n",
    "            c = vcat(c,0)\n",
    "            push!(var_stay,size(c)[1])\n",
    "        end\n",
    "    end\n",
    "\n",
    "    A = A[setdiff(1:end, row_remove),:]\n",
    "    b = b[setdiff(1:end, row_remove),:]\n",
    "    var_split = setdiff(1:size(c)[1],var_stay)\n",
    "    aux = 0\n",
    "    for i in var_split\n",
    "        if i == size(A[2])\n",
    "            A = hcat(A,-A[:,i])\n",
    "            c = hcat(c,-c[:,i])\n",
    "        else\n",
    "            A_ = A[:,1:i+aux]\n",
    "            A_ = hcat(A_,-A[:,i+aux])\n",
    "            _A = A[:,i+1+aux:end]\n",
    "            A  = hcat(A_,_A)\n",
    "\n",
    "            c_ = c[1:i+aux]\n",
    "            c_ = vcat(c_,-c[i+aux])\n",
    "            _c = c[i+1+aux:end]\n",
    "            c  = vcat(c_,_c)\n",
    "            aux = aux + 1\n",
    "        end\n",
    "    end\n",
    "    \n",
    "    return c,A,b,var_split\n",
    "end"
   ]
  },
  {
   "cell_type": "code",
   "execution_count": 177,
   "metadata": {},
   "outputs": [
    {
     "data": {
      "text/plain": [
       "variables_relation (generic function with 1 method)"
      ]
     },
     "execution_count": 177,
     "metadata": {},
     "output_type": "execute_result"
    }
   ],
   "source": [
    "function variables_relation(varsplit,n)\n",
    "    simplex_to_circus = Dict()\n",
    "    k = 0\n",
    "    for i in 1:n\n",
    "        if i in varsplit\n",
    "            simplex_to_circus[i] = [i+k,i+1+k]\n",
    "            k += 1 \n",
    "        else\n",
    "            simplex_to_circus[i] = [i]\n",
    "        end\n",
    "    end\n",
    "    return simplex_to_circus\n",
    "end"
   ]
  },
  {
   "cell_type": "code",
   "execution_count": 178,
   "metadata": {},
   "outputs": [
    {
     "data": {
      "text/plain": [
       "variable_simplex_to_circus (generic function with 2 methods)"
      ]
     },
     "execution_count": 178,
     "metadata": {},
     "output_type": "execute_result"
    }
   ],
   "source": [
    "function variable_simplex_to_circus(simplex_to_circus, x_simplex)\n",
    "    n = size(collect(keys(simplex_to_circus)))[1]\n",
    "    x_circus = zeros(n)\n",
    "    for (k,i) in simplex_to_circus\n",
    "        if size(i)[1] > 1\n",
    "            x_circus[k] = x_simplex[i[1]] - x_simplex[i[2]]\n",
    "        else\n",
    "            x_circus[k] = x_simplex[i[1]]\n",
    "        end\n",
    "    end\n",
    "    return x_circus\n",
    "end"
   ]
  },
  {
   "cell_type": "code",
   "execution_count": 179,
   "metadata": {},
   "outputs": [
    {
     "data": {
      "text/plain": [
       "variable_circus_to_simplex (generic function with 1 method)"
      ]
     },
     "execution_count": 179,
     "metadata": {},
     "output_type": "execute_result"
    }
   ],
   "source": [
    "function variable_circus_to_simplex(simplex_to_circus,x_circus,\n",
    "        c_simplex,A_simplex,b_simplex)\n",
    "    x_simplex = zeros(size(c_simplex)[1])\n",
    "    n_simplex = 0\n",
    "    for (k,i) in simplex_to_circus\n",
    "        if size(i)[1] > 1\n",
    "            n_simplex+=2\n",
    "            if x_circus[k] < 0\n",
    "                x_simplex[i[1]] = 0\n",
    "                x_simplex[i[2]] = -x_circus[k]\n",
    "            else\n",
    "                x_simplex[i[1]] = x_circus[k]\n",
    "                x_simplex[i[2]] = 0\n",
    "            end\n",
    "        else\n",
    "            n_simplex+=1\n",
    "            x_simplex[i[1]] = x_circus[k]\n",
    "        end\n",
    "    end\n",
    "\n",
    "    if n_simplex < size(c_simplex)[1]\n",
    "        x_simplex[n_simplex+1:size(cs)[1]] = A_simplex*x_simplex - b_simplex\n",
    "    end\n",
    "    return x_simplex\n",
    "end"
   ]
  },
  {
   "cell_type": "code",
   "execution_count": 180,
   "metadata": {},
   "outputs": [
    {
     "name": "stdout",
     "output_type": "stream",
     "text": [
      "5   6\n",
      "1   8\n",
      "3   7\n"
     ]
    },
    {
     "data": {
      "text/plain": [
       "8-element Array{Float64,1}:\n",
       " 4.0\n",
       " 0.0\n",
       " 0.0\n",
       " 0.0\n",
       " 4.0\n",
       " 0.0\n",
       " 0.0\n",
       " 0.0"
      ]
     },
     "execution_count": 180,
     "metadata": {},
     "output_type": "execute_result"
    }
   ],
   "source": [
    "c = [0,0,1]\n",
    "A = [-1. 1. -1.;\n",
    "     -1. -1. -1.;\n",
    "     1. 0. 0.\n",
    "     -1. 0. 0.]\n",
    "b = [0,0,4.,0.]\n",
    "cs,As,bs,varsplit = simplex_format(c,A,b)\n",
    "x = [0.,0,0,0,0,0,0,4]\n",
    "x_simplex = SimplexFromBFS(cs,As,bs,x,index_bfs=[6,7,8],index_nfs=[1,2,3,4,5])\n",
    "x_simplex = x_simplex[:,2]"
   ]
  },
  {
   "cell_type": "code",
   "execution_count": 181,
   "metadata": {},
   "outputs": [
    {
     "data": {
      "text/plain": [
       "3-element Array{Float64,1}:\n",
       "  4.0\n",
       "  0.0\n",
       " -4.0"
      ]
     },
     "execution_count": 181,
     "metadata": {},
     "output_type": "execute_result"
    }
   ],
   "source": [
    "simplex_to_circus = variables_relation(varsplit,3)\n",
    "x_circus = variable_simplex_to_circus(simplex_to_circus,x_simplex)"
   ]
  },
  {
   "cell_type": "code",
   "execution_count": 182,
   "metadata": {},
   "outputs": [
    {
     "data": {
      "text/plain": [
       "8-element Array{Float64,1}:\n",
       " 4.0\n",
       " 0.0\n",
       " 0.0\n",
       " 0.0\n",
       " 4.0\n",
       " 0.0\n",
       " 0.0\n",
       " 0.0"
      ]
     },
     "execution_count": 182,
     "metadata": {},
     "output_type": "execute_result"
    }
   ],
   "source": [
    "x_simplex = variable_circus_to_simplex(simplex_to_circus,x_circus,cs,As,bs)"
   ]
  },
  {
   "cell_type": "markdown",
   "metadata": {},
   "source": [
    "#### Phase 1\n"
   ]
  },
  {
   "cell_type": "code",
   "execution_count": 275,
   "metadata": {},
   "outputs": [
    {
     "data": {
      "text/plain": [
       "([0, 0, 0, 1, -1, 0, 0, 0, 0], [-1.0 1.0 … 0.0 0.0; -1.0 -1.0 … 0.0 0.0; 1.0 0.0 … 1.0 0.0; -1.0 0.0 … 0.0 1.0], [0.0; 0.0; 4.0; -1.0], [2, 3])"
      ]
     },
     "execution_count": 275,
     "metadata": {},
     "output_type": "execute_result"
    }
   ],
   "source": [
    "c = [0,0,1]\n",
    "A = [-1. 1. -1.;\n",
    "     -1. -1. -1.;\n",
    "     1. 0. 0.\n",
    "     -1. 0. 0.]\n",
    "b = [0,0,4.,-1.]\n",
    "\n",
    "x = [0,0,0,0,0,0,0,4,1]\n",
    "cs,As,bs,varsplit = simplex_format(c,A,b)"
   ]
  },
  {
   "cell_type": "code",
   "execution_count": 256,
   "metadata": {},
   "outputs": [
    {
     "data": {
      "text/plain": [
       "phaseI_simplex_problem (generic function with 1 method)"
      ]
     },
     "execution_count": 256,
     "metadata": {},
     "output_type": "execute_result"
    }
   ],
   "source": [
    "function phaseI_simplex_problem(A,b)\n",
    "    for i = 1:size(A)[1]\n",
    "        if b[i]<0\n",
    "            b[i] = -b[i]\n",
    "            A[i,:] = -A[i,:]\n",
    "        end\n",
    "    end\n",
    "    A = hcat(A,Matrix{Float64}(I, size(A)[1], size(A)[1]))\n",
    "    c = zeros(size(A)[2])\n",
    "    c[end-size(A)[1]+1:end] .= 1\n",
    "    x = zeros(size(A)[2])\n",
    "    x[end-size(A)[1]+1:end] = b\n",
    "    return c,A,b,x\n",
    "end"
   ]
  },
  {
   "cell_type": "code",
   "execution_count": 262,
   "metadata": {},
   "outputs": [
    {
     "data": {
      "text/plain": [
       "13-element Array{Float64,1}:\n",
       " 0.0\n",
       " 0.0\n",
       " 0.0\n",
       " 0.0\n",
       " 0.0\n",
       " 0.0\n",
       " 0.0\n",
       " 0.0\n",
       " 0.0\n",
       " 0.0\n",
       " 0.0\n",
       " 4.0\n",
       " 1.0"
      ]
     },
     "execution_count": 262,
     "metadata": {},
     "output_type": "execute_result"
    }
   ],
   "source": [
    "cpi, Api, bpi, xpi = phaseI_simplex_problem(As,bs)\n",
    "xpi"
   ]
  },
  {
   "cell_type": "code",
   "execution_count": 267,
   "metadata": {},
   "outputs": [
    {
     "data": {
      "text/plain": [
       "4-element Array{Float64,1}:\n",
       " 0.0\n",
       " 0.0\n",
       " 4.0\n",
       " 1.0"
      ]
     },
     "execution_count": 267,
     "metadata": {},
     "output_type": "execute_result"
    }
   ],
   "source": [
    "xpi[13-3:13]"
   ]
  },
  {
   "cell_type": "code",
   "execution_count": 282,
   "metadata": {},
   "outputs": [
    {
     "name": "stdout",
     "output_type": "stream",
     "text": [
      "5   10\n",
      "1   13\n",
      "3   11\n",
      "8   12\n"
     ]
    },
    {
     "data": {
      "text/plain": [
       "3-element Array{Float64,1}:\n",
       "  1.0\n",
       "  0.0\n",
       " -1.0"
      ]
     },
     "execution_count": 282,
     "metadata": {},
     "output_type": "execute_result"
    }
   ],
   "source": [
    "x_simplex = SimplexFromBFS(cpi,Api,bpi,xpi,index_bfs=[10,11,12,13]\n",
    "    ,index_nfs=[1,2,3,4,5,6,7,8,9])\n",
    "\n",
    "x_simplex = x_simplex[1:9,2]\n",
    "\n",
    "simplex_to_circus = variables_relation(varsplit,3)\n",
    "x_circus = variable_simplex_to_circus(simplex_to_circus,x_simplex)"
   ]
  },
  {
   "cell_type": "code",
   "execution_count": 293,
   "metadata": {},
   "outputs": [
    {
     "data": {
      "text/plain": [
       "4-element Array{Float64,1}:\n",
       "  0.0\n",
       "  0.0\n",
       "  4.0\n",
       " -1.0"
      ]
     },
     "execution_count": 293,
     "metadata": {},
     "output_type": "execute_result"
    }
   ],
   "source": [
    "As*x_simplex"
   ]
  },
  {
   "cell_type": "code",
   "execution_count": 294,
   "metadata": {},
   "outputs": [
    {
     "data": {
      "text/plain": [
       "3-element Array{Float64,1}:\n",
       "  1.0\n",
       "  0.0\n",
       " -1.0"
      ]
     },
     "execution_count": 294,
     "metadata": {},
     "output_type": "execute_result"
    }
   ],
   "source": [
    "x_circus"
   ]
  },
  {
   "cell_type": "code",
   "execution_count": 33,
   "metadata": {},
   "outputs": [
    {
     "data": {
      "text/plain": [
       "PyObject <mpl_toolkits.mplot3d.art3d.Path3DCollection object at 0x7f4130524eb0>"
      ]
     },
     "execution_count": 33,
     "metadata": {},
     "output_type": "execute_result"
    }
   ],
   "source": [
    "c = [0,0,1]\n",
    "A = [-1. 1. -1.;\n",
    "     -1. -1. -1.;\n",
    "     1. 0. 0.\n",
    "     -1. 0. 0.]\n",
    "b = [0,0,4.,0.]\n",
    "xo = [1,-1,0.0]\n",
    "\n",
    "pygui(true)\n",
    "px= [0,4 ,4 ,0 ,0,0,0 ,0,4,4,4 ,4]\n",
    "py= [0,0 ,-4,-4,0,4,-4,4,4,-4,0,4]\n",
    "pz= [0,-4,0 ,4 ,0,4,4 ,4,0,0,-4,0]\n",
    "plt= PyPlot.plot3D(px,py,pz)\n",
    "PyPlot.scatter3D([xo[1]],[xo[2]],[xo[3]])"
   ]
  },
  {
   "cell_type": "code",
   "execution_count": 179,
   "metadata": {},
   "outputs": [
    {
     "name": "stdout",
     "output_type": "stream",
     "text": [
      "objective_value(model) = -1.0e-12\n",
      "value(x[i]) = 0.0\n",
      "value(x[i]) = 1.0e-12\n",
      "value(x[i]) = -1.0e-12\n",
      "Clp0006I 0  Obj 0 Dual inf 0.0099999 (1)\n",
      "Clp0029I End of values pass after 1 iterations\n",
      "Clp0006I 1  Obj 0 Dual inf 0.0199998 (2) w.o. free dual inf (0)\n",
      "Clp0003I Stopped - objective value -1e-12\n",
      "Clp0032I Stopped objective -1e-12 - 2 iterations time 0.002\n"
     ]
    },
    {
     "name": "stderr",
     "output_type": "stream",
     "text": [
      "┌ Warning: MathOptInterface.VariablePrimalStart() is not supported by MathOptInterface.Bridges.LazyBridgeOptimizer{MathOptInterface.Utilities.CachingOptimizer{Clp.Optimizer,MathOptInterface.Utilities.UniversalFallback{MathOptInterface.Utilities.Model{Float64}}}}. This information will be discarded.\n",
      "└ @ MathOptInterface.Utilities /home/davi/.julia/packages/MathOptInterface/RmalA/src/Utilities/copy.jl:140\n"
     ]
    },
    {
     "data": {
      "text/plain": [
       "OTHER_LIMIT::TerminationStatusCode = 18"
      ]
     },
     "execution_count": 179,
     "metadata": {},
     "output_type": "execute_result"
    }
   ],
   "source": [
    "model = Model(\n",
    "    with_optimizer(Clp.Optimizer,\n",
    "        SolveType = 1, MaximumIterations=2, PresolveType=1)\n",
    ")\n",
    "@variable(model, x[1:size(c)[1]])\n",
    "set_start_value(x[1],4.0)\n",
    "set_start_value(x[2],0.0)\n",
    "set_start_value(x[3],-4.0)\n",
    "@constraint(model, A * x .<= b)\n",
    "@objective(model, Min, c' * x)\n",
    "\n",
    "optimize!(model)\n",
    "\n",
    "@show objective_value(model);\n",
    "for i = 1:size(c)[1]\n",
    "    @show value(x[i]);\n",
    "end\n",
    "\n",
    "termination_status(model)"
   ]
  },
  {
   "cell_type": "code",
   "execution_count": 166,
   "metadata": {},
   "outputs": [
    {
     "data": {
      "text/plain": [
       "Enum MathOptInterface.TerminationStatusCode:\n",
       "OPTIMIZE_NOT_CALLED = 0\n",
       "OPTIMAL = 1\n",
       "INFEASIBLE = 2\n",
       "DUAL_INFEASIBLE = 3\n",
       "LOCALLY_SOLVED = 4\n",
       "LOCALLY_INFEASIBLE = 5\n",
       "INFEASIBLE_OR_UNBOUNDED = 6\n",
       "ALMOST_OPTIMAL = 7\n",
       "ALMOST_INFEASIBLE = 8\n",
       "ALMOST_DUAL_INFEASIBLE = 9\n",
       "ALMOST_LOCALLY_SOLVED = 10\n",
       "ITERATION_LIMIT = 11\n",
       "TIME_LIMIT = 12\n",
       "NODE_LIMIT = 13\n",
       "SOLUTION_LIMIT = 14\n",
       "MEMORY_LIMIT = 15\n",
       "OBJECTIVE_LIMIT = 16\n",
       "NORM_LIMIT = 17\n",
       "OTHER_LIMIT = 18\n",
       "SLOW_PROGRESS = 19\n",
       "NUMERICAL_ERROR = 20\n",
       "INVALID_MODEL = 21\n",
       "INVALID_OPTION = 22\n",
       "INTERRUPTED = 23\n",
       "OTHER_ERROR = 24"
      ]
     },
     "execution_count": 166,
     "metadata": {},
     "output_type": "execute_result"
    }
   ],
   "source": [
    "termination_status(model) == MOI.OTHER_LIMIT\n",
    "typeof(MOI.OTHER_LIMIT)"
   ]
  },
  {
   "cell_type": "code",
   "execution_count": 115,
   "metadata": {},
   "outputs": [
    {
     "name": "stdout",
     "output_type": "stream",
     "text": [
      "objective_value(vector_model) = 0.0\n",
      "value(x[i]) = 0.0\n",
      "value(x[i]) = 0.0\n",
      "value(x[i]) = 0.0\n"
     ]
    },
    {
     "data": {
      "text/plain": [
       "OPTIMIZE_NOT_CALLED::TerminationStatusCode = 0"
      ]
     },
     "execution_count": 115,
     "metadata": {},
     "output_type": "execute_result"
    }
   ],
   "source": [
    "vector_model = Model(\n",
    "    with_optimizer(GLPK.Optimizer, it_lim = 1)\n",
    ")\n",
    "\n",
    "@variable(vector_model, x[1:size(c)[1]])\n",
    "@constraint(vector_model, A * x .<= b)\n",
    "@objective(vector_model, Min, c' * x)\n",
    "\n",
    "optimize!(vector_model)\n",
    "\n",
    "@show objective_value(vector_model);\n",
    "for i = 1:size(c)[1]\n",
    "    @show value(x[i]);\n",
    "end\n",
    "termination_status(vector_model)"
   ]
  },
  {
   "cell_type": "code",
   "execution_count": 123,
   "metadata": {},
   "outputs": [
    {
     "data": {
      "text/plain": [
       "Enum MathOptInterface.TerminationStatusCode:\n",
       "OPTIMIZE_NOT_CALLED = 0\n",
       "OPTIMAL = 1\n",
       "INFEASIBLE = 2\n",
       "DUAL_INFEASIBLE = 3\n",
       "LOCALLY_SOLVED = 4\n",
       "LOCALLY_INFEASIBLE = 5\n",
       "INFEASIBLE_OR_UNBOUNDED = 6\n",
       "ALMOST_OPTIMAL = 7\n",
       "ALMOST_INFEASIBLE = 8\n",
       "ALMOST_DUAL_INFEASIBLE = 9\n",
       "ALMOST_LOCALLY_SOLVED = 10\n",
       "ITERATION_LIMIT = 11\n",
       "TIME_LIMIT = 12\n",
       "NODE_LIMIT = 13\n",
       "SOLUTION_LIMIT = 14\n",
       "MEMORY_LIMIT = 15\n",
       "OBJECTIVE_LIMIT = 16\n",
       "NORM_LIMIT = 17\n",
       "OTHER_LIMIT = 18\n",
       "SLOW_PROGRESS = 19\n",
       "NUMERICAL_ERROR = 20\n",
       "INVALID_MODEL = 21\n",
       "INVALID_OPTION = 22\n",
       "INTERRUPTED = 23\n",
       "OTHER_ERROR = 24"
      ]
     },
     "metadata": {},
     "output_type": "display_data"
    }
   ],
   "source": [
    "display(typeof(MOI.OPTIMAL))"
   ]
  },
  {
   "cell_type": "code",
   "execution_count": 136,
   "metadata": {},
   "outputs": [
    {
     "data": {
      "text/plain": [
       "Enum MathOptInterface.ResultStatusCode:\n",
       "NO_SOLUTION = 0\n",
       "FEASIBLE_POINT = 1\n",
       "NEARLY_FEASIBLE_POINT = 2\n",
       "INFEASIBLE_POINT = 3\n",
       "INFEASIBILITY_CERTIFICATE = 4\n",
       "NEARLY_INFEASIBILITY_CERTIFICATE = 5\n",
       "REDUCTION_CERTIFICATE = 6\n",
       "NEARLY_REDUCTION_CERTIFICATE = 7\n",
       "UNKNOWN_RESULT_STATUS = 8\n",
       "OTHER_RESULT_STATUS = 9"
      ]
     },
     "metadata": {},
     "output_type": "display_data"
    }
   ],
   "source": [
    "display(typeof(MOI.FEASIBLE_POINT))"
   ]
  },
  {
   "cell_type": "code",
   "execution_count": null,
   "metadata": {},
   "outputs": [],
   "source": []
  },
  {
   "cell_type": "code",
   "execution_count": 10,
   "metadata": {},
   "outputs": [
    {
     "data": {
      "text/plain": [
       "3-element Array{Float64,1}:\n",
       "  4.0\n",
       "  1.1102230246251585e-16\n",
       " -3.999999999999999"
      ]
     },
     "execution_count": 10,
     "metadata": {},
     "output_type": "execute_result"
    }
   ],
   "source": [
    "x = xo\n",
    "num_const, num_var = size(A)\n",
    "cnormed = c/norm(c)\n",
    "Anormed = copy(A)\n",
    "bnormed = copy(b)\n",
    "for  i in 1:num_const\n",
    "    normA = norm(Anormed[i,:])\n",
    "    Anormed[i,:] /= normA\n",
    "    bnormed[i] /= normA\n",
    "end\n",
    "sortedJ = sortperm((Anormed*cnormed),rev=true)\n",
    "J = findall(abs.(b-A*x) .< 1e-8)\n",
    "refinesolution(xo, A, b, c, num_var, 1e-8)"
   ]
  },
  {
   "cell_type": "code",
   "execution_count": 18,
   "metadata": {},
   "outputs": [
    {
     "data": {
      "text/plain": [
       "3-element Array{Float64,1}:\n",
       "  1.0\n",
       " -1.0\n",
       "  0.0"
      ]
     },
     "execution_count": 18,
     "metadata": {},
     "output_type": "execute_result"
    }
   ],
   "source": []
  }
 ],
 "metadata": {
  "kernelspec": {
   "display_name": "Julia 1.4.0",
   "language": "julia",
   "name": "julia-1.4"
  },
  "language_info": {
   "file_extension": ".jl",
   "mimetype": "application/julia",
   "name": "julia",
   "version": "1.4.0"
  }
 },
 "nbformat": 4,
 "nbformat_minor": 4
}
