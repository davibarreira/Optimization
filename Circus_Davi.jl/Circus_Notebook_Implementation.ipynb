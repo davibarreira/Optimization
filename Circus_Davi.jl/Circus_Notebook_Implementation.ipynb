{
 "cells": [
  {
   "cell_type": "code",
   "execution_count": 1,
   "metadata": {},
   "outputs": [
    {
     "name": "stderr",
     "output_type": "stream",
     "text": [
      "┌ Info: Precompiling Clp [e2554f3b-3117-50c0-817c-e040a3ddf72d]\n",
      "└ @ Base loading.jl:1260\n",
      "┌ Info: Precompiling JuMP [4076af6c-e467-56ae-b986-b466b2749572]\n",
      "└ @ Base loading.jl:1260\n"
     ]
    }
   ],
   "source": [
    "include(\"./src/methods.jl\")\n",
    "using PyPlot, JuMP"
   ]
  },
  {
   "cell_type": "code",
   "execution_count": 2,
   "metadata": {},
   "outputs": [],
   "source": [
    "using MathOptInterface"
   ]
  },
  {
   "cell_type": "code",
   "execution_count": 3,
   "metadata": {},
   "outputs": [
    {
     "data": {
      "text/plain": [
       "Dict{Any,Any} with 3 entries:\n",
       "  2 => [2, 3]\n",
       "  3 => [4, 5]\n",
       "  1 => [1]"
      ]
     },
     "execution_count": 3,
     "metadata": {},
     "output_type": "execute_result"
    }
   ],
   "source": [
    "c = [0,0,1]\n",
    "A = [-1. 1. -1.;\n",
    "     -1. -1. -1.;\n",
    "     1. 0. 0.\n",
    "     -1. 0. 0.]\n",
    "b = [0,0,4.,-1.]\n",
    "\n",
    "c_simplex, A_simplex, b_simplex,var_relation = simplex_format(c,A,b)\n",
    "\n",
    "atol = 1e-8\n",
    "max_iter = 1000\n",
    "xzero = []\n",
    "num_const, num_var = size(A)\n",
    "isempty(xzero) ?  x = zeros(num_var) : x = xzero\n",
    "if ~all(A*x - b .<= atol)\n",
    "    phaseI = true\n",
    "    c_phaseI,A_phaseI,b_phaseI,\n",
    "        x_phaseI,bfs,nfs = phaseI_simplex_problem(A_simplex,b_simplex)\n",
    "    x_simplex = SimplexFromBFS(c_phaseI,A_phaseI,\n",
    "        b_phaseI,x_phaseI,index_bfs=bfs,index_nfs=nfs)\n",
    "end\n",
    "var_relation"
   ]
  },
  {
   "cell_type": "code",
   "execution_count": 4,
   "metadata": {},
   "outputs": [
    {
     "data": {
      "text/plain": [
       "4-element Array{Float64,1}:\n",
       "  0.0\n",
       "  0.0\n",
       "  4.0\n",
       " -1.0"
      ]
     },
     "execution_count": 4,
     "metadata": {},
     "output_type": "execute_result"
    }
   ],
   "source": [
    "c = [0,0,1]\n",
    "A = [-1. 1. -1.;\n",
    "     -1. -1. -1.;\n",
    "     1. 0. 0.\n",
    "     -1. 0. 0.]\n",
    "b = [0,0,4.,-1.]"
   ]
  },
  {
   "cell_type": "code",
   "execution_count": 5,
   "metadata": {},
   "outputs": [
    {
     "name": "stdout",
     "output_type": "stream",
     "text": [
      "Coin0506I Presolve 0 (-4) rows, 0 (-3) columns and 0 (-8) elements\n",
      "Clp3002W Empty problem - 0 rows, 0 columns and 0 elements\n",
      "Clp0000I Optimal - objective value -4\n",
      "Coin0511I After Postsolve, objective -4, infeasibilities - dual 0 (0), primal 0 (0)\n",
      "Clp0032I Optimal objective -4 - 0 iterations time 0.002, Presolve 0.00\n"
     ]
    },
    {
     "data": {
      "text/plain": [
       "3-element Array{Float64,1}:\n",
       "  4.0\n",
       " -0.0\n",
       " -4.0"
      ]
     },
     "execution_count": 5,
     "metadata": {},
     "output_type": "execute_result"
    }
   ],
   "source": [
    "model = Model(Clp.Optimizer)\n",
    "@variable(model, x[1:size(c)[1]])\n",
    "@constraint(model,A*x.<=b) \n",
    "@objective(model, Min, c'*x)\n",
    "optimize!(model)\n",
    "xo = zeros(size(c)[1])\n",
    "for i = 1:size(c)[1]\n",
    "    xo[i] = value(x[i])\n",
    "end\n",
    "xo"
   ]
  },
  {
   "cell_type": "code",
   "execution_count": 6,
   "metadata": {},
   "outputs": [
    {
     "data": {
      "text/plain": [
       "3-element Array{Float64,1}:\n",
       "  4.0\n",
       "  0.0\n",
       " -4.0"
      ]
     },
     "execution_count": 6,
     "metadata": {},
     "output_type": "execute_result"
    }
   ],
   "source": [
    "c = [0,0,1]\n",
    "A = [-1. 1. -1.;\n",
    "     -1. -1. -1.;\n",
    "     1. 0. 0.\n",
    "     -1. 0. 0.]\n",
    "b = [0,0,4.,0.]\n",
    "cs,As,bs,var_relation = simplex_format(c,A,b)\n",
    "x = [0.,0,0,0,0,0,0,4]\n",
    "x_simplex = SimplexFromBFS(cs,As,bs,x,index_bfs=[6,7,8],index_nfs=[1,2,3,4,5])\n",
    "x_circus = variable_simplex_to_circus(var_relation,x_simplex)\n",
    "x_simplex = variable_circus_to_simplex(var_relation,x_circus,cs,As,bs)\n",
    "x_circus"
   ]
  },
  {
   "cell_type": "markdown",
   "metadata": {},
   "source": [
    "#### Phase 1\n"
   ]
  },
  {
   "cell_type": "code",
   "execution_count": 7,
   "metadata": {},
   "outputs": [
    {
     "data": {
      "text/plain": [
       "([0.0, 0.0, 0.0, 0.0, 0.0, 0.0, 0.0, 0.0, 0.0, 1.0, 1.0, 1.0, 1.0], [-1.0 1.0 … 0.0 0.0; -1.0 -1.0 … 0.0 0.0; 1.0 0.0 … 1.0 0.0; 1.0 -0.0 … 0.0 1.0], [0.0; 0.0; 4.0; 1.0], [0.0, 0.0, 0.0, 0.0, 0.0, 0.0, 0.0, 0.0, 0.0, 0.0, 0.0, 4.0, 1.0], [10, 11, 12, 13], [1, 2, 3, 4, 5, 6, 7, 8, 9])"
      ]
     },
     "execution_count": 7,
     "metadata": {},
     "output_type": "execute_result"
    }
   ],
   "source": [
    "c = [0,0,1]\n",
    "A = [-1. 1. -1.;\n",
    "     -1. -1. -1.;\n",
    "     1. 0. 0.\n",
    "     -1. 0. 0.]\n",
    "b = [0,0,4.,-1.]\n",
    "\n",
    "# x = [0,0,0,0,0,0,0,4,1]\n",
    "cs,As,bs,var_relation = simplex_format(c,A,b)\n",
    "cpi, Api, bpi, xpi,bfs_pi,nfs_pi = phaseI_simplex_problem(As,bs)"
   ]
  },
  {
   "cell_type": "code",
   "execution_count": 8,
   "metadata": {},
   "outputs": [
    {
     "data": {
      "text/plain": [
       "3-element Array{Float64,1}:\n",
       "  1.0\n",
       "  0.0\n",
       " -1.0"
      ]
     },
     "execution_count": 8,
     "metadata": {},
     "output_type": "execute_result"
    }
   ],
   "source": [
    "x_simplex = SimplexFromBFS(cpi,Api,bpi,xpi,index_bfs=bfs_pi,index_nfs=nfs_pi)\n",
    "x_circus = variable_simplex_to_circus(var_relation,x_simplex)"
   ]
  },
  {
   "cell_type": "code",
   "execution_count": 9,
   "metadata": {},
   "outputs": [
    {
     "name": "stdout",
     "output_type": "stream",
     "text": [
      "Coin0506I Presolve 0 (-17) rows, 0 (-13) columns and 0 (-33) elements\n",
      "Clp3002W Empty problem - 0 rows, 0 columns and 0 elements\n",
      "Clp0000I Optimal - objective value 0\n",
      "Coin0511I After Postsolve, objective 0, infeasibilities - dual 0 (0), primal 0 (0)\n",
      "Clp0032I Optimal objective 0 - 0 iterations time 0.002, Presolve 0.00\n"
     ]
    }
   ],
   "source": [
    "model = Model(Clp.Optimizer)\n",
    "@variable(model, x[1:size(cpi)[1]])\n",
    "@constraint(model,Api*x.==bpi) \n",
    "@constraint(model,x.>=zeros(size(cpi)[1])) \n",
    "@objective(model, Min, cpi'*x)\n",
    "optimize!(model)\n",
    "xo = zeros(size(cpi)[1])\n",
    "for i = 1:size(cpi)[1]\n",
    "    xo[i] = value(x[i])\n",
    "end\n",
    "# x_circus = variable_simplex_to_circus(var_relation,xo)\n",
    "\n",
    "# termination_status(model)\n",
    "# display(typeof(MOI.OPTIMAL))"
   ]
  },
  {
   "cell_type": "code",
   "execution_count": 10,
   "metadata": {},
   "outputs": [
    {
     "name": "stderr",
     "output_type": "stream",
     "text": [
      "libGL error: MESA-LOADER: failed to open iris (search paths /usr/lib/x86_64-linux-gnu/dri:\\$${ORIGIN}/dri:/usr/lib/dri)\n",
      "libGL error: failed to load driver: iris\n",
      "libGL error: MESA-LOADER: failed to open iris (search paths /usr/lib/x86_64-linux-gnu/dri:\\$${ORIGIN}/dri:/usr/lib/dri)\n",
      "libGL error: failed to load driver: iris\n",
      "libGL error: MESA-LOADER: failed to open swrast (search paths /usr/lib/x86_64-linux-gnu/dri:\\$${ORIGIN}/dri:/usr/lib/dri)\n",
      "libGL error: failed to load driver: swrast\n"
     ]
    },
    {
     "data": {
      "text/plain": [
       "PyObject <mpl_toolkits.mplot3d.art3d.Path3DCollection object at 0x7f48a450ff90>"
      ]
     },
     "execution_count": 10,
     "metadata": {},
     "output_type": "execute_result"
    }
   ],
   "source": [
    "c = [0,0,1]\n",
    "A = [-1. 1. -1.;\n",
    "     -1. -1. -1.;\n",
    "     1. 0. 0.\n",
    "     -1. 0. 0.]\n",
    "b = [0,0,4.,-1.]\n",
    "# xo = x_circus\n",
    "\n",
    "pygui(true)\n",
    "px= [1,4 ,4 ,1 ,1,1,1 ,1,4,4,4 ,4]\n",
    "py= [0,0 ,-4,-4,0,4,-4,4,4,-4,0,4]\n",
    "pz= [-1,-4,0 ,3 ,-1,3,3 ,3,0,0,-4,0]\n",
    "plt= PyPlot.plot3D(px,py,pz)\n",
    "PyPlot.scatter3D([xo[1]],[xo[2]],[xo[3]])"
   ]
  },
  {
   "cell_type": "markdown",
   "metadata": {},
   "source": [
    "### Checking if BFS is Optimal"
   ]
  },
  {
   "cell_type": "code",
   "execution_count": 11,
   "metadata": {},
   "outputs": [
    {
     "data": {
      "text/plain": [
       "1"
      ]
     },
     "execution_count": 11,
     "metadata": {},
     "output_type": "execute_result"
    }
   ],
   "source": [
    "function check_optimality(c,A,b,x;index_bfs=[],index_nfs=[])\n",
    "    c = -c\n",
    "    # Initial setup\n",
    "    initial_bfs = x\n",
    "    e  = 10^-7\n",
    "    if size(index_bfs)[1]>0\n",
    "        B = index_bfs\n",
    "        N = index_nfs\n",
    "    else\n",
    "        B  = findall(initial_bfs .> 0+e)\n",
    "        N  = findall(initial_bfs .<= 0+e)\n",
    "    end\n",
    "    xn = initial_bfs[N]; xb = initial_bfs[B];\n",
    "\n",
    "    Ab = A[:,B]; An = A[:,N]; cb = c[B]; cn = c[N]\n",
    "    p  = inv(Ab)*b\n",
    "    Q  = -inv(Ab)*An\n",
    "    r  = (cb'*Q + cn')'\n",
    "    if all(r.<= 0+e)\n",
    "        return 1\n",
    "    else\n",
    "        return 0\n",
    "    end\n",
    "end\n",
    "check_optimality(cpi,Api,bpi,xo)"
   ]
  },
  {
   "cell_type": "code",
   "execution_count": 12,
   "metadata": {},
   "outputs": [
    {
     "data": {
      "text/plain": [
       "1"
      ]
     },
     "execution_count": 12,
     "metadata": {},
     "output_type": "execute_result"
    }
   ],
   "source": [
    "c = [0,0,1]\n",
    "A = [-1. 1. -1.;\n",
    "     -1. -1. -1.;\n",
    "     1. 0. 0.\n",
    "     -1. 0. 0.]\n",
    "b = [0,0,4.,0.]\n",
    "cs,As,bs,var_relation = simplex_format(c,A,b)\n",
    "x = [0.,0,0,0,0,0,0,4]\n",
    "x_simplex = SimplexFromBFS(cs,As,bs,x,index_bfs=[6,7,8],index_nfs=[1,2,3,4,5])\n",
    "x_circus  = variable_simplex_to_circus(var_relation,x_simplex)\n",
    "active_ix = [1,2,3]\n",
    "active_ix_simplex = []\n",
    "for i in active_ix\n",
    "    push!(active_ix_simplex,var_relation[i][1])\n",
    "end\n",
    "nactive_ix_simplex = filter(x -> !(x in active_ix_simplex),collect(1:size(x_simplex)[1]))\n",
    "\n",
    "check_optimality(cs,As,bs,x_simplex,index_bfs=active_ix_simplex,index_nfs=nactive_ix_simplex)"
   ]
  },
  {
   "cell_type": "markdown",
   "metadata": {},
   "source": [
    "### Importing MPS file test case "
   ]
  },
  {
   "cell_type": "code",
   "execution_count": 13,
   "metadata": {},
   "outputs": [
    {
     "name": "stdout",
     "output_type": "stream",
     "text": [
      "objective_value(model) = -464.75314285714296\n",
      "X_sol = [339.94285714285724, 0.0, 0.0, 0.0, 0.0, 54.50000000000001, 0.0, 0.0, 19.307142857142853, 0.0, 25.499999999999993, 0.0, 500.00000000000006, 18.214285714285708, 84.80000000000001, 0.0, 0.0, 24.079999999999984, 80.0, 18.214285714285708, -2.3606070955485056e-14, 215.00000000000003, 0.0, -5.684341886080802e-14, 0.0, 0.0, 0.0, 475.92000000000013, 0.0, 0.0, 0.0, 383.94285714285724]\n",
      "Coin0506I Presolve 6 (-21) rows, 9 (-23) columns and 26 (-57) elements\n",
      "Clp0006I 0  Obj 0 Dual inf 1,8228541 (3)\n",
      "Clp0006I 3  Obj -464,75314\n",
      "Clp0000I Optimal - objective value -464,75314\n",
      "Coin0511I After Postsolve, objective -464,75314, infeasibilities - dual 0 (0), primal 0 (0)\n",
      "Clp0032I Optimal objective -464,7531429 - 3 iterations time 0,002, Presolve 0,00\n"
     ]
    }
   ],
   "source": [
    "model = JuMP.read_from_file(\"../TestCases/afiro.mps\")\n",
    "set_optimizer(model,Clp.Optimizer)\n",
    "optimize!(model)\n",
    "variables = JuMP.all_variables(model)\n",
    "X_sol = zeros(size(variables)[1])\n",
    "for (i,v) in enumerate(variables)\n",
    "    X_sol[i] = value(v)\n",
    "end\n",
    "\n",
    "@show objective_value(model);\n",
    "@show X_sol;\n",
    "\n",
    "\n",
    "list_of_constraint_types(model)\n",
    "\n",
    "gc = JuMP.all_constraints(model,VariableRef, MOI.GreaterThan{Float64})\n",
    "ec = JuMP.all_constraints(model,GenericAffExpr{Float64,VariableRef}, MOI.EqualTo{Float64})\n",
    "lc = JuMP.all_constraints(model,GenericAffExpr{Float64,VariableRef}, MOI.LessThan{Float64})\n",
    "cj = JuMP.objective_function(model)\n",
    "\n",
    "variables = JuMP.all_variables(model)\n",
    "A = zeros(1,size(variables)[1])\n",
    "b= zeros(1)\n",
    "\n",
    "c = zeros(1,size(variables)[1])\n",
    "c[1,indexin(cj.terms.keys,variables)] = cj.terms.vals\n",
    "c = c'[:]\n",
    "\n",
    "for i in 1:size(lc)[1]\n",
    "    Aux = zeros(1,size(variables)[1])\n",
    "    lc_terms = constraint_object(lc[i]).func.terms\n",
    "    lc_value = constraint_object(lc[i]).set.upper\n",
    "    if i == 1\n",
    "        A[1,indexin(lc_terms.keys,variables)] = lc_terms.vals\n",
    "        b = lc_value\n",
    "    else\n",
    "        Aux[1,indexin(lc_terms.keys,variables)] = lc_terms.vals\n",
    "        A = vcat(A,Aux)\n",
    "        b = vcat(b,lc_value)\n",
    "    end\n",
    "end\n",
    "\n",
    "for i in 1:size(gc)[1]\n",
    "    Aux = zeros(1,size(variables)[1])\n",
    "    lc_terms = constraint_object(gc[i]).func\n",
    "    lc_value = constraint_object(gc[i]).set.lower\n",
    "    Aux[1,findfirst(variables .== lc_terms)] = -1\n",
    "    A = vcat(A,Aux)\n",
    "    b = vcat(b,lc_value)\n",
    "end\n",
    "\n",
    "for i in 1:size(ec)[1]\n",
    "    Aux = zeros(1,size(variables)[1])\n",
    "    lc_terms = constraint_object(ec[i]).func.terms\n",
    "    lc_value = constraint_object(ec[i]).set.value\n",
    "    Aux[1,indexin(lc_terms.keys,variables)] = lc_terms.vals\n",
    "    A = vcat(A,Aux)\n",
    "    b = vcat(b,lc_value)\n",
    "    \n",
    "    Aux[1,indexin(lc_terms.keys,variables)] = -lc_terms.vals\n",
    "    A = vcat(A,Aux)\n",
    "    b = vcat(b,-lc_value)\n",
    "end\n"
   ]
  },
  {
   "cell_type": "code",
   "execution_count": 43,
   "metadata": {},
   "outputs": [
    {
     "name": "stdout",
     "output_type": "stream",
     "text": [
      "objective_value(model) = -464.75314285714285\n",
      "Coin0506I Presolve 11 (-56) rows, 16 (-16) columns and 58 (-91) elements\n",
      "Clp0006I 0  Obj 0 Dual inf 2,199997 (3)\n",
      "Clp0006I 4  Obj -464,75314\n",
      "Clp0000I Optimal - objective value -464,75314\n",
      "Coin0511I After Postsolve, objective -464,75314, infeasibilities - dual 0 (0), primal 0 (0)\n",
      "Clp0032I Optimal objective -464,7531429 - 4 iterations time 0,002, Presolve 0,00\n"
     ]
    }
   ],
   "source": [
    "model = Model(Clp.Optimizer)\n",
    "@variable(model, x[1:size(c)[1]])\n",
    "@constraint(model,A*x.<=b) \n",
    "@objective(model, Min, c'*x)\n",
    "optimize!(model)\n",
    "xo = zeros(size(c)[1])\n",
    "for i = 1:size(c)[1]\n",
    "    xo[i] = value(x[i])\n",
    "end\n",
    "xo\n",
    "@show objective_value(model);"
   ]
  },
  {
   "cell_type": "code",
   "execution_count": 45,
   "metadata": {},
   "outputs": [
    {
     "name": "stdout",
     "output_type": "stream",
     "text": [
      "objective_value(model) = -464.75314285714285\n",
      "Coin0506I Presolve 13 (-89) rows, 20 (-47) columns and 86 (-133) elements\n",
      "Clp0006I 0  Obj 0 Primal inf 688 (4) Dual inf 4,217396 (4)\n",
      "Clp0006I 8  Obj -464,75314\n",
      "Clp0000I Optimal - objective value -464,75314\n",
      "Coin0511I After Postsolve, objective -464,75314, infeasibilities - dual 0 (0), primal 0 (0)\n",
      "Clp0032I Optimal objective -464,7531429 - 8 iterations time 0,002, Presolve 0,00\n"
     ]
    }
   ],
   "source": [
    "cs,As,bs,var_relation = simplex_format(c,A,b)\n",
    "model = Model(Clp.Optimizer)\n",
    "@variable(model, x[1:size(cs)[1]])\n",
    "@constraint(model,As*x.==bs) \n",
    "@constraint(model,x.>=zeros(size(cs)[1])) \n",
    "@objective(model, Min, cs'*x)\n",
    "optimize!(model)\n",
    "@show objective_value(model);"
   ]
  },
  {
   "cell_type": "code",
   "execution_count": 46,
   "metadata": {},
   "outputs": [
    {
     "data": {
      "text/latex": [
       "$$ \\begin{alignat*}{1}\\min\\quad & -0.48 x_{1} - 0.4 x_{11} - 0.32 x_{14} - 0.6 x_{28} + 10 x_{29}\\\\\n",
       "\\text{Subject to} \\quad & -x_{12} + x_{16} + x_{33} = 0.0\\\\\n",
       " & x_{3} - x_{8} + x_{34} = 0.0\\\\\n",
       " & -x_{17} + x_{25} + x_{35} = 0.0\\\\\n",
       " & 1.4 x_{1} - x_{28} + x_{36} = 0.0\\\\\n",
       " & -x_{6} + 0.109 x_{13} + x_{37} = 0.0\\\\\n",
       " & x_{7} + x_{9} + x_{38} = 300.0\\\\\n",
       " & -x_{11} + 1.4 x_{14} + x_{39} = 0.0\\\\\n",
       " & x_{15} + x_{22} + x_{40} = 310.0\\\\\n",
       " & x_{5} - x_{21} + x_{41} = 0.0\\\\\n",
       " & 0.313 x_{5} + 0.313 x_{16} + 0.301 x_{20} + 0.326 x_{25} - x_{32} + x_{42} = 0.0\\\\\n",
       " & -x_{10} + x_{31} + x_{43} = 0.0\\\\\n",
       " & -x_{18} + 0.301 x_{19} + x_{44} = 0.0\\\\\n",
       " & x_{20} - x_{27} + x_{45} = 80.0\\\\\n",
       " & 2.219 x_{2} + 2.191 x_{4} + 2.249 x_{8} + 2.279 x_{10} + 2.386 x_{12} + 2.429 x_{17} + 2.408 x_{21} - x_{24} + 2.364 x_{27} + x_{46} = 0.0\\\\\n",
       " & x_{13} + x_{47} = 500.0\\\\\n",
       " & -x_{2} + x_{23} + x_{48} = 0.0\\\\\n",
       " & -x_{4} + x_{26} + x_{49} = 500.0\\\\\n",
       " & x_{19} + x_{50} = 80.0\\\\\n",
       " & 0.108 x_{3} + 0.108 x_{23} + 0.109 x_{26} - x_{30} + 0.107 x_{31} + x_{51} = 0.0\\\\\n",
       " & -x_{1} + x_{3} + x_{23} + x_{26} + x_{29} + x_{31} + x_{32} + x_{52} = 44.0\\\\\n",
       " & x_{1} - x_{3} - x_{23} - x_{26} - x_{29} - x_{31} - x_{32} + x_{53} = -44.0\\\\\n",
       " & -x_{5} + x_{14} - x_{16} - x_{20} - x_{25} + x_{30} + x_{54} = 0.0\\\\\n",
       " & x_{5} - x_{14} + x_{16} + x_{20} + x_{25} - x_{30} + x_{55} = 0.0\\\\\n",
       " & x_{6} + x_{11} - x_{19} + x_{56} = 0.0\\\\\n",
       " & -x_{6} - x_{11} + x_{19} + x_{57} = 0.0\\\\\n",
       " & -x_{13} + x_{18} + x_{24} + x_{28} + x_{58} = 0.0\\\\\n",
       " & x_{13} - x_{18} - x_{24} - x_{28} + x_{59} = 0.0\\\\\n",
       " & x_{15} - 1.06 x_{19} + x_{60} = 0.0\\\\\n",
       " & -x_{15} + 1.06 x_{19} + x_{61} = 0.0\\\\\n",
       " & -0.43 x_{13} + x_{22} + x_{62} = 0.0\\\\\n",
       " & 0.43 x_{13} - x_{22} + x_{63} = 0.0\\\\\n",
       " & -0.96 x_{5} + x_{9} - 1.06 x_{16} - 1.06 x_{20} - 0.86 x_{25} + x_{64} = 0.0\\\\\n",
       " & 0.96 x_{5} - x_{9} + 1.06 x_{16} + 1.06 x_{20} + 0.86 x_{25} + x_{65} = 0.0\\\\\n",
       " & -0.39 x_{3} + x_{7} - 0.43 x_{23} - 0.43 x_{26} - 0.37 x_{31} + x_{66} = 0.0\\\\\n",
       " & 0.39 x_{3} - x_{7} + 0.43 x_{23} + 0.43 x_{26} + 0.37 x_{31} + x_{67} = 0.0\\\\\n",
       " & x_{1} \\geq 0.0\\\\\n",
       " & x_{2} \\geq 0.0\\\\\n",
       " & x_{3} \\geq 0.0\\\\\n",
       " & x_{4} \\geq 0.0\\\\\n",
       " & x_{5} \\geq 0.0\\\\\n",
       " & x_{6} \\geq 0.0\\\\\n",
       " & x_{7} \\geq 0.0\\\\\n",
       " & x_{8} \\geq 0.0\\\\\n",
       " & x_{9} \\geq 0.0\\\\\n",
       " & x_{10} \\geq 0.0\\\\\n",
       " & x_{11} \\geq 0.0\\\\\n",
       " & x_{12} \\geq 0.0\\\\\n",
       " & x_{13} \\geq 0.0\\\\\n",
       " & x_{14} \\geq 0.0\\\\\n",
       " & x_{15} \\geq 0.0\\\\\n",
       " & x_{16} \\geq 0.0\\\\\n",
       " & x_{17} \\geq 0.0\\\\\n",
       " & x_{18} \\geq 0.0\\\\\n",
       " & x_{19} \\geq 0.0\\\\\n",
       " & x_{20} \\geq 0.0\\\\\n",
       " & x_{21} \\geq 0.0\\\\\n",
       " & x_{22} \\geq 0.0\\\\\n",
       " & x_{23} \\geq 0.0\\\\\n",
       " & x_{24} \\geq 0.0\\\\\n",
       " & x_{25} \\geq 0.0\\\\\n",
       " & x_{26} \\geq 0.0\\\\\n",
       " & x_{27} \\geq 0.0\\\\\n",
       " & x_{28} \\geq 0.0\\\\\n",
       " & x_{29} \\geq 0.0\\\\\n",
       " & x_{30} \\geq 0.0\\\\\n",
       " & x_{31} \\geq 0.0\\\\\n",
       " & x_{32} \\geq 0.0\\\\\n",
       " & x_{33} \\geq 0.0\\\\\n",
       " & x_{34} \\geq 0.0\\\\\n",
       " & x_{35} \\geq 0.0\\\\\n",
       " & x_{36} \\geq 0.0\\\\\n",
       " & x_{37} \\geq 0.0\\\\\n",
       " & x_{38} \\geq 0.0\\\\\n",
       " & x_{39} \\geq 0.0\\\\\n",
       " & x_{40} \\geq 0.0\\\\\n",
       " & x_{41} \\geq 0.0\\\\\n",
       " & x_{42} \\geq 0.0\\\\\n",
       " & x_{43} \\geq 0.0\\\\\n",
       " & x_{44} \\geq 0.0\\\\\n",
       " & x_{45} \\geq 0.0\\\\\n",
       " & x_{46} \\geq 0.0\\\\\n",
       " & x_{47} \\geq 0.0\\\\\n",
       " & x_{48} \\geq 0.0\\\\\n",
       " & x_{49} \\geq 0.0\\\\\n",
       " & x_{50} \\geq 0.0\\\\\n",
       " & x_{51} \\geq 0.0\\\\\n",
       " & x_{52} \\geq 0.0\\\\\n",
       " & x_{53} \\geq 0.0\\\\\n",
       " & x_{54} \\geq 0.0\\\\\n",
       " & x_{55} \\geq 0.0\\\\\n",
       " & x_{56} \\geq 0.0\\\\\n",
       " & x_{57} \\geq 0.0\\\\\n",
       " & x_{58} \\geq 0.0\\\\\n",
       " & x_{59} \\geq 0.0\\\\\n",
       " & x_{60} \\geq 0.0\\\\\n",
       " & x_{61} \\geq 0.0\\\\\n",
       " & x_{62} \\geq 0.0\\\\\n",
       " & x_{63} \\geq 0.0\\\\\n",
       " & x_{64} \\geq 0.0\\\\\n",
       " & x_{65} \\geq 0.0\\\\\n",
       " & x_{66} \\geq 0.0\\\\\n",
       " & x_{67} \\geq 0.0\\\\\n",
       "\\end{alignat*}\n",
       " $$"
      ],
      "text/plain": [
       "A JuMP Model\n",
       "Minimization problem with:\n",
       "Variables: 67\n",
       "Objective function type: GenericAffExpr{Float64,VariableRef}\n",
       "`GenericAffExpr{Float64,VariableRef}`-in-`MathOptInterface.EqualTo{Float64}`: 35 constraints\n",
       "`GenericAffExpr{Float64,VariableRef}`-in-`MathOptInterface.GreaterThan{Float64}`: 67 constraints\n",
       "Model mode: AUTOMATIC\n",
       "CachingOptimizer state: ATTACHED_OPTIMIZER\n",
       "Solver name: Clp\n",
       "Names registered in the model: x"
      ]
     },
     "execution_count": 46,
     "metadata": {},
     "output_type": "execute_result"
    }
   ],
   "source": [
    "model"
   ]
  }
 ],
 "metadata": {
  "kernelspec": {
   "display_name": "Julia 1.4.1",
   "language": "julia",
   "name": "julia-1.4"
  },
  "language_info": {
   "file_extension": ".jl",
   "mimetype": "application/julia",
   "name": "julia",
   "version": "1.4.1"
  }
 },
 "nbformat": 4,
 "nbformat_minor": 4
}
