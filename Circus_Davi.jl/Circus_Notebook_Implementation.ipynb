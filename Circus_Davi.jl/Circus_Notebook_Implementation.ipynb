{
 "cells": [
  {
   "cell_type": "code",
   "execution_count": 1,
   "metadata": {},
   "outputs": [],
   "source": [
    "include(\"./src/methods.jl\")\n",
    "using PyPlot"
   ]
  },
  {
   "cell_type": "code",
   "execution_count": 2,
   "metadata": {},
   "outputs": [
    {
     "data": {
      "text/plain": [
       "3-element Array{Float64,1}:\n",
       "  4.0\n",
       "  0.0\n",
       " -4.0"
      ]
     },
     "execution_count": 2,
     "metadata": {},
     "output_type": "execute_result"
    }
   ],
   "source": [
    "c = [0,0,1]\n",
    "A = [-1. 1. -1.;\n",
    "     -1. -1. -1.;\n",
    "     1. 0. 0.\n",
    "     -1. 0. 0.]\n",
    "b = [0,0,4.,0.]\n",
    "cs,As,bs,varsplit = simplex_format(c,A,b)\n",
    "x = [0.,0,0,0,0,0,0,4]\n",
    "x_simplex = SimplexFromBFS(cs,As,bs,x,index_bfs=[6,7,8],index_nfs=[1,2,3,4,5])\n",
    "x_simplex = x_simplex[:,2]\n",
    "simplex_to_circus = variables_relation(varsplit,3)\n",
    "x_circus = variable_simplex_to_circus(simplex_to_circus,x_simplex)"
   ]
  },
  {
   "cell_type": "code",
   "execution_count": 3,
   "metadata": {},
   "outputs": [
    {
     "data": {
      "text/plain": [
       "8-element Array{Float64,1}:\n",
       " 4.0\n",
       " 0.0\n",
       " 0.0\n",
       " 0.0\n",
       " 4.0\n",
       " 0.0\n",
       " 0.0\n",
       " 0.0"
      ]
     },
     "execution_count": 3,
     "metadata": {},
     "output_type": "execute_result"
    }
   ],
   "source": [
    "x_simplex = variable_circus_to_simplex(simplex_to_circus,x_circus,cs,As,bs)"
   ]
  },
  {
   "cell_type": "markdown",
   "metadata": {},
   "source": [
    "#### Phase 1\n"
   ]
  },
  {
   "cell_type": "code",
   "execution_count": 4,
   "metadata": {},
   "outputs": [
    {
     "data": {
      "text/plain": [
       "([0, 0, 0, 1, -1, 0, 0, 0, 0], [-1.0 1.0 … 0.0 0.0; -1.0 -1.0 … 0.0 0.0; 1.0 0.0 … 1.0 0.0; -1.0 0.0 … 0.0 1.0], [0.0; 0.0; 4.0; -1.0], [2, 3])"
      ]
     },
     "execution_count": 4,
     "metadata": {},
     "output_type": "execute_result"
    }
   ],
   "source": [
    "c = [0,0,1]\n",
    "A = [-1. 1. -1.;\n",
    "     -1. -1. -1.;\n",
    "     1. 0. 0.\n",
    "     -1. 0. 0.]\n",
    "b = [0,0,4.,-1.]\n",
    "\n",
    "x = [0,0,0,0,0,0,0,4,1]\n",
    "cs,As,bs,varsplit = simplex_format(c,A,b)"
   ]
  },
  {
   "cell_type": "code",
   "execution_count": 5,
   "metadata": {},
   "outputs": [
    {
     "data": {
      "text/plain": [
       "([0.0, 0.0, 0.0, 0.0, 0.0, 0.0, 0.0, 0.0, 0.0, 1.0, 1.0, 1.0, 1.0], [-1.0 1.0 … 0.0 0.0; -1.0 -1.0 … 0.0 0.0; 1.0 0.0 … 1.0 0.0; 1.0 -0.0 … 0.0 1.0], [0.0; 0.0; 4.0; 1.0], [0.0, 0.0, 0.0, 0.0, 0.0, 0.0, 0.0, 0.0, 0.0, 0.0, 0.0, 4.0, 1.0], [10, 11, 12, 13], [1, 2, 3, 4, 5, 6, 7, 8, 9])"
      ]
     },
     "execution_count": 5,
     "metadata": {},
     "output_type": "execute_result"
    }
   ],
   "source": [
    "cpi, Api, bpi, xpi,bfs_pi,nfs_pi = phaseI_simplex_problem(As,bs)"
   ]
  },
  {
   "cell_type": "code",
   "execution_count": 6,
   "metadata": {},
   "outputs": [
    {
     "data": {
      "text/plain": [
       "3-element Array{Float64,1}:\n",
       "  1.0\n",
       "  0.0\n",
       " -1.0"
      ]
     },
     "execution_count": 6,
     "metadata": {},
     "output_type": "execute_result"
    }
   ],
   "source": [
    "x_simplex = SimplexFromBFS(cpi,Api,bpi,xpi,index_bfs=bfs_pi,index_nfs=nfs_pi)\n",
    "\n",
    "x_simplex = x_simplex[1:9,2]\n",
    "\n",
    "simplex_to_circus = variables_relation(varsplit,3)\n",
    "x_circus = variable_simplex_to_circus(simplex_to_circus,x_simplex)"
   ]
  },
  {
   "cell_type": "code",
   "execution_count": 21,
   "metadata": {},
   "outputs": [
    {
     "data": {
      "text/plain": [
       "PyObject <mpl_toolkits.mplot3d.art3d.Path3DCollection object at 0x7f3164e83eb0>"
      ]
     },
     "execution_count": 21,
     "metadata": {},
     "output_type": "execute_result"
    }
   ],
   "source": [
    "c = [0,0,1]\n",
    "A = [-1. 1. -1.;\n",
    "     -1. -1. -1.;\n",
    "     1. 0. 0.\n",
    "     -1. 0. 0.]\n",
    "b = [0,0,4.,0.]\n",
    "xo = x_circus\n",
    "\n",
    "pygui(true)\n",
    "px= [1,4 ,4 ,1 ,1,1,1 ,1,4,4,4 ,4]\n",
    "py= [0,0 ,-4,-4,0,4,-4,4,4,-4,0,4]\n",
    "pz= [-1,-4,0 ,3 ,-1,3,3 ,3,0,0,-4,0]\n",
    "plt= PyPlot.plot3D(px,py,pz)\n",
    "PyPlot.scatter3D([xo[1]],[xo[2]],[xo[3]])"
   ]
  },
  {
   "cell_type": "code",
   "execution_count": null,
   "metadata": {},
   "outputs": [],
   "source": []
  }
 ],
 "metadata": {
  "kernelspec": {
   "display_name": "Julia 1.4.0",
   "language": "julia",
   "name": "julia-1.4"
  },
  "language_info": {
   "file_extension": ".jl",
   "mimetype": "application/julia",
   "name": "julia",
   "version": "1.4.0"
  }
 },
 "nbformat": 4,
 "nbformat_minor": 4
}
