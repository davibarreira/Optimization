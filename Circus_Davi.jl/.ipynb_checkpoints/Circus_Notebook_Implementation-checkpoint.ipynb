{
 "cells": [
  {
   "cell_type": "code",
   "execution_count": 1,
   "metadata": {},
   "outputs": [
    {
     "data": {
      "text/plain": [
       "circussimplex (generic function with 1 method)"
      ]
     },
     "execution_count": 1,
     "metadata": {},
     "output_type": "execute_result"
    }
   ],
   "source": [
    "include(\"./src/methods.jl\")"
   ]
  },
  {
   "cell_type": "code",
   "execution_count": 2,
   "metadata": {},
   "outputs": [],
   "source": [
    "using PyPlot, JuMP"
   ]
  },
  {
   "cell_type": "code",
   "execution_count": 41,
   "metadata": {},
   "outputs": [
    {
     "data": {
      "text/plain": [
       "simplex_format (generic function with 1 method)"
      ]
     },
     "execution_count": 41,
     "metadata": {},
     "output_type": "execute_result"
    }
   ],
   "source": [
    "\n",
    "\"\"\"\n",
    "    simplex_format(c, A, b)\n",
    "Adjust the format from\n",
    "           min  dot(c, x)\n",
    "    subject to  A x ≦ b\n",
    "To the standard Simplex fomat which is\n",
    "           min  dot(c, x)\n",
    "    subject to  A x = b\n",
    "\"\"\"\n",
    "\n",
    "function simplex_format(c,A,b)\n",
    "    row_remove = []\n",
    "    var_stay   = []\n",
    "    for i = 1:size(A)[1]\n",
    "        present_variables = .!(A[i,:].≈0)\n",
    "        if sum(present_variables) == 1\n",
    "            if all(A[i,present_variables].<0) && b[i].≈0\n",
    "                push!(row_remove,i)\n",
    "                push!(var_stay,findmax(present_variables)[2])\n",
    "            elseif all(sign.(A[i,present_variables]).!=sign(b[i]))\n",
    "                push!(row_remove,i)\n",
    "                push!(var_stay,findmax(present_variables)[2])\n",
    "            else\n",
    "                v = zeros(size(A)[1])\n",
    "                v[i] = 1\n",
    "                A = hcat(A,v)\n",
    "                c = vcat(c,0)\n",
    "                push!(var_stay,findmax(present_variables)[2])\n",
    "                push!(var_stay,size(c)[1])\n",
    "            end\n",
    "        else\n",
    "            v = zeros(size(A)[1])\n",
    "            v[i] = 1\n",
    "            A = hcat(A,v)\n",
    "            c = vcat(c,0)\n",
    "            push!(var_stay,size(c)[1])\n",
    "        end\n",
    "    end\n",
    "\n",
    "    A = A[setdiff(1:end, row_remove),:]\n",
    "    b = b[setdiff(1:end, row_remove),:]\n",
    "    var_split = setdiff(1:size(c)[1],var_stay)\n",
    "    aux = 0\n",
    "    for i in var_split\n",
    "        if i == size(A[2])\n",
    "            A = hcat(A,-A[:,i])\n",
    "            c = hcat(c,-c[:,i])\n",
    "        else\n",
    "            A_ = A[:,1:i+aux]\n",
    "            A_ = hcat(A_,-A[:,i+aux])\n",
    "            _A = A[:,i+1+aux:end]\n",
    "            A  = hcat(A_,_A)\n",
    "\n",
    "            c_ = c[1:i+aux]\n",
    "            c_ = vcat(c_,-c[i+aux])\n",
    "            _c = c[i+1+aux:end]\n",
    "            c  = vcat(c_,_c)\n",
    "            aux = aux + 1\n",
    "        end\n",
    "    end\n",
    "    \n",
    "    return c,A,b,var_split\n",
    "end"
   ]
  },
  {
   "cell_type": "code",
   "execution_count": 42,
   "metadata": {},
   "outputs": [
    {
     "data": {
      "text/plain": [
       "variables_relation (generic function with 1 method)"
      ]
     },
     "execution_count": 42,
     "metadata": {},
     "output_type": "execute_result"
    }
   ],
   "source": [
    "function variables_relation(varsplit,n)\n",
    "    simplex_to_circus = Dict()\n",
    "    k = 0\n",
    "    for i in 1:n\n",
    "        if i in varsplit\n",
    "            simplex_to_circus[i] = [i+k,i+1+k]\n",
    "            k += 1 \n",
    "        else\n",
    "            simplex_to_circus[i] = [i]\n",
    "        end\n",
    "    end\n",
    "    return simplex_to_circus\n",
    "end"
   ]
  },
  {
   "cell_type": "code",
   "execution_count": 43,
   "metadata": {},
   "outputs": [
    {
     "data": {
      "text/plain": [
       "variable_simplex_to_circus (generic function with 1 method)"
      ]
     },
     "execution_count": 43,
     "metadata": {},
     "output_type": "execute_result"
    }
   ],
   "source": [
    "function variable_simplex_to_circus(simplex_to_circus, x_simplex)\n",
    "    n = size(collect(keys(simplex_to_circus)))[1]\n",
    "    x_circus = zeros(n)\n",
    "    for (k,i) in simplex_to_circus\n",
    "        if size(i)[1] > 1\n",
    "            x_circus[k] = x_simplex[i[1]] - x_simplex[i[2]]\n",
    "        else\n",
    "            x_circus[k] = x_simplex[i[1]]\n",
    "        end\n",
    "    end\n",
    "    return x_circus\n",
    "end"
   ]
  },
  {
   "cell_type": "code",
   "execution_count": 58,
   "metadata": {},
   "outputs": [
    {
     "data": {
      "text/plain": [
       "variable_circus_to_simplex (generic function with 1 method)"
      ]
     },
     "execution_count": 58,
     "metadata": {},
     "output_type": "execute_result"
    }
   ],
   "source": [
    "function variable_circus_to_simplex(simplex_to_circus,x_circus,\n",
    "        c_simplex,A_simplex,b_simplex)\n",
    "    x_simplex = zeros(size(c_simplex)[1])\n",
    "    n_simplex = 0\n",
    "    for (k,i) in simplex_to_circus\n",
    "        if size(i)[1] > 1\n",
    "            n_simplex+=2\n",
    "            if x_circus[k] < 0\n",
    "                x_simplex[i[1]] = 0\n",
    "                x_simplex[i[2]] = -x_circus[k]\n",
    "            else\n",
    "                x_simplex[i[1]] = x_circus[k]\n",
    "                x_simplex[i[2]] = 0\n",
    "            end\n",
    "        else\n",
    "            n_simplex+=1\n",
    "            x_simplex[i[1]] = x_circus[k]\n",
    "        end\n",
    "    end\n",
    "\n",
    "    if n_simplex < size(c_simplex)[1]\n",
    "        x_simplex[n_simplex+1:size(cs)[1]] = A_simplex*x_simplex - b_simplex\n",
    "    end\n",
    "    return x_simplex\n",
    "end"
   ]
  },
  {
   "cell_type": "code",
   "execution_count": 59,
   "metadata": {},
   "outputs": [
    {
     "name": "stdout",
     "output_type": "stream",
     "text": [
      "5   6\n",
      "1   8\n",
      "3   7\n"
     ]
    },
    {
     "data": {
      "text/plain": [
       "8-element Array{Float64,1}:\n",
       " 4.0\n",
       " 0.0\n",
       " 0.0\n",
       " 0.0\n",
       " 4.0\n",
       " 0.0\n",
       " 0.0\n",
       " 0.0"
      ]
     },
     "execution_count": 59,
     "metadata": {},
     "output_type": "execute_result"
    }
   ],
   "source": [
    "c = [0,0,1]\n",
    "A = [-1. 1. -1.;\n",
    "     -1. -1. -1.;\n",
    "     1. 0. 0.\n",
    "     -1. 0. 0.]\n",
    "b = [0,0,4.,0.]\n",
    "cs,As,bs,varsplit = simplex_format(c,A,b)\n",
    "x = [0.,0,0,0,0,0,0,4]\n",
    "x_simplex = SimplexFromBFS(cs,As,bs,x,index_bfs=[6,7,8],index_nfs=[1,2,3,4,5])\n",
    "x_simplex = x_simplex[:,2]"
   ]
  },
  {
   "cell_type": "code",
   "execution_count": 60,
   "metadata": {},
   "outputs": [
    {
     "data": {
      "text/plain": [
       "3-element Array{Float64,1}:\n",
       "  4.0\n",
       "  0.0\n",
       " -4.0"
      ]
     },
     "execution_count": 60,
     "metadata": {},
     "output_type": "execute_result"
    }
   ],
   "source": [
    "simplex_to_circus = variables_relation(varsplit,3)\n",
    "x_circus = variable_simplex_to_circus(simplex_to_circus,x_simplex)"
   ]
  },
  {
   "cell_type": "code",
   "execution_count": 61,
   "metadata": {},
   "outputs": [
    {
     "data": {
      "text/plain": [
       "8-element Array{Float64,1}:\n",
       " 4.0\n",
       " 0.0\n",
       " 0.0\n",
       " 0.0\n",
       " 4.0\n",
       " 0.0\n",
       " 0.0\n",
       " 0.0"
      ]
     },
     "execution_count": 61,
     "metadata": {},
     "output_type": "execute_result"
    }
   ],
   "source": [
    "x_simplex = variable_circus_to_simplex(simplex_to_circus,x_circus,cs,As,bs)"
   ]
  },
  {
   "cell_type": "markdown",
   "metadata": {},
   "source": [
    "#### Phase 1\n"
   ]
  },
  {
   "cell_type": "code",
   "execution_count": 70,
   "metadata": {},
   "outputs": [
    {
     "data": {
      "text/plain": [
       "([0, 0, 0, 1, -1, 0, 0, 0, 0], [-1.0 1.0 … 0.0 0.0; -1.0 -1.0 … 0.0 0.0; 1.0 0.0 … 1.0 0.0; -1.0 0.0 … 0.0 1.0], [0.0; 0.0; 4.0; -1.0], [2, 3])"
      ]
     },
     "execution_count": 70,
     "metadata": {},
     "output_type": "execute_result"
    }
   ],
   "source": [
    "c = [0,0,1]\n",
    "A = [-1. 1. -1.;\n",
    "     -1. -1. -1.;\n",
    "     1. 0. 0.\n",
    "     -1. 0. 0.]\n",
    "b = [0,0,4.,-1.]\n",
    "\n",
    "x = [0,0,0,0,0,0,0,4,1]\n",
    "cs,As,bs,varsplit = simplex_format(c,A,b)"
   ]
  },
  {
   "cell_type": "code",
   "execution_count": 76,
   "metadata": {},
   "outputs": [
    {
     "data": {
      "text/plain": [
       "4×9 Array{Float64,2}:\n",
       " -1.0   1.0  -1.0  -1.0   1.0  1.0  0.0  0.0  0.0\n",
       " -1.0  -1.0   1.0  -1.0   1.0  0.0  1.0  0.0  0.0\n",
       "  1.0   0.0  -0.0   0.0  -0.0  0.0  0.0  1.0  0.0\n",
       " -1.0   0.0  -0.0   0.0  -0.0  0.0  0.0  0.0  1.0"
      ]
     },
     "execution_count": 76,
     "metadata": {},
     "output_type": "execute_result"
    }
   ],
   "source": [
    "As"
   ]
  },
  {
   "cell_type": "code",
   "execution_count": 110,
   "metadata": {},
   "outputs": [
    {
     "data": {
      "text/plain": [
       "phaseI_simplex_problem (generic function with 1 method)"
      ]
     },
     "execution_count": 110,
     "metadata": {},
     "output_type": "execute_result"
    }
   ],
   "source": [
    "function phaseI_simplex_problem(A,b)\n",
    "    Api = copy(A)\n",
    "    bpi = copy(b)\n",
    "    for i = 1:size(Api)[1]\n",
    "        if bpi[i]<0\n",
    "            bpi[i] = -bpi[i]\n",
    "            Api[i,:] = -Api[i,:]\n",
    "        end\n",
    "    end\n",
    "    Api = hcat(Api,Matrix{Float64}(I, size(Api)[1], size(Api)[1]))\n",
    "    cpi = zeros(size(Api)[2])\n",
    "    cpi[end-size(Api)[1]+1:end] .= 1\n",
    "    x = zeros(size(Api)[2])\n",
    "    x[end-size(Api)[1]+1:end] = bpi\n",
    "    index_bfs = collect(size(Api)[2] - size(Api)[1]+1:size(Api)[2])\n",
    "    index_nfs = collect(1:size(Api)[2] - size(Api)[1])\n",
    "    return cpi,Api,bpi,x,index_bfs,index_nfs\n",
    "end"
   ]
  },
  {
   "cell_type": "code",
   "execution_count": 114,
   "metadata": {},
   "outputs": [
    {
     "data": {
      "text/plain": [
       "([0.0, 0.0, 0.0, 0.0, 0.0, 0.0, 0.0, 0.0, 0.0, 1.0, 1.0, 1.0, 1.0], [-1.0 1.0 … 0.0 0.0; -1.0 -1.0 … 0.0 0.0; 1.0 0.0 … 1.0 0.0; 1.0 -0.0 … 0.0 1.0], [0.0; 0.0; 4.0; 1.0], [0.0, 0.0, 0.0, 0.0, 0.0, 0.0, 0.0, 0.0, 0.0, 0.0, 0.0, 4.0, 1.0], [10, 11, 12, 13], [1, 2, 3, 4, 5, 6, 7, 8, 9])"
      ]
     },
     "execution_count": 114,
     "metadata": {},
     "output_type": "execute_result"
    }
   ],
   "source": [
    "cpi, Api, bpi, xpi,bfs_pi,nfs_pi = phaseI_simplex_problem(As,bs)"
   ]
  },
  {
   "cell_type": "code",
   "execution_count": 116,
   "metadata": {},
   "outputs": [
    {
     "data": {
      "text/plain": [
       "3-element Array{Float64,1}:\n",
       "  1.0\n",
       "  0.0\n",
       " -1.0"
      ]
     },
     "execution_count": 116,
     "metadata": {},
     "output_type": "execute_result"
    }
   ],
   "source": [
    "x_simplex = SimplexFromBFS(cpi,Api,bpi,xpi,index_bfs=bfs_pi,index_nfs=nfs_pi)\n",
    "\n",
    "x_simplex = x_simplex[1:9,2]\n",
    "\n",
    "simplex_to_circus = variables_relation(varsplit,3)\n",
    "x_circus = variable_simplex_to_circus(simplex_to_circus,x_simplex)"
   ]
  },
  {
   "cell_type": "code",
   "execution_count": 33,
   "metadata": {},
   "outputs": [
    {
     "data": {
      "text/plain": [
       "PyObject <mpl_toolkits.mplot3d.art3d.Path3DCollection object at 0x7f4130524eb0>"
      ]
     },
     "execution_count": 33,
     "metadata": {},
     "output_type": "execute_result"
    }
   ],
   "source": [
    "c = [0,0,1]\n",
    "A = [-1. 1. -1.;\n",
    "     -1. -1. -1.;\n",
    "     1. 0. 0.\n",
    "     -1. 0. 0.]\n",
    "b = [0,0,4.,0.]\n",
    "xo = [1,-1,0.0]\n",
    "\n",
    "pygui(true)\n",
    "px= [0,4 ,4 ,0 ,0,0,0 ,0,4,4,4 ,4]\n",
    "py= [0,0 ,-4,-4,0,4,-4,4,4,-4,0,4]\n",
    "pz= [0,-4,0 ,4 ,0,4,4 ,4,0,0,-4,0]\n",
    "plt= PyPlot.plot3D(px,py,pz)\n",
    "PyPlot.scatter3D([xo[1]],[xo[2]],[xo[3]])"
   ]
  }
 ],
 "metadata": {
  "kernelspec": {
   "display_name": "Julia 1.4.0",
   "language": "julia",
   "name": "julia-1.4"
  },
  "language_info": {
   "file_extension": ".jl",
   "mimetype": "application/julia",
   "name": "julia",
   "version": "1.4.0"
  }
 },
 "nbformat": 4,
 "nbformat_minor": 4
}
