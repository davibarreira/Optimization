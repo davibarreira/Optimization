{
 "cells": [
  {
   "cell_type": "code",
   "execution_count": 124,
   "metadata": {},
   "outputs": [
    {
     "data": {
      "text/plain": [
       "Plots.PyPlotBackend()"
      ]
     },
     "execution_count": 124,
     "metadata": {},
     "output_type": "execute_result"
    }
   ],
   "source": [
    "using Plots, LinearAlgebra"
   ]
  },
  {
   "cell_type": "markdown",
   "metadata": {},
   "source": [
    "# CIRCUS\n",
    "This notebook is just for trying out some ideas for the final algorithm.\n",
    "Let's use as example the following case:\n",
    "$$\n",
    "\\begin{aligned}\n",
    "\\textrm{Maximize} \\quad & x_1 + x_2 \\\\\n",
    "\\textrm{Subject to} \\quad &\n",
    "        -x_1 + x_2  &\\leq 1\\\\\n",
    "\\quad & x_1        &\\leq 3\\\\\n",
    "\\quad & x_2         &\\leq 2\\\\\n",
    "\\quad & x_1,x_2     &\\geq 0\n",
    "\\end{aligned}\n",
    "$$\n",
    "\n",
    "We then put this in the standard form by adding slack variables:\n",
    "$$\n",
    "\\begin{aligned}\n",
    "\\textrm{Maximize} \\quad & x_1 + x_2 \\\\\n",
    "\\textrm{Subject to} \\quad &\n",
    "        -x_1 + x_2 + x_3  &= 1\\\\\n",
    "\\quad & x_1 + x_4        &= 3\\\\\n",
    "\\quad & x_2 + x_5         &= 2\\\\\n",
    "\\quad & x_1,x_2,x_3,x_4,x_5     &\\geq 0\n",
    "\\end{aligned}\n",
    "$$\n",
    "\n",
    "Therefore we have:\n",
    "$$\n",
    "\\begin{aligned}\n",
    "\\textrm{Maximize} \\quad & c^T {x} \\\\\n",
    "\\textrm{Subject to} \\quad & Ax = b \\\\\n",
    "\\quad & x\\geq 0\n",
    "\\end{aligned}\n",
    "$$"
   ]
  },
  {
   "cell_type": "markdown",
   "metadata": {},
   "source": [
    "First, we will implement the Simplex Method following the book \"Understanding and Using Linear Programming\"."
   ]
  },
  {
   "cell_type": "code",
   "execution_count": 327,
   "metadata": {},
   "outputs": [
    {
     "data": {
      "text/plain": [
       "Simplex (generic function with 2 methods)"
      ]
     },
     "execution_count": 327,
     "metadata": {},
     "output_type": "execute_result"
    }
   ],
   "source": [
    "A = [-1 1 1 0 0;\n",
    "      1 0 0 1 0;\n",
    "      0 1 0 0 1 ]\n",
    "c = [1,1,0,0,0]\n",
    "b = [1,3,2]\n",
    "# starting basic feasible point\n",
    "xo = [0,0,1,3,2];\n",
    "\n",
    "function Simplex(c,A,b,initial_bfs;max_iterations=100)\n",
    "    # Initial setup\n",
    "    e  = 10^-5\n",
    "    B  = findall(xo .> 0+e)\n",
    "    N  = findall(xo .<= 0+e)\n",
    "    xn = initial_bfs[N]; xb = initial_bfs[B];\n",
    "    \n",
    "    # Simplex pivoting iteration\n",
    "    for i = 1:max_iterations\n",
    "        Ab = A[:,B]; An = A[:,N]; cb = c[B]; cn = c[N]\n",
    "        p  = inv(Ab)*b\n",
    "        Q  = -inv(Ab)*An\n",
    "        r  = (cb'*Q + cn')'\n",
    "        if all(r.<= 0)\n",
    "            x_final = vcat(hcat(B,p),hcat(N,zeros(length(N))))\n",
    "            x_final = x_final[sortperm(x_final[:,1]),:]\n",
    "            return x_final\n",
    "        end\n",
    "        zo = cb'*p\n",
    "#         z  = zo + r'*xn\n",
    "        index_in =findmax(r)[2]\n",
    "        x_in = N[index_in]\n",
    "\n",
    "        if any(Q[:,index_in] .< 0)\n",
    "        #     index_out = findmin(p./Q[:,index_in])[2]\n",
    "            coef_entering = -p./Q[:,index_in] \n",
    "            q_neg_index   = findall(coef_entering .> 0)\n",
    "            index_out     =findfirst(coef_entering .== findmin(coef_entering[q_neg_index])[1])\n",
    "            x_out     = B[index_out]\n",
    "            B[index_out] = x_in\n",
    "            N[index_in]  = x_out\n",
    "        else\n",
    "            error(\"Unbounded\")\n",
    "        end\n",
    "    end\n",
    "end\n"
   ]
  },
  {
   "cell_type": "code",
   "execution_count": 282,
   "metadata": {},
   "outputs": [
    {
     "data": {
      "text/plain": [
       "([3, 1, 5], [4, 2])"
      ]
     },
     "execution_count": 282,
     "metadata": {},
     "output_type": "execute_result"
    }
   ],
   "source": [
    "Simplex"
   ]
  },
  {
   "cell_type": "code",
   "execution_count": 283,
   "metadata": {},
   "outputs": [
    {
     "data": {
      "text/plain": [
       "5"
      ]
     },
     "execution_count": 283,
     "metadata": {},
     "output_type": "execute_result"
    }
   ],
   "source": [
    "Ab = A[:,B]; An = A[:,N]; cb = c[B]; cn = c[N]\n",
    "p  = inv(Ab)*b\n",
    "Q  = -inv(Ab)*An\n",
    "r  = (cb'*Q + cn')'\n",
    "zo = cb'*p\n",
    "z  = zo + r'*xn\n",
    "index_in =findmax(r)[2]\n",
    "x_in = N[index_in]\n",
    "\n",
    "if any(Q[:,index_in] .< 0)\n",
    "    coef_entering = -p./Q[:,index_in] \n",
    "    q_neg_index   = findall(coef_entering .> 0)\n",
    "    index_out     = findfirst(coef_entering .== findmin(coef_entering[q_neg_index])[1])\n",
    "    x_out     = B[index_out]\n",
    "    B[index_out] = x_in\n",
    "    N[index_in]  = x_out\n",
    "else\n",
    "    println(\"Unbounded\")\n",
    "end"
   ]
  },
  {
   "cell_type": "code",
   "execution_count": 284,
   "metadata": {},
   "outputs": [
    {
     "data": {
      "text/plain": [
       "([3, 1, 2], [4, 5])"
      ]
     },
     "execution_count": 284,
     "metadata": {},
     "output_type": "execute_result"
    }
   ],
   "source": [
    "B,N"
   ]
  },
  {
   "cell_type": "code",
   "execution_count": 285,
   "metadata": {},
   "outputs": [
    {
     "data": {
      "text/plain": [
       "5.0"
      ]
     },
     "execution_count": 285,
     "metadata": {},
     "output_type": "execute_result"
    }
   ],
   "source": [
    "Ab = A[:,B]; An = A[:,N]; cb = c[B]; cn = c[N]\n",
    "p  = inv(Ab)*b\n",
    "Q  = -inv(Ab)*An\n",
    "r  = (cb'*Q + cn')'\n",
    "zo = cb'*p\n",
    "z  = zo + r'*xn\n"
   ]
  },
  {
   "cell_type": "code",
   "execution_count": 300,
   "metadata": {},
   "outputs": [
    {
     "data": {
      "text/plain": [
       "3-element Array{Int64,1}:\n",
       " 3\n",
       " 1\n",
       " 2"
      ]
     },
     "execution_count": 300,
     "metadata": {},
     "output_type": "execute_result"
    }
   ],
   "source": [
    "B"
   ]
  },
  {
   "cell_type": "code",
   "execution_count": 298,
   "metadata": {},
   "outputs": [
    {
     "data": {
      "text/plain": [
       "3×2 Array{Float64,2}:\n",
       " 3.0  2.0\n",
       " 1.0  3.0\n",
       " 2.0  2.0"
      ]
     },
     "execution_count": 298,
     "metadata": {},
     "output_type": "execute_result"
    }
   ],
   "source": [
    "hcat(B,p)"
   ]
  },
  {
   "cell_type": "code",
   "execution_count": 325,
   "metadata": {},
   "outputs": [
    {
     "data": {
      "text/plain": [
       "5×2 Array{Float64,2}:\n",
       " 1.0  3.0\n",
       " 2.0  2.0\n",
       " 3.0  2.0\n",
       " 4.0  0.0\n",
       " 5.0  0.0"
      ]
     },
     "execution_count": 325,
     "metadata": {},
     "output_type": "execute_result"
    }
   ],
   "source": [
    "# vcat(hcat(B,p)[sortperm(B),:],hcat(N,zeros(length(N))))\n",
    "\n",
    "\n",
    "x_final = vcat(hcat(B,p),hcat(N,zeros(length(N))))\n",
    "x_final = x_final[sortperm(x_final[:,1]),:]"
   ]
  },
  {
   "cell_type": "code",
   "execution_count": 278,
   "metadata": {},
   "outputs": [
    {
     "data": {
      "text/plain": [
       "5"
      ]
     },
     "execution_count": 278,
     "metadata": {},
     "output_type": "execute_result"
    }
   ],
   "source": [
    "x_out"
   ]
  },
  {
   "cell_type": "code",
   "execution_count": 280,
   "metadata": {},
   "outputs": [
    {
     "data": {
      "text/plain": [
       "2-element Array{Float64,1}:\n",
       " -1.0\n",
       "  1.0"
      ]
     },
     "execution_count": 280,
     "metadata": {},
     "output_type": "execute_result"
    }
   ],
   "source": [
    "r"
   ]
  },
  {
   "cell_type": "code",
   "execution_count": null,
   "metadata": {},
   "outputs": [],
   "source": []
  }
 ],
 "metadata": {
  "kernelspec": {
   "display_name": "Julia 1.0.5",
   "language": "julia",
   "name": "julia-1.0"
  },
  "language_info": {
   "file_extension": ".jl",
   "mimetype": "application/julia",
   "name": "julia",
   "version": "1.0.5"
  }
 },
 "nbformat": 4,
 "nbformat_minor": 4
}
