{
 "cells": [
  {
   "cell_type": "markdown",
   "metadata": {},
   "source": [
    "# IMPLEMETING CIRCUS ALGORITHM\n",
    "The CIRCUS algorithm is a solver of Linear Programming optimization which uses the idea of circumcenters together with\n",
    "some techniques applied in the Simplex algorithm. In this notebook, I'll implement the Simplex first, then\n",
    "implement the **trial version** of the CIRCUS."
   ]
  },
  {
   "cell_type": "code",
   "execution_count": 124,
   "metadata": {},
   "outputs": [
    {
     "data": {
      "text/plain": [
       "Plots.PyPlotBackend()"
      ]
     },
     "execution_count": 124,
     "metadata": {},
     "output_type": "execute_result"
    }
   ],
   "source": [
    "using Plots, LinearAlgebra"
   ]
  },
  {
   "cell_type": "markdown",
   "metadata": {},
   "source": [
    "## SIMPLEX\n",
    "Let's use as example the following case:\n",
    "$$\n",
    "\\begin{aligned}\n",
    "\\textrm{Maximize} \\quad & x_1 + x_2 \\\\\n",
    "\\textrm{Subject to} \\quad &\n",
    "        -x_1 + x_2  &\\leq 1\\\\\n",
    "\\quad & x_1        &\\leq 3\\\\\n",
    "\\quad & x_2         &\\leq 2\\\\\n",
    "\\quad & x_1,x_2     &\\geq 0\n",
    "\\end{aligned}\n",
    "$$\n",
    "\n",
    "We then put this in the standard form by adding slack variables:\n",
    "$$\n",
    "\\begin{aligned}\n",
    "\\textrm{Maximize} \\quad & x_1 + x_2 \\\\\n",
    "\\textrm{Subject to} \\quad &\n",
    "        -x_1 + x_2 + x_3  &= 1\\\\\n",
    "\\quad & x_1 + x_4        &= 3\\\\\n",
    "\\quad & x_2 + x_5         &= 2\\\\\n",
    "\\quad & x_1,x_2,x_3,x_4,x_5     &\\geq 0\n",
    "\\end{aligned}\n",
    "$$\n",
    "\n",
    "Therefore we have:\n",
    "$$\n",
    "\\begin{aligned}\n",
    "\\textrm{Maximize} \\quad & c^T {x} \\\\\n",
    "\\textrm{Subject to} \\quad & Ax = b \\\\\n",
    "\\quad & x\\geq 0\n",
    "\\end{aligned}\n",
    "$$"
   ]
  },
  {
   "cell_type": "markdown",
   "metadata": {},
   "source": [
    "First, we will implement the Simplex Method following the book \"Understanding and Using Linear Programming\"."
   ]
  },
  {
   "cell_type": "code",
   "execution_count": 450,
   "metadata": {},
   "outputs": [
    {
     "data": {
      "text/plain": [
       "SimplexFromBFS (generic function with 1 method)"
      ]
     },
     "execution_count": 450,
     "metadata": {},
     "output_type": "execute_result"
    }
   ],
   "source": [
    "A = [-1 1 1 0 0;\n",
    "      1 0 0 1 0;\n",
    "      0 1 0 0 1 ]\n",
    "c = [1,1,0,0,0]\n",
    "b = [1,3,2]\n",
    "# starting basic feasible point\n",
    "xo = [0,0,1,3,2];\n",
    "\n",
    "function SimplexFromBFS(c,A,b,initial_bfs;max_iterations=100,index_bfs=[0],index_nfs = [0])\n",
    "    # Initial setup\n",
    "    e  = 10^-5\n",
    "    B  = findall(xo .> 0+e)\n",
    "    N  = findall(xo .<= 0+e)\n",
    "    if size(A[:,B])[1] != size(A[:,B])[2]\n",
    "        B = index_bfs\n",
    "        N = index_nfs\n",
    "    end\n",
    "    xn = initial_bfs[N]; xb = initial_bfs[B];\n",
    "    \n",
    "    # Simplex pivoting iteration\n",
    "    for i = 1:max_iterations\n",
    "        Ab = A[:,B]; An = A[:,N]; cb = c[B]; cn = c[N]\n",
    "        p  = inv(Ab)*b\n",
    "        Q  = -inv(Ab)*An\n",
    "        r  = (cb'*Q + cn')'\n",
    "        if all(r.<= 0)\n",
    "            x_final = vcat(hcat(B,p),hcat(N,zeros(length(N))))\n",
    "            x_final = x_final[sortperm(x_final[:,1]),:]\n",
    "            return x_final\n",
    "        end\n",
    "        zo = cb'*p\n",
    "#         z  = zo + r'*xn\n",
    "        index_in =findmax(r)[2]\n",
    "        x_in = N[index_in]\n",
    "        if any(Q[:,index_in] .< 0)\n",
    "            coef_entering = -p./Q[:,index_in] \n",
    "            q_neg_index   = findall(Q[:,index_in] .< 0)\n",
    "            index_out     =findfirst(coef_entering .== findmin(coef_entering[q_neg_index])[1])\n",
    "            x_out     = B[index_out]\n",
    "            B[index_out] = x_in\n",
    "            N[index_in]  = x_out\n",
    "        else\n",
    "            \n",
    "            error(\"Unbounded\")\n",
    "        end\n",
    "        println(x_in,\"   \",x_out)\n",
    "    end\n",
    "    x_final = vcat(hcat(B,p),hcat(N,zeros(length(N))))\n",
    "    x_final = x_final[sortperm(x_final[:,1]),:]\n",
    "    return x_final\n",
    "end\n"
   ]
  },
  {
   "cell_type": "code",
   "execution_count": 451,
   "metadata": {},
   "outputs": [
    {
     "name": "stdout",
     "output_type": "stream",
     "text": [
      "1   4\n",
      "2   5\n"
     ]
    },
    {
     "data": {
      "text/plain": [
       "5×2 Array{Float64,2}:\n",
       " 1.0  3.0\n",
       " 2.0  2.0\n",
       " 3.0  2.0\n",
       " 4.0  0.0\n",
       " 5.0  0.0"
      ]
     },
     "execution_count": 451,
     "metadata": {},
     "output_type": "execute_result"
    }
   ],
   "source": [
    "SimplexFromBFS(c,A,b,xo)"
   ]
  },
  {
   "cell_type": "markdown",
   "metadata": {},
   "source": [
    "### Degenerte example"
   ]
  },
  {
   "cell_type": "code",
   "execution_count": 453,
   "metadata": {},
   "outputs": [
    {
     "name": "stdout",
     "output_type": "stream",
     "text": [
      "2   3\n",
      "1   4\n"
     ]
    },
    {
     "data": {
      "text/plain": [
       "4×2 Array{Float64,2}:\n",
       " 1.0  2.0\n",
       " 2.0  2.0\n",
       " 3.0  0.0\n",
       " 4.0  0.0"
      ]
     },
     "execution_count": 453,
     "metadata": {},
     "output_type": "execute_result"
    }
   ],
   "source": [
    "A = [-1 1 1 0 ;\n",
    "      1 0 0 1]\n",
    "c = [0,1,0,0]\n",
    "b = [0,2]\n",
    "# starting basic feasible point\n",
    "xo = [0,0,0,1];\n",
    "SimplexFromBFS(c,A,b,xo;max_iterations=10,index_bfs=[3,4],index_nfs=[1,2])"
   ]
  },
  {
   "cell_type": "markdown",
   "metadata": {},
   "source": [
    "### CIRCUS "
   ]
  },
  {
   "cell_type": "code",
   "execution_count": 497,
   "metadata": {},
   "outputs": [
    {
     "data": {
      "text/plain": [
       "CC (generic function with 1 method)"
      ]
     },
     "execution_count": 497,
     "metadata": {},
     "output_type": "execute_result"
    }
   ],
   "source": [
    "function CC(S)\n",
    "    # Function to calculate the circumcenter\n",
    "    T1 = (S.-S[:,1])[:,2:end]\n",
    "    T2 = pinv(T1' * T1) # MODIFIED THE ORIGINAL BY THE PSEUDO-INVERSE INSTEAD OF THE INVERSE. IT SEEMS TO WORK... WHY?\n",
    "    T3 = diag((S.-S[:,1])[:,2:end]' * (S.-S[:,1])[:,2:end])\n",
    "    cc = S[:,1] + 0.5.*T1 * T2 * T3\n",
    "    return cc\n",
    "end"
   ]
  },
  {
   "cell_type": "code",
   "execution_count": 522,
   "metadata": {},
   "outputs": [],
   "source": [
    "xo = [0,0]\n",
    "Ag = [-1 0;0 -1;-1 1;0 1;1 0]\n",
    "c = [1,1]\n",
    "b = [0,0,1,3,2]\n",
    "# starting basic feasible point\n",
    "xo = [0,0,1,3,2];"
   ]
  },
  {
   "cell_type": "code",
   "execution_count": 575,
   "metadata": {},
   "outputs": [
    {
     "data": {
      "image/svg+xml": [
       "<?xml version=\"1.0\" encoding=\"utf-8\"?>\n",
       "<svg xmlns=\"http://www.w3.org/2000/svg\" xmlns:xlink=\"http://www.w3.org/1999/xlink\" width=\"600\" height=\"400\" viewBox=\"0 0 2400 1600\">\n",
       "<defs>\n",
       "  <clipPath id=\"clip1700\">\n",
       "    <rect x=\"0\" y=\"0\" width=\"2400\" height=\"1600\"/>\n",
       "  </clipPath>\n",
       "</defs>\n",
       "<path clip-path=\"url(#clip1700)\" d=\"\n",
       "M0 1600 L2400 1600 L2400 0 L0 0  Z\n",
       "  \" fill=\"#ffffff\" fill-rule=\"evenodd\" fill-opacity=\"1\"/>\n",
       "<defs>\n",
       "  <clipPath id=\"clip1701\">\n",
       "    <rect x=\"480\" y=\"0\" width=\"1681\" height=\"1600\"/>\n",
       "  </clipPath>\n",
       "</defs>\n",
       "<path clip-path=\"url(#clip1700)\" d=\"\n",
       "M141.865 1487.47 L2352.76 1487.47 L2352.76 47.2441 L141.865 47.2441  Z\n",
       "  \" fill=\"#ffffff\" fill-rule=\"evenodd\" fill-opacity=\"1\"/>\n",
       "<defs>\n",
       "  <clipPath id=\"clip1702\">\n",
       "    <rect x=\"141\" y=\"47\" width=\"2212\" height=\"1441\"/>\n",
       "  </clipPath>\n",
       "</defs>\n",
       "<polyline clip-path=\"url(#clip1702)\" style=\"stroke:#000000; stroke-width:2; stroke-opacity:0.1; fill:none\" points=\"\n",
       "  413.012,1487.47 413.012,47.2441 \n",
       "  \"/>\n",
       "<polyline clip-path=\"url(#clip1702)\" style=\"stroke:#000000; stroke-width:2; stroke-opacity:0.1; fill:none\" points=\"\n",
       "  830.161,1487.47 830.161,47.2441 \n",
       "  \"/>\n",
       "<polyline clip-path=\"url(#clip1702)\" style=\"stroke:#000000; stroke-width:2; stroke-opacity:0.1; fill:none\" points=\"\n",
       "  1247.31,1487.47 1247.31,47.2441 \n",
       "  \"/>\n",
       "<polyline clip-path=\"url(#clip1702)\" style=\"stroke:#000000; stroke-width:2; stroke-opacity:0.1; fill:none\" points=\"\n",
       "  1664.46,1487.47 1664.46,47.2441 \n",
       "  \"/>\n",
       "<polyline clip-path=\"url(#clip1702)\" style=\"stroke:#000000; stroke-width:2; stroke-opacity:0.1; fill:none\" points=\"\n",
       "  2081.61,1487.47 2081.61,47.2441 \n",
       "  \"/>\n",
       "<polyline clip-path=\"url(#clip1702)\" style=\"stroke:#000000; stroke-width:2; stroke-opacity:0.1; fill:none\" points=\"\n",
       "  141.865,1310.84 2352.76,1310.84 \n",
       "  \"/>\n",
       "<polyline clip-path=\"url(#clip1702)\" style=\"stroke:#000000; stroke-width:2; stroke-opacity:0.1; fill:none\" points=\"\n",
       "  141.865,1039.1 2352.76,1039.1 \n",
       "  \"/>\n",
       "<polyline clip-path=\"url(#clip1702)\" style=\"stroke:#000000; stroke-width:2; stroke-opacity:0.1; fill:none\" points=\"\n",
       "  141.865,767.359 2352.76,767.359 \n",
       "  \"/>\n",
       "<polyline clip-path=\"url(#clip1702)\" style=\"stroke:#000000; stroke-width:2; stroke-opacity:0.1; fill:none\" points=\"\n",
       "  141.865,495.618 2352.76,495.618 \n",
       "  \"/>\n",
       "<polyline clip-path=\"url(#clip1702)\" style=\"stroke:#000000; stroke-width:2; stroke-opacity:0.1; fill:none\" points=\"\n",
       "  141.865,223.876 2352.76,223.876 \n",
       "  \"/>\n",
       "<polyline clip-path=\"url(#clip1700)\" style=\"stroke:#000000; stroke-width:4; stroke-opacity:1; fill:none\" points=\"\n",
       "  141.865,1487.47 2352.76,1487.47 \n",
       "  \"/>\n",
       "<polyline clip-path=\"url(#clip1700)\" style=\"stroke:#000000; stroke-width:4; stroke-opacity:1; fill:none\" points=\"\n",
       "  141.865,1487.47 141.865,47.2441 \n",
       "  \"/>\n",
       "<polyline clip-path=\"url(#clip1700)\" style=\"stroke:#000000; stroke-width:4; stroke-opacity:1; fill:none\" points=\"\n",
       "  413.012,1487.47 413.012,1465.87 \n",
       "  \"/>\n",
       "<polyline clip-path=\"url(#clip1700)\" style=\"stroke:#000000; stroke-width:4; stroke-opacity:1; fill:none\" points=\"\n",
       "  830.161,1487.47 830.161,1465.87 \n",
       "  \"/>\n",
       "<polyline clip-path=\"url(#clip1700)\" style=\"stroke:#000000; stroke-width:4; stroke-opacity:1; fill:none\" points=\"\n",
       "  1247.31,1487.47 1247.31,1465.87 \n",
       "  \"/>\n",
       "<polyline clip-path=\"url(#clip1700)\" style=\"stroke:#000000; stroke-width:4; stroke-opacity:1; fill:none\" points=\"\n",
       "  1664.46,1487.47 1664.46,1465.87 \n",
       "  \"/>\n",
       "<polyline clip-path=\"url(#clip1700)\" style=\"stroke:#000000; stroke-width:4; stroke-opacity:1; fill:none\" points=\"\n",
       "  2081.61,1487.47 2081.61,1465.87 \n",
       "  \"/>\n",
       "<polyline clip-path=\"url(#clip1700)\" style=\"stroke:#000000; stroke-width:4; stroke-opacity:1; fill:none\" points=\"\n",
       "  141.865,1310.84 175.028,1310.84 \n",
       "  \"/>\n",
       "<polyline clip-path=\"url(#clip1700)\" style=\"stroke:#000000; stroke-width:4; stroke-opacity:1; fill:none\" points=\"\n",
       "  141.865,1039.1 175.028,1039.1 \n",
       "  \"/>\n",
       "<polyline clip-path=\"url(#clip1700)\" style=\"stroke:#000000; stroke-width:4; stroke-opacity:1; fill:none\" points=\"\n",
       "  141.865,767.359 175.028,767.359 \n",
       "  \"/>\n",
       "<polyline clip-path=\"url(#clip1700)\" style=\"stroke:#000000; stroke-width:4; stroke-opacity:1; fill:none\" points=\"\n",
       "  141.865,495.618 175.028,495.618 \n",
       "  \"/>\n",
       "<polyline clip-path=\"url(#clip1700)\" style=\"stroke:#000000; stroke-width:4; stroke-opacity:1; fill:none\" points=\"\n",
       "  141.865,223.876 175.028,223.876 \n",
       "  \"/>\n",
       "<g clip-path=\"url(#clip1700)\">\n",
       "<text style=\"fill:#000000; fill-opacity:1; font-family:Arial,Helvetica Neue,Helvetica,sans-serif; font-size:48px; text-anchor:middle;\" transform=\"rotate(0, 413.012, 1541.47)\" x=\"413.012\" y=\"1541.47\">-4</text>\n",
       "</g>\n",
       "<g clip-path=\"url(#clip1700)\">\n",
       "<text style=\"fill:#000000; fill-opacity:1; font-family:Arial,Helvetica Neue,Helvetica,sans-serif; font-size:48px; text-anchor:middle;\" transform=\"rotate(0, 830.161, 1541.47)\" x=\"830.161\" y=\"1541.47\">-2</text>\n",
       "</g>\n",
       "<g clip-path=\"url(#clip1700)\">\n",
       "<text style=\"fill:#000000; fill-opacity:1; font-family:Arial,Helvetica Neue,Helvetica,sans-serif; font-size:48px; text-anchor:middle;\" transform=\"rotate(0, 1247.31, 1541.47)\" x=\"1247.31\" y=\"1541.47\">0</text>\n",
       "</g>\n",
       "<g clip-path=\"url(#clip1700)\">\n",
       "<text style=\"fill:#000000; fill-opacity:1; font-family:Arial,Helvetica Neue,Helvetica,sans-serif; font-size:48px; text-anchor:middle;\" transform=\"rotate(0, 1664.46, 1541.47)\" x=\"1664.46\" y=\"1541.47\">2</text>\n",
       "</g>\n",
       "<g clip-path=\"url(#clip1700)\">\n",
       "<text style=\"fill:#000000; fill-opacity:1; font-family:Arial,Helvetica Neue,Helvetica,sans-serif; font-size:48px; text-anchor:middle;\" transform=\"rotate(0, 2081.61, 1541.47)\" x=\"2081.61\" y=\"1541.47\">4</text>\n",
       "</g>\n",
       "<g clip-path=\"url(#clip1700)\">\n",
       "<text style=\"fill:#000000; fill-opacity:1; font-family:Arial,Helvetica Neue,Helvetica,sans-serif; font-size:48px; text-anchor:end;\" transform=\"rotate(0, 117.865, 1328.34)\" x=\"117.865\" y=\"1328.34\">-4</text>\n",
       "</g>\n",
       "<g clip-path=\"url(#clip1700)\">\n",
       "<text style=\"fill:#000000; fill-opacity:1; font-family:Arial,Helvetica Neue,Helvetica,sans-serif; font-size:48px; text-anchor:end;\" transform=\"rotate(0, 117.865, 1056.6)\" x=\"117.865\" y=\"1056.6\">-2</text>\n",
       "</g>\n",
       "<g clip-path=\"url(#clip1700)\">\n",
       "<text style=\"fill:#000000; fill-opacity:1; font-family:Arial,Helvetica Neue,Helvetica,sans-serif; font-size:48px; text-anchor:end;\" transform=\"rotate(0, 117.865, 784.859)\" x=\"117.865\" y=\"784.859\">0</text>\n",
       "</g>\n",
       "<g clip-path=\"url(#clip1700)\">\n",
       "<text style=\"fill:#000000; fill-opacity:1; font-family:Arial,Helvetica Neue,Helvetica,sans-serif; font-size:48px; text-anchor:end;\" transform=\"rotate(0, 117.865, 513.118)\" x=\"117.865\" y=\"513.118\">2</text>\n",
       "</g>\n",
       "<g clip-path=\"url(#clip1700)\">\n",
       "<text style=\"fill:#000000; fill-opacity:1; font-family:Arial,Helvetica Neue,Helvetica,sans-serif; font-size:48px; text-anchor:end;\" transform=\"rotate(0, 117.865, 241.376)\" x=\"117.865\" y=\"241.376\">4</text>\n",
       "</g>\n",
       "<path clip-path=\"url(#clip1702)\" d=\"\n",
       "M1247.31 767.359 L1247.31 631.489 L1455.88 495.618 L1873.03 495.618 L1873.03 767.359 L1247.31 767.359 L1247.31 767.359 L1873.03 767.359 L1873.03 767.359 L1455.88 767.359 \n",
       "  L1247.31 767.359 L1247.31 767.359  Z\n",
       "  \" fill=\"#808080\" fill-rule=\"evenodd\" fill-opacity=\"0.2\"/>\n",
       "<polyline clip-path=\"url(#clip1702)\" style=\"stroke:#009af9; stroke-width:4; stroke-opacity:1; fill:none\" points=\"\n",
       "  1247.31,767.359 1247.31,631.489 1455.88,495.618 1873.03,495.618 1873.03,767.359 1247.31,767.359 \n",
       "  \"/>\n",
       "<polyline clip-path=\"url(#clip1702)\" style=\"stroke:#e26f46; stroke-width:4; stroke-opacity:1; fill:none\" points=\"\n",
       "  1247.31,767.359 1038.74,767.359 \n",
       "  \"/>\n",
       "<polyline clip-path=\"url(#clip1702)\" style=\"stroke:#e26f46; stroke-width:4; stroke-opacity:1; fill:none\" points=\"\n",
       "  1074.74,785.359 1038.74,767.359 1074.74,749.359 \n",
       "  \"/>\n",
       "<polyline clip-path=\"url(#clip1702)\" style=\"stroke:#e26f46; stroke-width:4; stroke-opacity:1; fill:none\" points=\"\n",
       "  1038.74,767.359 1247.31,767.359 \n",
       "  \"/>\n",
       "<polyline clip-path=\"url(#clip1702)\" style=\"stroke:#e26f46; stroke-width:4; stroke-opacity:1; fill:none\" points=\"\n",
       "  1247.31,767.359 1247.31,903.23 \n",
       "  \"/>\n",
       "<polyline clip-path=\"url(#clip1702)\" style=\"stroke:#e26f46; stroke-width:4; stroke-opacity:1; fill:none\" points=\"\n",
       "  1265.31,867.23 1247.31,903.23 1229.31,867.23 \n",
       "  \"/>\n",
       "<polyline clip-path=\"url(#clip1702)\" style=\"stroke:#e26f46; stroke-width:4; stroke-opacity:1; fill:none\" points=\"\n",
       "  1247.31,903.23 1247.31,767.359 \n",
       "  \"/>\n",
       "<polyline clip-path=\"url(#clip1702)\" style=\"stroke:#3da44d; stroke-width:4; stroke-opacity:1; fill:none\" points=\"\n",
       "  1247.31,767.359 1143.02,835.295 \n",
       "  \"/>\n",
       "<polyline clip-path=\"url(#clip1702)\" style=\"stroke:#3da44d; stroke-width:4; stroke-opacity:1; fill:none\" points=\"\n",
       "  1183.01,830.727 1143.02,835.295 1163.36,800.563 \n",
       "  \"/>\n",
       "<polyline clip-path=\"url(#clip1702)\" style=\"stroke:#3da44d; stroke-width:4; stroke-opacity:1; fill:none\" points=\"\n",
       "  1143.02,835.295 1247.31,767.359 \n",
       "  \"/>\n",
       "</svg>\n"
      ]
     },
     "execution_count": 575,
     "metadata": {},
     "output_type": "execute_result"
    }
   ],
   "source": [
    "circum = CC(Ag[1:2,:])\n",
    "\n",
    "plot([0,0,1,3,3,0],[0,1,2,2,0,0],fill=true,fillcolor=:gray,fillalpha=0.2,legend=false)\n",
    "quiver!(zeros(2),zeros(2),quiver=(Ag[1:2,1],Ag[1:2,2]),xlims=[-5,5],ylims=[-5,5])\n",
    "quiver!([zeros(1)],[zeros(1)],quiver=([circum[1]],[circum[2]]),xlims=[-5,5],ylims=[-5,5])\n",
    "# quiver!([zeros(1)],[zeros(1)],quiver=([-circum[1]],[-circum[2]]),xlims=[-5,5],ylims=[-5,5])"
   ]
  },
  {
   "cell_type": "code",
   "execution_count": 576,
   "metadata": {},
   "outputs": [
    {
     "data": {
      "image/svg+xml": [
       "<?xml version=\"1.0\" encoding=\"utf-8\"?>\n",
       "<svg xmlns=\"http://www.w3.org/2000/svg\" xmlns:xlink=\"http://www.w3.org/1999/xlink\" width=\"600\" height=\"400\" viewBox=\"0 0 2400 1600\">\n",
       "<defs>\n",
       "  <clipPath id=\"clip2100\">\n",
       "    <rect x=\"0\" y=\"0\" width=\"2400\" height=\"1600\"/>\n",
       "  </clipPath>\n",
       "</defs>\n",
       "<path clip-path=\"url(#clip2100)\" d=\"\n",
       "M0 1600 L2400 1600 L2400 0 L0 0  Z\n",
       "  \" fill=\"#ffffff\" fill-rule=\"evenodd\" fill-opacity=\"1\"/>\n",
       "<defs>\n",
       "  <clipPath id=\"clip2101\">\n",
       "    <rect x=\"480\" y=\"0\" width=\"1681\" height=\"1600\"/>\n",
       "  </clipPath>\n",
       "</defs>\n",
       "<path clip-path=\"url(#clip2100)\" d=\"\n",
       "M141.865 1487.47 L2352.76 1487.47 L2352.76 47.2441 L141.865 47.2441  Z\n",
       "  \" fill=\"#ffffff\" fill-rule=\"evenodd\" fill-opacity=\"1\"/>\n",
       "<defs>\n",
       "  <clipPath id=\"clip2102\">\n",
       "    <rect x=\"141\" y=\"47\" width=\"2212\" height=\"1441\"/>\n",
       "  </clipPath>\n",
       "</defs>\n",
       "<polyline clip-path=\"url(#clip2102)\" style=\"stroke:#000000; stroke-width:2; stroke-opacity:0.1; fill:none\" points=\"\n",
       "  413.012,1487.47 413.012,47.2441 \n",
       "  \"/>\n",
       "<polyline clip-path=\"url(#clip2102)\" style=\"stroke:#000000; stroke-width:2; stroke-opacity:0.1; fill:none\" points=\"\n",
       "  830.161,1487.47 830.161,47.2441 \n",
       "  \"/>\n",
       "<polyline clip-path=\"url(#clip2102)\" style=\"stroke:#000000; stroke-width:2; stroke-opacity:0.1; fill:none\" points=\"\n",
       "  1247.31,1487.47 1247.31,47.2441 \n",
       "  \"/>\n",
       "<polyline clip-path=\"url(#clip2102)\" style=\"stroke:#000000; stroke-width:2; stroke-opacity:0.1; fill:none\" points=\"\n",
       "  1664.46,1487.47 1664.46,47.2441 \n",
       "  \"/>\n",
       "<polyline clip-path=\"url(#clip2102)\" style=\"stroke:#000000; stroke-width:2; stroke-opacity:0.1; fill:none\" points=\"\n",
       "  2081.61,1487.47 2081.61,47.2441 \n",
       "  \"/>\n",
       "<polyline clip-path=\"url(#clip2102)\" style=\"stroke:#000000; stroke-width:2; stroke-opacity:0.1; fill:none\" points=\"\n",
       "  141.865,1310.84 2352.76,1310.84 \n",
       "  \"/>\n",
       "<polyline clip-path=\"url(#clip2102)\" style=\"stroke:#000000; stroke-width:2; stroke-opacity:0.1; fill:none\" points=\"\n",
       "  141.865,1039.1 2352.76,1039.1 \n",
       "  \"/>\n",
       "<polyline clip-path=\"url(#clip2102)\" style=\"stroke:#000000; stroke-width:2; stroke-opacity:0.1; fill:none\" points=\"\n",
       "  141.865,767.359 2352.76,767.359 \n",
       "  \"/>\n",
       "<polyline clip-path=\"url(#clip2102)\" style=\"stroke:#000000; stroke-width:2; stroke-opacity:0.1; fill:none\" points=\"\n",
       "  141.865,495.618 2352.76,495.618 \n",
       "  \"/>\n",
       "<polyline clip-path=\"url(#clip2102)\" style=\"stroke:#000000; stroke-width:2; stroke-opacity:0.1; fill:none\" points=\"\n",
       "  141.865,223.876 2352.76,223.876 \n",
       "  \"/>\n",
       "<polyline clip-path=\"url(#clip2100)\" style=\"stroke:#000000; stroke-width:4; stroke-opacity:1; fill:none\" points=\"\n",
       "  141.865,1487.47 2352.76,1487.47 \n",
       "  \"/>\n",
       "<polyline clip-path=\"url(#clip2100)\" style=\"stroke:#000000; stroke-width:4; stroke-opacity:1; fill:none\" points=\"\n",
       "  141.865,1487.47 141.865,47.2441 \n",
       "  \"/>\n",
       "<polyline clip-path=\"url(#clip2100)\" style=\"stroke:#000000; stroke-width:4; stroke-opacity:1; fill:none\" points=\"\n",
       "  413.012,1487.47 413.012,1465.87 \n",
       "  \"/>\n",
       "<polyline clip-path=\"url(#clip2100)\" style=\"stroke:#000000; stroke-width:4; stroke-opacity:1; fill:none\" points=\"\n",
       "  830.161,1487.47 830.161,1465.87 \n",
       "  \"/>\n",
       "<polyline clip-path=\"url(#clip2100)\" style=\"stroke:#000000; stroke-width:4; stroke-opacity:1; fill:none\" points=\"\n",
       "  1247.31,1487.47 1247.31,1465.87 \n",
       "  \"/>\n",
       "<polyline clip-path=\"url(#clip2100)\" style=\"stroke:#000000; stroke-width:4; stroke-opacity:1; fill:none\" points=\"\n",
       "  1664.46,1487.47 1664.46,1465.87 \n",
       "  \"/>\n",
       "<polyline clip-path=\"url(#clip2100)\" style=\"stroke:#000000; stroke-width:4; stroke-opacity:1; fill:none\" points=\"\n",
       "  2081.61,1487.47 2081.61,1465.87 \n",
       "  \"/>\n",
       "<polyline clip-path=\"url(#clip2100)\" style=\"stroke:#000000; stroke-width:4; stroke-opacity:1; fill:none\" points=\"\n",
       "  141.865,1310.84 175.028,1310.84 \n",
       "  \"/>\n",
       "<polyline clip-path=\"url(#clip2100)\" style=\"stroke:#000000; stroke-width:4; stroke-opacity:1; fill:none\" points=\"\n",
       "  141.865,1039.1 175.028,1039.1 \n",
       "  \"/>\n",
       "<polyline clip-path=\"url(#clip2100)\" style=\"stroke:#000000; stroke-width:4; stroke-opacity:1; fill:none\" points=\"\n",
       "  141.865,767.359 175.028,767.359 \n",
       "  \"/>\n",
       "<polyline clip-path=\"url(#clip2100)\" style=\"stroke:#000000; stroke-width:4; stroke-opacity:1; fill:none\" points=\"\n",
       "  141.865,495.618 175.028,495.618 \n",
       "  \"/>\n",
       "<polyline clip-path=\"url(#clip2100)\" style=\"stroke:#000000; stroke-width:4; stroke-opacity:1; fill:none\" points=\"\n",
       "  141.865,223.876 175.028,223.876 \n",
       "  \"/>\n",
       "<g clip-path=\"url(#clip2100)\">\n",
       "<text style=\"fill:#000000; fill-opacity:1; font-family:Arial,Helvetica Neue,Helvetica,sans-serif; font-size:48px; text-anchor:middle;\" transform=\"rotate(0, 413.012, 1541.47)\" x=\"413.012\" y=\"1541.47\">-4</text>\n",
       "</g>\n",
       "<g clip-path=\"url(#clip2100)\">\n",
       "<text style=\"fill:#000000; fill-opacity:1; font-family:Arial,Helvetica Neue,Helvetica,sans-serif; font-size:48px; text-anchor:middle;\" transform=\"rotate(0, 830.161, 1541.47)\" x=\"830.161\" y=\"1541.47\">-2</text>\n",
       "</g>\n",
       "<g clip-path=\"url(#clip2100)\">\n",
       "<text style=\"fill:#000000; fill-opacity:1; font-family:Arial,Helvetica Neue,Helvetica,sans-serif; font-size:48px; text-anchor:middle;\" transform=\"rotate(0, 1247.31, 1541.47)\" x=\"1247.31\" y=\"1541.47\">0</text>\n",
       "</g>\n",
       "<g clip-path=\"url(#clip2100)\">\n",
       "<text style=\"fill:#000000; fill-opacity:1; font-family:Arial,Helvetica Neue,Helvetica,sans-serif; font-size:48px; text-anchor:middle;\" transform=\"rotate(0, 1664.46, 1541.47)\" x=\"1664.46\" y=\"1541.47\">2</text>\n",
       "</g>\n",
       "<g clip-path=\"url(#clip2100)\">\n",
       "<text style=\"fill:#000000; fill-opacity:1; font-family:Arial,Helvetica Neue,Helvetica,sans-serif; font-size:48px; text-anchor:middle;\" transform=\"rotate(0, 2081.61, 1541.47)\" x=\"2081.61\" y=\"1541.47\">4</text>\n",
       "</g>\n",
       "<g clip-path=\"url(#clip2100)\">\n",
       "<text style=\"fill:#000000; fill-opacity:1; font-family:Arial,Helvetica Neue,Helvetica,sans-serif; font-size:48px; text-anchor:end;\" transform=\"rotate(0, 117.865, 1328.34)\" x=\"117.865\" y=\"1328.34\">-4</text>\n",
       "</g>\n",
       "<g clip-path=\"url(#clip2100)\">\n",
       "<text style=\"fill:#000000; fill-opacity:1; font-family:Arial,Helvetica Neue,Helvetica,sans-serif; font-size:48px; text-anchor:end;\" transform=\"rotate(0, 117.865, 1056.6)\" x=\"117.865\" y=\"1056.6\">-2</text>\n",
       "</g>\n",
       "<g clip-path=\"url(#clip2100)\">\n",
       "<text style=\"fill:#000000; fill-opacity:1; font-family:Arial,Helvetica Neue,Helvetica,sans-serif; font-size:48px; text-anchor:end;\" transform=\"rotate(0, 117.865, 784.859)\" x=\"117.865\" y=\"784.859\">0</text>\n",
       "</g>\n",
       "<g clip-path=\"url(#clip2100)\">\n",
       "<text style=\"fill:#000000; fill-opacity:1; font-family:Arial,Helvetica Neue,Helvetica,sans-serif; font-size:48px; text-anchor:end;\" transform=\"rotate(0, 117.865, 513.118)\" x=\"117.865\" y=\"513.118\">2</text>\n",
       "</g>\n",
       "<g clip-path=\"url(#clip2100)\">\n",
       "<text style=\"fill:#000000; fill-opacity:1; font-family:Arial,Helvetica Neue,Helvetica,sans-serif; font-size:48px; text-anchor:end;\" transform=\"rotate(0, 117.865, 241.376)\" x=\"117.865\" y=\"241.376\">4</text>\n",
       "</g>\n",
       "<path clip-path=\"url(#clip2102)\" d=\"\n",
       "M1247.31 767.359 L1247.31 631.489 L1455.88 495.618 L1873.03 495.618 L1873.03 767.359 L1247.31 767.359 L1247.31 767.359 L1873.03 767.359 L1873.03 767.359 L1455.88 767.359 \n",
       "  L1247.31 767.359 L1247.31 767.359  Z\n",
       "  \" fill=\"#808080\" fill-rule=\"evenodd\" fill-opacity=\"0.2\"/>\n",
       "<polyline clip-path=\"url(#clip2102)\" style=\"stroke:#009af9; stroke-width:4; stroke-opacity:1; fill:none\" points=\"\n",
       "  1247.31,767.359 1247.31,631.489 1455.88,495.618 1873.03,495.618 1873.03,767.359 1247.31,767.359 \n",
       "  \"/>\n",
       "<polyline clip-path=\"url(#clip2102)\" style=\"stroke:#e26f46; stroke-width:4; stroke-opacity:1; fill:none\" points=\"\n",
       "  1247.31,767.359 1038.74,767.359 \n",
       "  \"/>\n",
       "<polyline clip-path=\"url(#clip2102)\" style=\"stroke:#e26f46; stroke-width:4; stroke-opacity:1; fill:none\" points=\"\n",
       "  1074.74,785.359 1038.74,767.359 1074.74,749.359 \n",
       "  \"/>\n",
       "<polyline clip-path=\"url(#clip2102)\" style=\"stroke:#e26f46; stroke-width:4; stroke-opacity:1; fill:none\" points=\"\n",
       "  1038.74,767.359 1247.31,767.359 \n",
       "  \"/>\n",
       "<polyline clip-path=\"url(#clip2102)\" style=\"stroke:#e26f46; stroke-width:4; stroke-opacity:1; fill:none\" points=\"\n",
       "  1247.31,767.359 1247.31,903.23 \n",
       "  \"/>\n",
       "<polyline clip-path=\"url(#clip2102)\" style=\"stroke:#e26f46; stroke-width:4; stroke-opacity:1; fill:none\" points=\"\n",
       "  1265.31,867.23 1247.31,903.23 1229.31,867.23 \n",
       "  \"/>\n",
       "<polyline clip-path=\"url(#clip2102)\" style=\"stroke:#e26f46; stroke-width:4; stroke-opacity:1; fill:none\" points=\"\n",
       "  1247.31,903.23 1247.31,767.359 \n",
       "  \"/>\n",
       "<polyline clip-path=\"url(#clip2102)\" style=\"stroke:#3da44d; stroke-width:4; stroke-opacity:1; fill:none\" points=\"\n",
       "  1247.31,767.359 1351.6,699.424 \n",
       "  \"/>\n",
       "<polyline clip-path=\"url(#clip2102)\" style=\"stroke:#3da44d; stroke-width:4; stroke-opacity:1; fill:none\" points=\"\n",
       "  1311.61,703.992 1351.6,699.424 1331.26,734.156 \n",
       "  \"/>\n",
       "<polyline clip-path=\"url(#clip2102)\" style=\"stroke:#3da44d; stroke-width:4; stroke-opacity:1; fill:none\" points=\"\n",
       "  1351.6,699.424 1247.31,767.359 \n",
       "  \"/>\n",
       "<circle clip-path=\"url(#clip2102)\" style=\"fill:#000000; stroke:none; fill-opacity:1\" cx=\"1247.31\" cy=\"767.359\" r=\"18\"/>\n",
       "<circle clip-path=\"url(#clip2102)\" style=\"fill:#c271d2; stroke:none; fill-opacity:1\" cx=\"1247.31\" cy=\"767.359\" r=\"14\"/>\n",
       "</svg>\n"
      ]
     },
     "execution_count": 576,
     "metadata": {},
     "output_type": "execute_result"
    }
   ],
   "source": [
    "# α is the multiplier up to where the point hits one of the internal restrictions.\n",
    "α = minimum(b[3:end] ./ (Ag[3:end,:]*(-circum)))\n",
    "x_p = xo + \n",
    "\n",
    "plot([0,0,1,3,3,0],[0,1,2,2,0,0],fill=true,fillcolor=:gray,fillalpha=0.2,legend=false)\n",
    "quiver!(zeros(2),zeros(2),quiver=(Ag[1:2,1],Ag[1:2,2]),xlims=[-5,5],ylims=[-5,5])\n",
    "quiver!([zeros(1)],[zeros(1)],quiver=([-circum[1]],[-circum[2]]),xlims=[-5,5],ylims=[-5,5])\n",
    "scatter!([xo[1]],[xo[2]])"
   ]
  },
  {
   "cell_type": "code",
   "execution_count": 514,
   "metadata": {},
   "outputs": [
    {
     "data": {
      "text/plain": [
       "2-element Array{Float64,1}:\n",
       " 0.5\n",
       " 0.5"
      ]
     },
     "execution_count": 514,
     "metadata": {},
     "output_type": "execute_result"
    }
   ],
   "source": [
    "-circum + xo"
   ]
  },
  {
   "cell_type": "code",
   "execution_count": null,
   "metadata": {},
   "outputs": [],
   "source": []
  },
  {
   "cell_type": "code",
   "execution_count": null,
   "metadata": {},
   "outputs": [],
   "source": []
  }
 ],
 "metadata": {
  "kernelspec": {
   "display_name": "Julia 1.0.5",
   "language": "julia",
   "name": "julia-1.0"
  },
  "language_info": {
   "file_extension": ".jl",
   "mimetype": "application/julia",
   "name": "julia",
   "version": "1.0.5"
  }
 },
 "nbformat": 4,
 "nbformat_minor": 4
}
