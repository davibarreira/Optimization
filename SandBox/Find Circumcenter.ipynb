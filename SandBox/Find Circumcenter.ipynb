{
 "cells": [
  {
   "cell_type": "markdown",
   "metadata": {},
   "source": [
    "# Notebook for Evaluating the Functions for Finding the Circumcenter"
   ]
  },
  {
   "cell_type": "code",
   "execution_count": 1,
   "metadata": {},
   "outputs": [
    {
     "ename": "ArgumentError",
     "evalue": "ArgumentError: Package Plots not found in current path:\n- Run `import Pkg; Pkg.add(\"Plots\")` to install the Plots package.\n",
     "output_type": "error",
     "traceback": [
      "ArgumentError: Package Plots not found in current path:\n- Run `import Pkg; Pkg.add(\"Plots\")` to install the Plots package.\n",
      "",
      "Stacktrace:",
      " [1] require(::Module, ::Symbol) at ./loading.jl:892",
      " [2] top-level scope at In[1]:2"
     ]
    }
   ],
   "source": [
    "using Pkg\n",
    "using LinearAlgebra, Plots"
   ]
  },
  {
   "cell_type": "code",
   "execution_count": 2,
   "metadata": {},
   "outputs": [
    {
     "data": {
      "text/plain": [
       "CC (generic function with 1 method)"
      ]
     },
     "execution_count": 2,
     "metadata": {},
     "output_type": "execute_result"
    }
   ],
   "source": [
    "# Davi - baseado em Hui\n",
    "function CC(S)\n",
    "    # Function to calculate the circumcenter\n",
    "    T1 = (S.-S[:,1])[:,2:end]\n",
    "    T2 = pinv(T1' * T1) # MODIFIED THE ORIGINAL BY THE PSEUDO-INVERSE INSTEAD OF THE INVERSE. IT SEEMS TO WORK... WHY?\n",
    "    T3 = diag((S.-S[:,1])[:,2:end]' * (S.-S[:,1])[:,2:end])\n",
    "    cc = S[:,1] + 0.5.*T1 * T2 * T3\n",
    "    return cc\n",
    "end"
   ]
  },
  {
   "cell_type": "code",
   "execution_count": 90,
   "metadata": {},
   "outputs": [
    {
     "data": {
      "text/plain": [
       "3-element Array{Float64,1}:\n",
       " 2.75\n",
       " 1.0\n",
       " 1.0"
      ]
     },
     "execution_count": 90,
     "metadata": {},
     "output_type": "execute_result"
    }
   ],
   "source": [
    "#Rafael Santos\n",
    "\n",
    "function FindCircumcentermSet(X)\n",
    "    # Finds the Circumcenter of points X = [X1, X2, X3, ... Xn]\n",
    "        # println(typeof(X))\n",
    "        lengthX = length(X)\n",
    "        if lengthX  == 1\n",
    "            return X[1]\n",
    "        elseif lengthX == 2\n",
    "            return .5*(X[1] + X[2])\n",
    "        end\n",
    "        V = []\n",
    "        b = Float64[]\n",
    "        # Forms V = [X[2] - X[1] ... X[n]-X[1]]\n",
    "        # and b = [dot(V[1],V[1]) ... dot(V[n-1],V[n-1])]\n",
    "        for ind in 2:lengthX\n",
    "            difXnX1 = X[ind]-X[1]\n",
    "            push!(V,difXnX1)\n",
    "            push!(b,dot(difXnX1,difXnX1))\n",
    "        end\n",
    "\n",
    "       # Forms Gram Matrix\n",
    "        dimG = lengthX-1\n",
    "        G = diagm(b)\n",
    "\n",
    "        for irow in 1:(dimG-1)\n",
    "            for icol in  (irow+1):dimG\n",
    "                G[irow,icol] = dot(V[irow],V[icol])\n",
    "                G[icol,irow] = G[irow,icol]\n",
    "            end\n",
    "        end\n",
    "        # Can we make this solution faster, or better?\n",
    "        y = cholesky(G)\\b\n",
    "        CC = X[1]\n",
    "        for ind in 1:dimG\n",
    "            CC += .5*y[ind]*V[ind]\n",
    "        end\n",
    "        return CC\n",
    "end\n",
    "X1= [1,1,2]\n",
    "X2= [1,1,0]\n",
    "X3= [3,1,-1]\n",
    "X = [X1,X2,X3]\n",
    "FindCircumcentermSet(X)"
   ]
  },
  {
   "cell_type": "code",
   "execution_count": 89,
   "metadata": {},
   "outputs": [
    {
     "data": {
      "text/plain": [
       "3-element Array{Float64,1}:\n",
       " 2.75\n",
       " 1.0\n",
       " 1.0"
      ]
     },
     "execution_count": 89,
     "metadata": {},
     "output_type": "execute_result"
    }
   ],
   "source": [
    "#Davi\n",
    "\n",
    "function FindCircumcenterm(X)\n",
    "    # Finds the Circumcenter of points X = [X1, X2, X3, ... Xn], where each\n",
    "    # column is Xi\n",
    "        # println(typeof(X))\n",
    "        lengthX = size(X)[1]\n",
    "        if lengthX  == 1\n",
    "            return X[:,1]\n",
    "        elseif lengthX == 2\n",
    "            return .5*(X[:,1] + X[:,2])\n",
    "        end\n",
    "        V = []\n",
    "        b = Float64[]\n",
    "        # Forms V = [X[2] - X[1] ... X[n]-X[1]]\n",
    "        # and b = [dot(V[1],V[1]) ... dot(V[n-1],V[n-1])]\n",
    "        for ind in 2:lengthX\n",
    "            difXnX1 = X[:,ind]-X[:,1]\n",
    "            push!(V,difXnX1)\n",
    "            push!(b,dot(difXnX1,difXnX1))\n",
    "        end\n",
    "\n",
    "       # Forms Gram Matrix\n",
    "        dimG = lengthX-1\n",
    "        G = diagm(b)\n",
    "\n",
    "        for irow in 1:(dimG-1)\n",
    "            for icol in  (irow+1):dimG\n",
    "                G[irow,icol] = dot(V[irow],V[icol])\n",
    "                G[icol,irow] = G[irow,icol]\n",
    "            end\n",
    "        end\n",
    "        # Can we make this solution faster, or better?\n",
    "        y = cholesky(G)\\b\n",
    "        CC = X[:,1]\n",
    "        for ind in 1:dimG\n",
    "            CC += .5*y[ind]*V[ind]\n",
    "        end\n",
    "        return CC\n",
    "end\n",
    "\n",
    "# FindCircumcenterm(S)\n",
    "X1= [1,1,2.]\n",
    "X2= [1,1,0.]\n",
    "X3= [3,1,-1.]\n",
    "X = [X1,X2,X3]\n",
    "S = [X1 X2 X3]\n",
    "FindCircumcenterm(S)"
   ]
  },
  {
   "cell_type": "code",
   "execution_count": 88,
   "metadata": {},
   "outputs": [
    {
     "name": "stdout",
     "output_type": "stream",
     "text": [
      "y = cholesky(G) \\ b = [-1.625, 1.75]\n"
     ]
    },
    {
     "data": {
      "text/plain": [
       "3-element Array{Float64,1}:\n",
       " 2.75\n",
       " 1.0\n",
       " 1.0"
      ]
     },
     "execution_count": 88,
     "metadata": {},
     "output_type": "execute_result"
    }
   ],
   "source": [
    "FindCircumcentermSet(X)"
   ]
  },
  {
   "cell_type": "code",
   "execution_count": 4,
   "metadata": {},
   "outputs": [
    {
     "data": {
      "text/plain": [
       "2-element Array{Float64,1}:\n",
       " 2.0\n",
       " 1.0"
      ]
     },
     "execution_count": 4,
     "metadata": {},
     "output_type": "execute_result"
    }
   ],
   "source": [
    "S = hcat(X...)\n",
    "CC(S)"
   ]
  },
  {
   "cell_type": "code",
   "execution_count": 94,
   "metadata": {},
   "outputs": [
    {
     "name": "stdout",
     "output_type": "stream",
     "text": [
      "Check if the circumcenters are the same = true\n"
     ]
    }
   ],
   "source": [
    "S = randn(100,100)\n",
    "X = [S[:,i] for i in 1:size(S,2)]\n",
    "C_rafael = FindCircumcentermSet(X)\n",
    "C_davi = FindCircumcenterm(S)\n",
    "\n",
    "println(\"Check if the circumcenters are the same = \",all(abs.(C_rafael - C_davi) .<= 10^-8))"
   ]
  },
  {
   "cell_type": "code",
   "execution_count": 125,
   "metadata": {},
   "outputs": [
    {
     "name": "stdout",
     "output_type": "stream",
     "text": [
      "  0.014090 seconds (5.27 k allocations: 496.047 KiB)\n"
     ]
    },
    {
     "data": {
      "text/plain": [
       "100-element Array{Float64,1}:\n",
       " -2.094481364190102\n",
       "  2.810378594483232\n",
       "  1.4118729634585216\n",
       "  1.5731738253340959\n",
       " -1.7469530327258846\n",
       " -0.10750946672788597\n",
       " -0.6611601468665524\n",
       " -6.758932554769166\n",
       "  4.223704652086072\n",
       "  1.1099097368447213\n",
       " -0.39222681357550115\n",
       "  8.233999523765702\n",
       " -1.5593075220599157\n",
       "  ⋮\n",
       "  0.9948886894009554\n",
       " -1.2634109888282445\n",
       " -7.316337723179374\n",
       "  7.02795631154269\n",
       "  0.5477630707900465\n",
       "  4.086438124051916\n",
       " -4.301787051640611\n",
       "  0.9183659729984797\n",
       " -0.0474331118725706\n",
       " -2.2934129664594427\n",
       "  7.716823412339904\n",
       "  9.267166635524177"
      ]
     },
     "execution_count": 125,
     "metadata": {},
     "output_type": "execute_result"
    }
   ],
   "source": [
    "@time FindCircumcentermSet(X)"
   ]
  },
  {
   "cell_type": "code",
   "execution_count": 96,
   "metadata": {},
   "outputs": [
    {
     "name": "stdout",
     "output_type": "stream",
     "text": [
      "  0.019219 seconds (57 allocations: 1.377 MiB)\n"
     ]
    },
    {
     "data": {
      "text/plain": [
       "100-element Array{Float64,1}:\n",
       " -2.0944813641956013\n",
       "  2.810378594475657\n",
       "  1.4118729634657894\n",
       "  1.5731738253344\n",
       " -1.7469530327288925\n",
       " -0.10750946672402528\n",
       " -0.661160146866387\n",
       " -6.758932554775039\n",
       "  4.22370465209126\n",
       "  1.109909736836677\n",
       " -0.39222681358448996\n",
       "  8.233999523777015\n",
       " -1.5593075220569335\n",
       "  ⋮\n",
       "  0.9948886894028092\n",
       " -1.263410988827391\n",
       " -7.316337723179715\n",
       "  7.027956311553073\n",
       "  0.5477630707859765\n",
       "  4.086438124047412\n",
       " -4.301787051649266\n",
       "  0.9183659730046796\n",
       " -0.04743311187454871\n",
       " -2.293412966453362\n",
       "  7.716823412335201\n",
       "  9.26716663552949"
      ]
     },
     "execution_count": 96,
     "metadata": {},
     "output_type": "execute_result"
    }
   ],
   "source": [
    "@time CC(S)"
   ]
  },
  {
   "cell_type": "code",
   "execution_count": 122,
   "metadata": {},
   "outputs": [
    {
     "name": "stdout",
     "output_type": "stream",
     "text": [
      "  0.002172 seconds (5.47 k allocations: 670.172 KiB)\n"
     ]
    },
    {
     "data": {
      "text/plain": [
       "100-element Array{Float64,1}:\n",
       " -2.094481364190102\n",
       "  2.810378594483232\n",
       "  1.4118729634585216\n",
       "  1.5731738253340959\n",
       " -1.7469530327258846\n",
       " -0.10750946672788597\n",
       " -0.6611601468665524\n",
       " -6.758932554769166\n",
       "  4.223704652086072\n",
       "  1.1099097368447213\n",
       " -0.39222681357550115\n",
       "  8.233999523765702\n",
       " -1.5593075220599157\n",
       "  ⋮\n",
       "  0.9948886894009554\n",
       " -1.2634109888282445\n",
       " -7.316337723179374\n",
       "  7.02795631154269\n",
       "  0.5477630707900465\n",
       "  4.086438124051916\n",
       " -4.301787051640611\n",
       "  0.9183659729984797\n",
       " -0.0474331118725706\n",
       " -2.2934129664594427\n",
       "  7.716823412339904\n",
       "  9.267166635524177"
      ]
     },
     "execution_count": 122,
     "metadata": {},
     "output_type": "execute_result"
    }
   ],
   "source": [
    "@time FindCircumcenterm(S)"
   ]
  }
 ],
 "metadata": {
  "kernelspec": {
   "display_name": "Julia 1.4.1",
   "language": "julia",
   "name": "julia-1.4"
  },
  "language_info": {
   "file_extension": ".jl",
   "mimetype": "application/julia",
   "name": "julia",
   "version": "1.4.1"
  }
 },
 "nbformat": 4,
 "nbformat_minor": 4
}
