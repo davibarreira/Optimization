{
 "cells": [
  {
   "cell_type": "markdown",
   "metadata": {},
   "source": [
    "# IMPLEMETING CIRCUS ALGORITHM\n",
    "The CIRCUS algorithm is a solver of Linear Programming optimization which uses the idea of circumcenters together with\n",
    "some techniques applied in the Simplex algorithm. In this notebook, I'll implement the Simplex first, then\n",
    "implement the **trial version** of the CIRCUS."
   ]
  },
  {
   "cell_type": "code",
   "execution_count": 1,
   "metadata": {},
   "outputs": [
    {
     "name": "stderr",
     "output_type": "stream",
     "text": [
      "┌ Info: Precompiling Plots [91a5bcdd-55d7-5caf-9e0b-520d859cae80]\n",
      "└ @ Base loading.jl:1260\n"
     ]
    }
   ],
   "source": [
    "using LinearAlgebra\n",
    "using PyPlot\n",
    "using Plots"
   ]
  },
  {
   "cell_type": "markdown",
   "metadata": {},
   "source": [
    "## SIMPLEX\n",
    "Let's use as example the following case:\n",
    "$$\n",
    "\\begin{aligned}\n",
    "\\textrm{Maximize} \\quad & x_1 + x_2 \\\\\n",
    "\\textrm{Subject to} \\quad &\n",
    "        -x_1 + x_2  &\\leq 1\\\\\n",
    "\\quad & x_1        &\\leq 3\\\\\n",
    "\\quad & x_2         &\\leq 2\\\\\n",
    "\\quad & x_1,x_2     &\\geq 0\n",
    "\\end{aligned}\n",
    "$$\n",
    "\n",
    "We then put this in the standard form by adding slack variables:\n",
    "$$\n",
    "\\begin{aligned}\n",
    "\\textrm{Maximize} \\quad & x_1 + x_2 \\\\\n",
    "\\textrm{Subject to} \\quad &\n",
    "        -x_1 + x_2 + x_3  &= 1\\\\\n",
    "\\quad & x_1 + x_4        &= 3\\\\\n",
    "\\quad & x_2 + x_5         &= 2\\\\\n",
    "\\quad & x_1,x_2,x_3,x_4,x_5     &\\geq 0\n",
    "\\end{aligned}\n",
    "$$\n",
    "\n",
    "Therefore we have:\n",
    "$$\n",
    "\\begin{aligned}\n",
    "\\textrm{Maximize} \\quad & c^T {x} \\\\\n",
    "\\textrm{Subject to} \\quad & Ax = b \\\\\n",
    "\\quad & x\\geq 0\n",
    "\\end{aligned}\n",
    "$$"
   ]
  },
  {
   "cell_type": "markdown",
   "metadata": {},
   "source": [
    "First, we will implement the Simplex Method following the book \"Understanding and Using Linear Programming\"."
   ]
  },
  {
   "cell_type": "code",
   "execution_count": 6,
   "metadata": {},
   "outputs": [
    {
     "data": {
      "text/plain": [
       "SimplexFromBFS (generic function with 1 method)"
      ]
     },
     "execution_count": 6,
     "metadata": {},
     "output_type": "execute_result"
    }
   ],
   "source": [
    "A = [-1 1 1 0 0;\n",
    "      1 0 0 1 0;\n",
    "      0 1 0 0 1 ]\n",
    "c = [1,1,0,0,0]\n",
    "b = [1,3,2]\n",
    "# starting basic feasible point\n",
    "xo = [0,0,1,3,2];\n",
    "\n",
    "function SimplexFromBFS(c,A,b,initial_bfs;max_iterations=100,index_bfs=[0],index_nfs = [0])\n",
    "    # Initial setup\n",
    "    e  = 10^-5\n",
    "    B  = findall(initial_bfs .> 0+e)\n",
    "    N  = findall(initial_bfs .<= 0+e)\n",
    "    if size(A[:,B])[1] != size(A[:,B])[2]\n",
    "        B = index_bfs\n",
    "        N = index_nfs\n",
    "    end\n",
    "    xn = initial_bfs[N]; xb = initial_bfs[B];\n",
    "    \n",
    "    # Simplex pivoting iteration\n",
    "    for i = 1:max_iterations\n",
    "        Ab = A[:,B]; An = A[:,N]; cb = c[B]; cn = c[N]\n",
    "        p  = inv(Ab)*b\n",
    "        Q  = -inv(Ab)*An\n",
    "        r  = (cb'*Q + cn')'\n",
    "        if all(r.<= 0)\n",
    "            x_final = vcat(hcat(B,p),hcat(N,zeros(length(N))))\n",
    "            x_final = x_final[sortperm(x_final[:,1]),:]\n",
    "            return x_final\n",
    "        end\n",
    "        zo = cb'*p\n",
    "#         z  = zo + r'*xn\n",
    "        index_in =findmax(r)[2]\n",
    "        x_in = N[index_in]\n",
    "        if any(Q[:,index_in] .< 0)\n",
    "            coef_entering = -p./Q[:,index_in] \n",
    "            q_neg_index   = findall(Q[:,index_in] .< 0)\n",
    "            index_out     =findfirst(coef_entering .== findmin(coef_entering[q_neg_index])[1])\n",
    "            x_out     = B[index_out]\n",
    "            B[index_out] = x_in\n",
    "            N[index_in]  = x_out\n",
    "        else\n",
    "            \n",
    "            error(\"Unbounded\")\n",
    "        end\n",
    "        println(x_in,\"   \",x_out)\n",
    "    end\n",
    "    x_final = vcat(hcat(B,p),hcat(N,zeros(length(N))))\n",
    "    x_final = x_final[sortperm(x_final[:,1]),:]\n",
    "    return x_final\n",
    "end\n",
    "\n"
   ]
  },
  {
   "cell_type": "code",
   "execution_count": 7,
   "metadata": {},
   "outputs": [
    {
     "name": "stdout",
     "output_type": "stream",
     "text": [
      "1   4\n",
      "2   5\n"
     ]
    },
    {
     "data": {
      "text/plain": [
       "5×2 Array{Float64,2}:\n",
       " 1.0  3.0\n",
       " 2.0  2.0\n",
       " 3.0  2.0\n",
       " 4.0  0.0\n",
       " 5.0  0.0"
      ]
     },
     "execution_count": 7,
     "metadata": {},
     "output_type": "execute_result"
    }
   ],
   "source": [
    "SimplexFromBFS(c,A,b,xo)"
   ]
  },
  {
   "cell_type": "markdown",
   "metadata": {},
   "source": [
    "### Degenerte example"
   ]
  },
  {
   "cell_type": "code",
   "execution_count": 10,
   "metadata": {},
   "outputs": [
    {
     "data": {
      "text/plain": [
       "2-element Array{Int64,1}:\n",
       " 0\n",
       " 1"
      ]
     },
     "execution_count": 10,
     "metadata": {},
     "output_type": "execute_result"
    }
   ],
   "source": [
    "A = [-1 1 1 0 ;\n",
    "      1 0 0 1]\n",
    "c = [0,1,0,0]\n",
    "b = [0,2]\n",
    "# starting basic feasible point\n",
    "xo = [0,0,0,1];\n",
    "# SimplexFromBFS(c,A,b,xo;max_iterations=10,index_bfs=[3,4],index_nfs=[1,2])\n",
    "A*xo"
   ]
  },
  {
   "cell_type": "markdown",
   "metadata": {},
   "source": [
    "### CIRCUS "
   ]
  },
  {
   "cell_type": "code",
   "execution_count": 5,
   "metadata": {},
   "outputs": [
    {
     "data": {
      "text/plain": [
       "CC (generic function with 1 method)"
      ]
     },
     "execution_count": 5,
     "metadata": {},
     "output_type": "execute_result"
    }
   ],
   "source": [
    "function CC(S)\n",
    "    # Function to calculate the circumcenter\n",
    "    T1 = (S.-S[:,1])[:,2:end]\n",
    "    T2 = pinv(T1' * T1) # MODIFIED THE ORIGINAL BY THE PSEUDO-INVERSE INSTEAD OF THE INVERSE. IT SEEMS TO WORK... WHY?\n",
    "    T3 = diag((S.-S[:,1])[:,2:end]' * (S.-S[:,1])[:,2:end])\n",
    "    cc = S[:,1] + 0.5.*T1 * T2 * T3\n",
    "    return cc\n",
    "end"
   ]
  },
  {
   "cell_type": "code",
   "execution_count": 6,
   "metadata": {},
   "outputs": [
    {
     "name": "stdout",
     "output_type": "stream",
     "text": [
      "Initial point feasible\n",
      "xp not feasible, hence, xo is the optimal solution\n"
     ]
    },
    {
     "ename": "UndefVarError",
     "evalue": "UndefVarError: xt not defined",
     "output_type": "error",
     "traceback": [
      "UndefVarError: xt not defined",
      "",
      "Stacktrace:",
      " [1] top-level scope at In[6]:82"
     ]
    }
   ],
   "source": [
    "function CIRCUS(c,Ag,b,initial_point;tolerance=10^-10, max_iterations=100)\n",
    "    \n",
    "    norm_row(A,d=2) = sqrt.(sum(abs2,A,dims=d))\n",
    "    xo = convert(Array{Float64},initial_point)\n",
    "    xp = [xo]\n",
    "    \n",
    "    Ag_normalized = Ag ./ norm_row(Ag)\n",
    "    c_normalized = c ./ norm(c)\n",
    "    if sum(Ag*xo .<= b) == size(Ag)[1] #Checking if point is feasible\n",
    "            println(\"Initial point feasible\")\n",
    "    else\n",
    "        println(\"Initial point not feasible\")\n",
    "        return 0\n",
    "    end\n",
    "    \n",
    "    for i = 1:max_iterations\n",
    "#         J = findall(Ag*xo - b .== 0) # Active restrictions\n",
    "        J = findall(abs.(Ag*xo - b .- 0).<tolerance) # Active restrictions\n",
    "        I = setdiff(1:size(Ag)[1],J) # Inactive restrictions\n",
    "        angles  = Ag_normalized[J,:]*c_normalized\n",
    "        J_acute = angles .< 0\n",
    "        qtd_acute_restrictions = sum(J_acute)\n",
    "        \n",
    "        if size(J)[1] == 1\n",
    "#             println(\"One restriction and Objective Function\")\n",
    "            S = hcat(-c_normalized,Ag_normalized[J,:]')\n",
    "            circum = CC(S)\n",
    "        elseif size(J)[1] == 0\n",
    "            circum = -c\n",
    "        elseif size(J)[1] - qtd_acute_restrictions == 0\n",
    "            circum = CC(Ag_normalized[J,:]')\n",
    "#             println(\"Only restrictions circumcentered\")\n",
    "        else\n",
    "            \n",
    "            # AJUSTAR ESSA PARTE DO CÓDIGO.\n",
    "            drop_index = findmin(angles)[2]\n",
    "            if size(J)[1] == size(Ag)[2]-1\n",
    "                J_c = J\n",
    "            else\n",
    "                J_c = J[1:end .!= drop_index]\n",
    "            end\n",
    "            circum = CC(hcat(-c_normalized,Ag_normalized[J_c,:]'))\n",
    "        end\n",
    "\n",
    "        eq   = (b[I]-Ag[I,:]*xo) ./ (Ag[I,:]*(-circum))\n",
    "        eq[eq .< 0] .= Inf\n",
    "        replace!(eq, NaN=>Inf)\n",
    "        \n",
    "        α, J = findmin(eq)\n",
    "        J    = findall(eq .== α)\n",
    "        J    = I[J] # new Active restrictions\n",
    "        I = setdiff(1:size(Ag)[1],J) # new Inactive restrictions\n",
    "    \n",
    "        push!(xp,xo-α*circum)\n",
    "        #Check feasibility\n",
    "        if sum(Ag*xp[end] .<= b) != size(Ag)[1]\n",
    "            println(\"xp not feasible, hence, xo is the optimal solution\")\n",
    "            return xp\n",
    "        end\n",
    "        xo = xp[end]\n",
    "    end\n",
    "    println(\"Maximum iteration limit reached.\")\n",
    "    return xp\n",
    "end\n",
    "\n",
    "c = [0,0,-1]\n",
    "A = [-1 1 -1;\n",
    "     -1 -1 -1;\n",
    "     1 0 0]\n",
    "b = [0,0,4]\n",
    "xo = [0,0,0]\n",
    "xo = [1,-1,0]\n",
    "xp = CIRCUS(c,A,b,xo,max_iterations=10)\n",
    "xp = hcat(xp...)'\n",
    "\n",
    "px= [0,4 ,4 ,0 ,0,0,0 ,0,4,4,4 ,4]\n",
    "py= [0,0 ,-4,-4,0,4,-4,4,4,-4,0,4]\n",
    "pz= [0,-4,0 ,4 ,0,4,4 ,4,0,0,-4,0]\n",
    "plt= PyPlot.plot3D(px,py,pz)\n",
    "# PyPlot.scatter3D(px,py,pz)\n",
    "PyPlot.scatter3D(xp[:,1],xp[:,2],xp[:,3])\n",
    "\n",
    "PyPlot.scatter3D([xt[1]],[xt[2]],[xt[3]])\n",
    "PyPlot.plot3D([0,xp[1,1],xt[1]], [0,xp[1,2],xt[2]],[0,xp[1,3],xt[3]])\n",
    "# PyPlot.plot3D([0,xt[1]], [0,xt[2]],[0,xt[3]])\n",
    "\n",
    "x1 = rand(100)*(4)\n",
    "x2 = rand(100)*(-2)\n",
    "x3 = -x1 - x2\n",
    "PyPlot.plot3D(x1,x2,x3)"
   ]
  },
  {
   "cell_type": "code",
   "execution_count": 8,
   "metadata": {},
   "outputs": [
    {
     "ename": "UndefVarError",
     "evalue": "UndefVarError: x_ref not defined",
     "output_type": "error",
     "traceback": [
      "UndefVarError: x_ref not defined",
      "",
      "Stacktrace:",
      " [1] top-level scope at In[8]:5"
     ]
    }
   ],
   "source": [
    "px= [0,4 ,4 ,0 ,0,0,0 ,0,4,4,4 ,4]\n",
    "py= [0,0 ,-4,-4,0,4,-4,4,4,-4,0,4]\n",
    "pz= [0,-4,0 ,4 ,0,4,4 ,4,0,0,-4,0]\n",
    "plt= PyPlot.plot3D(px,py,pz)\n",
    "PyPlot.scatter3D([x_ref[1]],[x_ref[2]],[x_ref[3]])\n",
    "PyPlot.plot3D([xo[1],xo[1]+1],[xo[2],xo[2]+1],[xo[3],xo[3]-2])"
   ]
  },
  {
   "cell_type": "markdown",
   "metadata": {},
   "source": [
    "### Purification\n",
    "We will assume the case of no degeneracy first.\n",
    "\n"
   ]
  },
  {
   "cell_type": "code",
   "execution_count": 9,
   "metadata": {},
   "outputs": [
    {
     "data": {
      "text/plain": [
       "Purification (generic function with 1 method)"
      ]
     },
     "execution_count": 9,
     "metadata": {},
     "output_type": "execute_result"
    }
   ],
   "source": [
    "function Purification(xo,A,c,J,I)\n",
    "    xt = xo\n",
    "    \n",
    "    Aj    = A[J,:] # Active restriction - use the normalized\n",
    "    Cproj = c - (Aj.*(Aj * c)./(norm(Aj)^2))'\n",
    "    eq   = (b[I]-A[I,:]*xt) ./ (A[I,:]*(Cproj))\n",
    "    eq[eq .< 0] .= Inf\n",
    "    replace!(eq, NaN=>Inf)\n",
    "\n",
    "    α, J = findmin(eq)\n",
    "    J    = findall(eq .== α)\n",
    "    J    = I[J] # new Active restrictions\n",
    "    I = setdiff(1:size(A)[1],J) # new Inactive restrictions\n",
    "    xt = xt+α*Cproj\n",
    "    \n",
    "    return xt\n",
    "    \n",
    "end"
   ]
  },
  {
   "cell_type": "code",
   "execution_count": 10,
   "metadata": {},
   "outputs": [
    {
     "data": {
      "text/plain": [
       "3×1 Array{Float64,2}:\n",
       "  2.0\n",
       "  0.0\n",
       " -2.0"
      ]
     },
     "execution_count": 10,
     "metadata": {},
     "output_type": "execute_result"
    }
   ],
   "source": [
    "J = [2]\n",
    "I = [1,3]\n",
    "Purification(xo,A,c,J,I)"
   ]
  },
  {
   "cell_type": "code",
   "execution_count": 11,
   "metadata": {},
   "outputs": [
    {
     "name": "stdout",
     "output_type": "stream",
     "text": [
      "[0.33333333333333337; 0.33333333333333337; -0.6666666666666666]\n",
      "[0.5; -0.0; -0.4999999999999999][2.0; 0.0; -2.0]\n"
     ]
    },
    {
     "data": {
      "text/plain": [
       "3×1 Array{Float64,2}:\n",
       "  4.0\n",
       "  0.0\n",
       " -3.9999999999999996"
      ]
     },
     "execution_count": 11,
     "metadata": {},
     "output_type": "execute_result"
    }
   ],
   "source": [
    "J = [2]\n",
    "I = [1,3]\n",
    "\n",
    "Aj    = A[J,:] # Active restriction - use the normalized\n",
    "Cproj = c - (Aj.*(Aj * c)./(norm(Aj)^2))'\n",
    "Cnorm = (Aj.*(Aj * c)./(norm(Aj)^2))'\n",
    "eq   = (b[I]-A[I,:]*xo) ./ (A[I,:]*(Cproj))\n",
    "eq[eq .< 0] .= Inf\n",
    "replace!(eq, NaN=>Inf)\n",
    "\n",
    "α, J = findmin(eq)\n",
    "xt = xo+α*Cproj\n",
    "println(Cproj)\n",
    "\n",
    "J = [2,1]\n",
    "I = [3]\n",
    "Aj    = A[J,:] # Active restriction - use the normalized\n",
    "\n",
    "nj = nullspace(Aj)\n",
    "Cproj = nj.*(nj'*c)\n",
    "println(Cproj,xt)\n",
    "\n",
    "eq   = (b[I]-A[I,:]*xt) ./ (A[I,:]*(Cproj))\n",
    "eq[eq .< 0] .= Inf\n",
    "replace!(eq, NaN=>Inf)\n",
    "\n",
    "α, J = findmin(eq)\n",
    "xr = xt+α*Cproj"
   ]
  },
  {
   "cell_type": "code",
   "execution_count": 12,
   "metadata": {},
   "outputs": [
    {
     "data": {
      "image/png": "[encoded data removed]",
      "text/plain": [
       "Figure(PyObject <Figure size 640x480 with 1 Axes>)"
      ]
     },
     "metadata": {},
     "output_type": "display_data"
    },
    {
     "data": {
      "text/plain": [
       "PyObject <mpl_toolkits.mplot3d.art3d.Path3DCollection object at 0x7fba478a0760>"
      ]
     },
     "execution_count": 12,
     "metadata": {},
     "output_type": "execute_result"
    }
   ],
   "source": [
    "plt= PyPlot.plot3D(px,py,pz)\n",
    "PyPlot.scatter3D([xt[1]],[xt[2]],[xt[3]])\n",
    "PyPlot.plot3D([0,xp[1,1],xt[1]], [0,xp[1,2],xt[2]],[0,xp[1,3],xt[3]])\n",
    "PyPlot.scatter3D([0,xp[1,1],xt[1]], [0,xp[1,2],xt[2]],[0,xp[1,3],xt[3]])\n",
    "PyPlot.plot3D([0,xt[1]], [0,xt[2]],[0,xt[3]])\n",
    "PyPlot.scatter3D([0,xr[1]], [0,xr[2]],[0,xr[3]])"
   ]
  },
  {
   "cell_type": "code",
   "execution_count": null,
   "metadata": {},
   "outputs": [],
   "source": []
  }
 ],
 "metadata": {
  "kernelspec": {
   "display_name": "Julia 1.4.1",
   "language": "julia",
   "name": "julia-1.4"
  },
  "language_info": {
   "file_extension": ".jl",
   "mimetype": "application/julia",
   "name": "julia",
   "version": "1.4.1"
  }
 },
 "nbformat": 4,
 "nbformat_minor": 4
}
