{
 "cells": [
  {
   "cell_type": "markdown",
   "metadata": {},
   "source": [
    "# Notebook for Evaluating the Functions for Finding the Circumcenter"
   ]
  },
  {
   "cell_type": "code",
   "execution_count": 3,
   "metadata": {},
   "outputs": [],
   "source": [
    "using Pkg\n",
    "using LinearAlgebra, Plots"
   ]
  },
  {
   "cell_type": "code",
   "execution_count": 4,
   "metadata": {},
   "outputs": [
    {
     "data": {
      "text/plain": [
       "CC (generic function with 1 method)"
      ]
     },
     "execution_count": 4,
     "metadata": {},
     "output_type": "execute_result"
    }
   ],
   "source": [
    "# Davi - baseado em Hui\n",
    "function CC(S)\n",
    "    # Function to calculate the circumcenter\n",
    "    T1 = (S.-S[:,1])[:,2:end]\n",
    "    T2 = pinv(T1' * T1) # MODIFIED THE ORIGINAL BY THE PSEUDO-INVERSE INSTEAD OF THE INVERSE. IT SEEMS TO WORK... WHY?\n",
    "    T3 = diag((S.-S[:,1])[:,2:end]' * (S.-S[:,1])[:,2:end])\n",
    "    cc = S[:,1] + 0.5.*T1 * T2 * T3\n",
    "    return cc\n",
    "end"
   ]
  },
  {
   "cell_type": "code",
   "execution_count": 144,
   "metadata": {},
   "outputs": [
    {
     "ename": "PosDefException",
     "evalue": "PosDefException: matrix is not positive definite; Cholesky factorization failed.",
     "output_type": "error",
     "traceback": [
      "PosDefException: matrix is not positive definite; Cholesky factorization failed.",
      "",
      "Stacktrace:",
      " [1] checkpositivedefinite at /buildworker/worker/package_linux64/build/usr/share/julia/stdlib/v1.4/LinearAlgebra/src/factorization.jl:18 [inlined]",
      " [2] cholesky!(::Hermitian{Float64,Array{Float64,2}}, ::Val{false}; check::Bool) at /buildworker/worker/package_linux64/build/usr/share/julia/stdlib/v1.4/LinearAlgebra/src/cholesky.jl:226",
      " [3] cholesky!(::Array{Float64,2}, ::Val{false}; check::Bool) at /buildworker/worker/package_linux64/build/usr/share/julia/stdlib/v1.4/LinearAlgebra/src/cholesky.jl:258",
      " [4] #cholesky#136 at /buildworker/worker/package_linux64/build/usr/share/julia/stdlib/v1.4/LinearAlgebra/src/cholesky.jl:348 [inlined]",
      " [5] cholesky at /buildworker/worker/package_linux64/build/usr/share/julia/stdlib/v1.4/LinearAlgebra/src/cholesky.jl:348 [inlined] (repeats 2 times)",
      " [6] FindCircumcentermSet(::Array{Array{Int64,1},1}) at ./In[144]:33",
      " [7] top-level scope at In[144]:44"
     ]
    }
   ],
   "source": [
    "#Rafael Santos\n",
    "\n",
    "function FindCircumcentermSet(X)\n",
    "    # Finds the Circumcenter of points X = [X1, X2, X3, ... Xn]\n",
    "        # println(typeof(X))\n",
    "        lengthX = length(X)\n",
    "        if lengthX  == 1\n",
    "            return X[1]\n",
    "        elseif lengthX == 2\n",
    "            return .5*(X[1] + X[2])\n",
    "        end\n",
    "        V = []\n",
    "        b = Float64[]\n",
    "        # Forms V = [X[2] - X[1] ... X[n]-X[1]]\n",
    "        # and b = [dot(V[1],V[1]) ... dot(V[n-1],V[n-1])]\n",
    "        for ind in 2:lengthX\n",
    "            difXnX1 = X[ind]-X[1]\n",
    "            push!(V,difXnX1)\n",
    "            push!(b,dot(difXnX1,difXnX1))\n",
    "        end\n",
    "\n",
    "       # Forms Gram Matrix\n",
    "        dimG = lengthX-1\n",
    "        G = diagm(b)\n",
    "\n",
    "        for irow in 1:(dimG-1)\n",
    "            for icol in  (irow+1):dimG\n",
    "                G[irow,icol] = dot(V[irow],V[icol])\n",
    "                G[icol,irow] = G[irow,icol]\n",
    "            end\n",
    "        end\n",
    "        # Can we make this solution faster, or better?\n",
    "        y = cholesky(G)\\b\n",
    "        CC = X[1]\n",
    "        for ind in 1:dimG\n",
    "            CC += .5*y[ind]*V[ind]\n",
    "        end\n",
    "        return CC\n",
    "end\n",
    "X1= [1,1]\n",
    "X2= [1,1]\n",
    "X3= [3,1]\n",
    "X = [X1,X2,X3]\n",
    "FindCircumcentermSet(X)"
   ]
  },
  {
   "cell_type": "code",
   "execution_count": 147,
   "metadata": {},
   "outputs": [
    {
     "data": {
      "text/plain": [
       "2-element Array{Float64,1}:\n",
       " 2.0\n",
       " 1.0"
      ]
     },
     "execution_count": 147,
     "metadata": {},
     "output_type": "execute_result"
    }
   ],
   "source": [
    "S = hcat(X...)\n",
    "CC(S)"
   ]
  },
  {
   "cell_type": "code",
   "execution_count": 120,
   "metadata": {},
   "outputs": [
    {
     "name": "stdout",
     "output_type": "stream",
     "text": [
      "Check if the circumcenters are the same = true\n"
     ]
    }
   ],
   "source": [
    "S = randn(100,100)\n",
    "X = [S[:,i] for i in 1:size(S,2)]\n",
    "C_rafael = FindCircumcentermSet(X)\n",
    "C_davi = CC(S)\n",
    "\n",
    "println(\"Check if the circumcenters are the same = \",all(abs.(C_rafael - C_davi) .<= 10^-8))"
   ]
  },
  {
   "cell_type": "code",
   "execution_count": 130,
   "metadata": {},
   "outputs": [
    {
     "name": "stdout",
     "output_type": "stream",
     "text": [
      "  0.002378 seconds (5.27 k allocations: 496.047 KiB)\n"
     ]
    },
    {
     "data": {
      "text/plain": [
       "100-element Array{Float64,1}:\n",
       "   0.34574864525572185\n",
       "   0.9011979826301673\n",
       "  -0.7202881067547222\n",
       "   1.4957428512777273\n",
       "  -1.6848149506949595\n",
       " -14.192523656656896\n",
       "  -3.0600096861394395\n",
       "  -0.4484508387802011\n",
       "  14.966330718387756\n",
       "  -6.336942450999871\n",
       "  -7.172355877457504\n",
       "  -3.7741389464772555\n",
       "  -3.407972344196391\n",
       "   ⋮\n",
       " -12.363838382953663\n",
       " -12.666240220708147\n",
       "   2.3356602979617023\n",
       "  -6.604851947203313\n",
       "   6.636865731146269\n",
       "   0.6599198364617465\n",
       "   0.5280336612649821\n",
       "  -1.740834304926027\n",
       "   0.7131976107295372\n",
       "   6.714596125383888\n",
       "   4.196051115554836\n",
       "   2.316615713674146"
      ]
     },
     "execution_count": 130,
     "metadata": {},
     "output_type": "execute_result"
    }
   ],
   "source": [
    "@time FindCircumcentermSet(X)"
   ]
  },
  {
   "cell_type": "code",
   "execution_count": 142,
   "metadata": {},
   "outputs": [
    {
     "name": "stdout",
     "output_type": "stream",
     "text": [
      "  0.022448 seconds (57 allocations: 1.377 MiB)\n"
     ]
    },
    {
     "data": {
      "text/plain": [
       "100-element Array{Float64,1}:\n",
       "   0.34574864525116844\n",
       "   0.901197982633266\n",
       "  -0.720288106753364\n",
       "   1.49574285127779\n",
       "  -1.6848149506965755\n",
       " -14.192523656654018\n",
       "  -3.0600096861398414\n",
       "  -0.4484508387776094\n",
       "  14.966330718393456\n",
       "  -6.336942450998447\n",
       "  -7.172355877461035\n",
       "  -3.774138946477141\n",
       "  -3.4079723442036687\n",
       "   ⋮\n",
       " -12.363838382954052\n",
       " -12.666240220717812\n",
       "   2.3356602979621854\n",
       "  -6.604851947209884\n",
       "   6.636865731148907\n",
       "   0.6599198364570228\n",
       "   0.5280336612654927\n",
       "  -1.740834304920155\n",
       "   0.7131976107274398\n",
       "   6.714596125386311\n",
       "   4.196051115553773\n",
       "   2.3166157136784844"
      ]
     },
     "execution_count": 142,
     "metadata": {},
     "output_type": "execute_result"
    }
   ],
   "source": [
    "@time CC(S)"
   ]
  }
 ],
 "metadata": {
  "kernelspec": {
   "display_name": "Julia 1.4.0",
   "language": "julia",
   "name": "julia-1.4"
  },
  "language_info": {
   "file_extension": ".jl",
   "mimetype": "application/julia",
   "name": "julia",
   "version": "1.4.0"
  }
 },
 "nbformat": 4,
 "nbformat_minor": 4
}
