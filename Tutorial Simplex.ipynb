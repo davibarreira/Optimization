{
 "cells": [
  {
   "cell_type": "markdown",
   "metadata": {},
   "source": [
    "# Tutorial Simplex\n",
    "This is based on this [link.](https://www.softcover.io/read/7b8eb7d0/juliabook/simplex)"
   ]
  },
  {
   "cell_type": "code",
   "execution_count": 26,
   "metadata": {},
   "outputs": [
    {
     "name": "stdout",
     "output_type": "stream",
     "text": [
      "\u001b[32m\u001b[1m Resolving\u001b[22m\u001b[39m package versions...\n",
      "\u001b[32m\u001b[1m  Updating\u001b[22m\u001b[39m `~/.julia/environments/v1.0/Project.toml`\n",
      "\u001b[90m [no changes]\u001b[39m\n",
      "\u001b[32m\u001b[1m  Updating\u001b[22m\u001b[39m `~/.julia/environments/v1.0/Manifest.toml`\n",
      "\u001b[90m [no changes]\u001b[39m\n",
      "\u001b[32m\u001b[1m Resolving\u001b[22m\u001b[39m package versions...\n",
      "\u001b[32m\u001b[1m  Updating\u001b[22m\u001b[39m `~/.julia/environments/v1.0/Project.toml`\n",
      "\u001b[90m [no changes]\u001b[39m\n",
      "\u001b[32m\u001b[1m  Updating\u001b[22m\u001b[39m `~/.julia/environments/v1.0/Manifest.toml`\n",
      "\u001b[90m [no changes]\u001b[39m\n",
      "\u001b[32m\u001b[1m Resolving\u001b[22m\u001b[39m package versions...\n",
      "\u001b[32m\u001b[1m  Updating\u001b[22m\u001b[39m `~/.julia/environments/v1.0/Project.toml`\n",
      "\u001b[90m [no changes]\u001b[39m\n",
      "\u001b[32m\u001b[1m  Updating\u001b[22m\u001b[39m `~/.julia/environments/v1.0/Manifest.toml`\n",
      "\u001b[90m [no changes]\u001b[39m\n",
      "\u001b[32m\u001b[1m Resolving\u001b[22m\u001b[39m package versions...\n",
      "\u001b[32m\u001b[1m  Updating\u001b[22m\u001b[39m `~/.julia/environments/v1.0/Project.toml`\n",
      " \u001b[90m [fdba3010]\u001b[39m\u001b[92m + MathProgBase v0.7.8\u001b[39m\n",
      "\u001b[32m\u001b[1m  Updating\u001b[22m\u001b[39m `~/.julia/environments/v1.0/Manifest.toml`\n",
      "\u001b[90m [no changes]\u001b[39m\n",
      "\u001b[32m\u001b[1m Resolving\u001b[22m\u001b[39m package versions...\n",
      "\u001b[32m\u001b[1m  Updating\u001b[22m\u001b[39m `~/.julia/environments/v1.0/Project.toml`\n",
      "\u001b[90m [no changes]\u001b[39m\n",
      "\u001b[32m\u001b[1m  Updating\u001b[22m\u001b[39m `~/.julia/environments/v1.0/Manifest.toml`\n",
      "\u001b[90m [no changes]\u001b[39m\n"
     ]
    }
   ],
   "source": [
    "using Pkg\n",
    "Pkg.add(\"Clp\")\n",
    "Pkg.add(\"JuMP\")\n",
    "Pkg.add(\"Cbc\");\n",
    "Pkg.add(\"MathProgBase\");\n",
    "Pkg.add(\"Combinatorics\");\n",
    "using StatsPlots, Plots\n",
    "using Combinatorics, LinearAlgebra"
   ]
  },
  {
   "cell_type": "markdown",
   "metadata": {},
   "source": [
    "### **1.** Searching all Basic Feasible Solutions"
   ]
  },
  {
   "cell_type": "code",
   "execution_count": 20,
   "metadata": {},
   "outputs": [
    {
     "data": {
      "text/plain": [
       "searchBFS (generic function with 1 method)"
      ]
     },
     "execution_count": 20,
     "metadata": {},
     "output_type": "execute_result"
    }
   ],
   "source": [
    "function isnonnegative(x::Array{Float64, 1})\n",
    "  return length( x[ x .< 0] ) == 0\n",
    "end\n",
    "\n",
    "function searchBFS(c, A, b)\n",
    "  m, n = size(A)\n",
    "  @assert rank(A) == m\n",
    "\n",
    "  opt_x = zeros(n)\n",
    "  obj = Inf\n",
    "\n",
    "  for b_idx in combinations(1:n, m)\n",
    "    B = A[:, b_idx]\n",
    "    c_B = c[b_idx]\n",
    "    x_B = inv(B) * b\n",
    "\n",
    "    if isnonnegative(x_B)\n",
    "      z = dot(c_B, x_B)\n",
    "      if z < obj\n",
    "        obj = z\n",
    "        opt_x = zeros(n)\n",
    "        opt_x[b_idx] = x_B\n",
    "      end\n",
    "    end\n",
    "\n",
    "    println(\"Basis:\", b_idx)\n",
    "    println(\"\\t x_B = \", x_B)\n",
    "    println(\"\\t nonnegative? \", isnonnegative(x_B))\n",
    "    if isnonnegative(x_B)\n",
    "      println(\"\\t obj = \", dot(c_B, x_B))\n",
    "    end\n",
    "\n",
    "  end\n",
    "\n",
    "  return opt_x, obj\n",
    "end"
   ]
  },
  {
   "cell_type": "code",
   "execution_count": 24,
   "metadata": {},
   "outputs": [
    {
     "name": "stdout",
     "output_type": "stream",
     "text": [
      "Basis:[1, 2, 3]\n",
      "\t x_B = [0.25, 4.75, -2.25]\n",
      "\t nonnegative? false\n",
      "Basis:[1, 2, 4]\n",
      "\t x_B = [0.172414, 1.87931, 0.155172]\n",
      "\t nonnegative? true\n",
      "\t obj = -5.051724137931034\n",
      "Basis:[1, 2, 5]\n",
      "\t x_B = [0.571429, 1.85714, -2.57143]\n",
      "\t nonnegative? false\n",
      "Basis:[1, 2, 6]\n",
      "\t x_B = [0.16, 1.96, 0.72]\n",
      "\t nonnegative? true\n",
      "\t obj = -4.3999999999999995\n",
      "Basis:[1, 2, 7]\n",
      "\t x_B = [-2.0, 7.0, -18.0]\n",
      "\t nonnegative? false\n",
      "Basis:[1, 3, 4]\n",
      "\t x_B = [0.121622, 1.47297, 0.256757]\n",
      "\t nonnegative? true\n",
      "\t obj = -3.121621621621621\n",
      "Basis:[1, 3, 5]\n",
      "\t x_B = [0.777778, 1.44444, -4.22222]\n",
      "\t nonnegative? false\n",
      "Basis:[1, 3, 6]\n",
      "\t x_B = [0.0967742, 1.58065, 1.22581]\n",
      "\t nonnegative? true\n",
      "\t obj = -1.8709677419354835\n",
      "Basis:[1, 3, 7]\n",
      "\t x_B = [5.0, -7.0, 38.0]\n",
      "\t nonnegative? false\n",
      "Basis:[1, 4, 5]\n",
      "\t x_B = [34.0, -13.0, -218.0]\n",
      "\t nonnegative? false\n",
      "Basis:[1, 4, 6]\n",
      "\t x_B = [0.461538, 3.76923, -16.7692]\n",
      "\t nonnegative? false\n",
      "Basis:[1, 4, 7]\n",
      "\t x_B = [0.969697, 0.212121, 6.60606]\n",
      "\t nonnegative? true\n",
      "\t obj = -3.9696969696969693\n",
      "Basis:[1, 5, 6]\n",
      "\t x_B = [8.0, -49.0, -13.0]\n",
      "\t nonnegative? false\n",
      "Basis:[1, 5, 7]\n",
      "\t x_B = [1.5, -3.5, 6.5]\n",
      "\t nonnegative? false\n",
      "Basis:[1, 6, 7]\n",
      "\t x_B = [1.0, 1.0, 7.0]\n",
      "\t nonnegative? true\n",
      "\t obj = -3.0\n",
      "Basis:[2, 3, 4]\n",
      "\t x_B = [-4.5, 5.0, 0.5]\n",
      "\t nonnegative? false\n",
      "Basis:[2, 3, 5]\n",
      "\t x_B = [7.0, -4.0, 2.0]\n",
      "\t nonnegative? false\n",
      "Basis:[2, 3, 6]\n",
      "\t x_B = [-3.0, 4.0, 2.0]\n",
      "\t nonnegative? false\n",
      "Basis:[2, 3, 7]\n",
      "\t x_B = [5.0, -2.0, -2.0]\n",
      "\t nonnegative? false\n",
      "Basis:[2, 4, 5]\n",
      "\t x_B = [1.88889, 0.222222, 1.11111]\n",
      "\t nonnegative? true\n",
      "\t obj = -4.888888888888889\n",
      "Basis:[2, 4, 6]\n",
      "\t x_B = [3.0, -2.0, 10.0]\n",
      "\t nonnegative? false\n",
      "Basis:[2, 4, 7]\n",
      "\t x_B = [2.28571, 0.142857, -1.42857]\n",
      "\t nonnegative? false\n",
      "Basis:[2, 5, 6]\n",
      "\t x_B = [2.0, 1.0, 1.0]\n",
      "\t nonnegative? true\n",
      "\t obj = -4.0\n",
      "Basis:[2, 5, 7]\n",
      "\t x_B = [3.0, -2.0, -4.0]\n",
      "\t nonnegative? false\n",
      "Basis:[2, 6, 7]\n",
      "\t x_B = [2.33333, 0.666667, -1.33333]\n",
      "\t nonnegative? false\n",
      "Basis:[3, 4, 5]\n",
      "\t x_B = [1.47826, 0.304348, 0.782609]\n",
      "\t nonnegative? true\n",
      "\t obj = -3.0\n",
      "Basis:[3, 4, 6]\n",
      "\t x_B = [2.0, -1.0, 6.0]\n",
      "\t nonnegative? false\n",
      "Basis:[3, 4, 7]\n",
      "\t x_B = [1.68421, 0.263158, -0.947368]\n",
      "\t nonnegative? false\n",
      "Basis:[3, 5, 6]\n",
      "\t x_B = [1.6, 0.6, 1.4]\n",
      "\t nonnegative? true\n",
      "\t obj = -1.6\n",
      "Basis:[3, 5, 7]\n",
      "\t x_B = [3.0, -5.0, -7.0]\n",
      "\t nonnegative? false\n",
      "Basis:[3, 6, 7]\n",
      "\t x_B = [1.75, 1.25, -0.75]\n",
      "\t nonnegative? false\n",
      "Basis:[4, 5, 6]\n",
      "\t x_B = [4.0, 3.0, -17.0]\n",
      "\t nonnegative? false\n",
      "Basis:[4, 5, 7]\n",
      "\t x_B = [0.6, 6.4, 6.8]\n",
      "\t nonnegative? true\n",
      "\t obj = -3.0000000000000004\n",
      "Basis:[4, 6, 7]\n",
      "\t x_B = [7.0, -32.0, -6.0]\n",
      "\t nonnegative? false\n",
      "Basis:[5, 6, 7]\n",
      "\t x_B = [7.0, 3.0, 8.0]\n",
      "\t nonnegative? true\n",
      "\t obj = 0.0\n"
     ]
    },
    {
     "data": {
      "text/plain": [
       "([0.172414, 1.87931, 0.0, 0.155172, 0.0, 0.0, 0.0], -5.051724137931034)"
      ]
     },
     "execution_count": 24,
     "metadata": {},
     "output_type": "execute_result"
    }
   ],
   "source": [
    "c = [-3; -2; -1; -5; 0; 0; 0]\n",
    "A = [7 3 4 1 1 0 0 ;\n",
    "     2 1 1 5 0 1 0 ;\n",
    "     1 4 5 2 0 0 1 ]\n",
    "b = [7; 3; 8]\n",
    "opt_x, obj = searchBFS(c, A, b)"
   ]
  },
  {
   "cell_type": "markdown",
   "metadata": {},
   "source": [
    "### **2.** Using solvers to solve the LP problem"
   ]
  },
  {
   "cell_type": "code",
   "execution_count": 38,
   "metadata": {},
   "outputs": [
    {
     "name": "stderr",
     "output_type": "stream",
     "text": [
      "┌ Info: Precompiling JuMP [4076af6c-e467-56ae-b986-b466b2749572]\n",
      "└ @ Base loading.jl:1192\n"
     ]
    }
   ],
   "source": [
    "using JuMP, Clp"
   ]
  },
  {
   "cell_type": "code",
   "execution_count": 59,
   "metadata": {},
   "outputs": [
    {
     "data": {
      "text/plain": [
       "(:Optimal, -5.051724137931035, [0.172414, 1.87931, 0.0, 0.155172, 0.0, 0.0, 0.0])"
      ]
     },
     "execution_count": 59,
     "metadata": {},
     "output_type": "execute_result"
    }
   ],
   "source": [
    "Af = convert(Array{Float64}, A)\n",
    "cf = convert(Array{Float64}, c)\n",
    "bf = convert(Array{Float64}, b)\n",
    "\n",
    "sol = linprog(cf, Af, '=', bf, ClpSolver()) #Only works with Float instead of Int\n",
    "sol.status, sol.objval, sol.sol"
   ]
  },
  {
   "cell_type": "code",
   "execution_count": null,
   "metadata": {},
   "outputs": [],
   "source": []
  }
 ],
 "metadata": {
  "kernelspec": {
   "display_name": "Julia 1.0.5",
   "language": "julia",
   "name": "julia-1.0"
  },
  "language_info": {
   "file_extension": ".jl",
   "mimetype": "application/julia",
   "name": "julia",
   "version": "1.0.5"
  }
 },
 "nbformat": 4,
 "nbformat_minor": 4
}
