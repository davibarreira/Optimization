{
 "cells": [
  {
   "cell_type": "markdown",
   "metadata": {},
   "source": [
    "Notebook obtained from this [link](https://faculty.arts.ubc.ca/pschrimpf/526/julia/optimization.html). "
   ]
  },
  {
   "cell_type": "markdown",
   "metadata": {},
   "source": [
    "# Interior Point Method\n",
    "\n",
    "Interior point methods circumvent the problem of figuring out which constraints bind by approaching the optimum from the interior of the feasible set. To do this, the interior point method applies Newton’s method to a modified version of the first order condition. The unmodified first order conditions can be written \\begin{align*} 0 = & Df_x - \\lambda^T Dc_x \\\\ 0 = & \\lambda_i c_i(x) \\\\ \\lambda \\geq & 0 \\\\ c(x) \\geq & 0 \\end{align*}\n",
    "A difficulty with these conditions is that solving them can require guessing and checking which combinations of constraints bind and which do not. Interior point methods get around this problem by beginning with an interior \\(x\\) and ($\\lambda$) such that $(\\lambda>0)$ and\n",
    "$(c(x)>0)$. They are then updated by applying Newton’s method to the equations\n",
    "\\begin{align*} 0 = & Df_x - \\lambda^T Dc_x \\\\ \\mu = & \\lambda_i c_i(x) \\\\ \\end{align*}\n",
    "where there is now a ($\\mu$) in place of (0) in the second equation. \\(x\\) and $(\\lambda)$ are updated according to Newton’s method for this\n",
    "system of equations.\n",
    "In particular, $(x_{new} = x + \\Delta_x)$ and $(\\lambda_{new}= \\lambda + \\Delta_\\lambda)$, \n",
    "where \n",
    "\\begin{align*} \\begin{pmatrix} - ( Df_x - \\lambda^T Dc_x) \\\\ \\mu 1_m - diag(c(x)) \\lambda \\end{pmatrix} = \\begin{pmatrix} D^2 f_x - D^2 (\\lambda c)_x & -Dc_x^T \\\\ \\lambda Dc_x & diag(c(x)) \\end{pmatrix} \\begin{pmatrix} \\Delta_x \\\\ \\Delta_\\lambda \\end{pmatrix} \\end{align*}\n",
    "\n",
    "Over iterations \\(\\mu\\) is gradually decreased toward \\(0\\). Here is one simple implementation."
   ]
  },
  {
   "cell_type": "code",
   "execution_count": null,
   "metadata": {},
   "outputs": [],
   "source": []
  }
 ],
 "metadata": {
  "kernelspec": {
   "display_name": "Julia 1.0.5",
   "language": "julia",
   "name": "julia-1.0"
  },
  "language_info": {
   "file_extension": ".jl",
   "mimetype": "application/julia",
   "name": "julia",
   "version": "1.0.5"
  }
 },
 "nbformat": 4,
 "nbformat_minor": 4
}
