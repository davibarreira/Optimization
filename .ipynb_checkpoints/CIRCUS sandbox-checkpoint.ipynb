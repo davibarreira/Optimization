{
 "cells": [
  {
   "cell_type": "code",
   "execution_count": 124,
   "metadata": {},
   "outputs": [
    {
     "data": {
      "text/plain": [
       "Plots.PyPlotBackend()"
      ]
     },
     "execution_count": 124,
     "metadata": {},
     "output_type": "execute_result"
    }
   ],
   "source": [
    "using Plots, LinearAlgebra"
   ]
  },
  {
   "cell_type": "markdown",
   "metadata": {},
   "source": [
    "# CIRCUS\n",
    "This notebook is just for trying out some ideas for the final algorithm.\n",
    "Let's use as example the following case:\n",
    "$$\n",
    "\\begin{aligned}\n",
    "\\textrm{Maximize} \\quad & x_1 + x_2 \\\\\n",
    "\\textrm{Subject to} \\quad &\n",
    "        -x_1 + x_2  &\\leq 1\\\\\n",
    "\\quad & x_1        &\\leq 3\\\\\n",
    "\\quad & x_2         &\\leq 2\\\\\n",
    "\\quad & x_1,x_2     &\\geq 0\n",
    "\\end{aligned}\n",
    "$$\n",
    "\n",
    "We then put this in the standard form by adding slack variables:\n",
    "$$\n",
    "\\begin{aligned}\n",
    "\\textrm{Maximize} \\quad & x_1 + x_2 \\\\\n",
    "\\textrm{Subject to} \\quad &\n",
    "        -x_1 + x_2 + x_3  &= 1\\\\\n",
    "\\quad & x_1 + x_4        &= 3\\\\\n",
    "\\quad & x_2 + x_5         &= 2\\\\\n",
    "\\quad & x_1,x_2,x_3,x_4,x_5     &\\geq 0\n",
    "\\end{aligned}\n",
    "$$\n",
    "\n",
    "Therefore we have:\n",
    "$$\n",
    "\\begin{aligned}\n",
    "\\textrm{Maximize} \\quad & c^T {x} \\\\\n",
    "\\textrm{Subject to} \\quad & Ax = b \\\\\n",
    "\\quad & x\\geq 0\n",
    "\\end{aligned}\n",
    "$$"
   ]
  },
  {
   "cell_type": "markdown",
   "metadata": {},
   "source": [
    "First, we will implement the Simplex Method following the book \"Understanding and Using Linear Programming\"."
   ]
  },
  {
   "cell_type": "code",
   "execution_count": 354,
   "metadata": {},
   "outputs": [
    {
     "data": {
      "text/plain": [
       "true"
      ]
     },
     "execution_count": 354,
     "metadata": {},
     "output_type": "execute_result"
    }
   ],
   "source": [
    "size(A[:,1:2])[1] == size(A[:,1:2])[2]"
   ]
  },
  {
   "cell_type": "code",
   "execution_count": 441,
   "metadata": {},
   "outputs": [
    {
     "data": {
      "text/plain": [
       "SimplexFromBFS (generic function with 1 method)"
      ]
     },
     "execution_count": 441,
     "metadata": {},
     "output_type": "execute_result"
    }
   ],
   "source": [
    "A = [-1 1 1 0 0;\n",
    "      1 0 0 1 0;\n",
    "      0 1 0 0 1 ]\n",
    "c = [1,1,0,0,0]\n",
    "b = [1,3,2]\n",
    "# starting basic feasible point\n",
    "xo = [0,0,1,3,2];\n",
    "\n",
    "function SimplexFromBFS(c,A,b,initial_bfs;max_iterations=100,index_bfs=[0],index_nfs = [0])\n",
    "    # Initial setup\n",
    "    e  = 10^-5\n",
    "    B  = findall(xo .> 0+e)\n",
    "    N  = findall(xo .<= 0+e)\n",
    "    if size(A[:,B])[1] != size(A[:,B])[2]\n",
    "        B = index_bfs\n",
    "        N = index_nfs\n",
    "    end\n",
    "    xn = initial_bfs[N]; xb = initial_bfs[B];\n",
    "    \n",
    "    # Simplex pivoting iteration\n",
    "    for i = 1:max_iterations\n",
    "        Ab = A[:,B]; An = A[:,N]; cb = c[B]; cn = c[N]\n",
    "        p  = inv(Ab)*b\n",
    "        println(\"ok\")\n",
    "        Q  = -inv(Ab)*An\n",
    "        r  = (cb'*Q + cn')'\n",
    "        if all(r.<= 0)\n",
    "            x_final = vcat(hcat(B,p),hcat(N,zeros(length(N))))\n",
    "            x_final = x_final[sortperm(x_final[:,1]),:]\n",
    "            return x_final\n",
    "        end\n",
    "        zo = cb'*p\n",
    "#         z  = zo + r'*xn\n",
    "        index_in =findmax(r)[2]\n",
    "        x_in = N[index_in]\n",
    "        println(Q,index_in)\n",
    "        if any(Q[:,index_in] .< 0)\n",
    "        #     index_out = findmin(p./Q[:,index_in])[2]\n",
    "            coef_entering = -p./Q[:,index_in] \n",
    "        println(coef_entering)\n",
    "            q_neg_index   = findall(Q[:,index_in] .< 0)\n",
    "            index_out     =findfirst(coef_entering .== findmin(coef_entering[q_neg_index])[1])\n",
    "            x_out     = B[index_out]\n",
    "            B[index_out] = x_in\n",
    "            N[index_in]  = x_out\n",
    "        else\n",
    "            \n",
    "            error(\"Unbounded\")\n",
    "        end\n",
    "        println(x_in,\"   \",x_out)\n",
    "    end\n",
    "    x_final = vcat(hcat(B,p),hcat(N,zeros(length(N))))\n",
    "    x_final = x_final[sortperm(x_final[:,1]),:]\n",
    "    return x_final\n",
    "end\n"
   ]
  },
  {
   "cell_type": "code",
   "execution_count": 442,
   "metadata": {},
   "outputs": [
    {
     "name": "stdout",
     "output_type": "stream",
     "text": [
      "ok\n",
      "[1.0 -1.0; -1.0 0.0; 0.0 -1.0]1\n",
      "[-1.0, 3.0, -Inf]\n",
      "1   4\n",
      "ok\n",
      "[-1.0 -1.0; -1.0 0.0; 0.0 -1.0]2\n",
      "[4.0, -Inf, 2.0]\n",
      "2   5\n",
      "ok\n"
     ]
    },
    {
     "data": {
      "text/plain": [
       "5×2 Array{Float64,2}:\n",
       " 1.0  3.0\n",
       " 2.0  2.0\n",
       " 3.0  2.0\n",
       " 4.0  0.0\n",
       " 5.0  0.0"
      ]
     },
     "execution_count": 442,
     "metadata": {},
     "output_type": "execute_result"
    }
   ],
   "source": [
    "SimplexFromBFS(c,A,b,xo)"
   ]
  },
  {
   "cell_type": "code",
   "execution_count": 443,
   "metadata": {},
   "outputs": [
    {
     "name": "stdout",
     "output_type": "stream",
     "text": [
      "ok\n",
      "[1.0 -1.0; -1.0 -0.0]2\n",
      "[0.0, Inf]\n",
      "2   3\n",
      "ok\n",
      "[1.0 -1.0; -1.0 -0.0]1\n",
      "[-0.0, 2.0]\n",
      "1   4\n",
      "ok\n"
     ]
    },
    {
     "data": {
      "text/plain": [
       "4×2 Array{Float64,2}:\n",
       " 1.0  2.0\n",
       " 2.0  2.0\n",
       " 3.0  0.0\n",
       " 4.0  0.0"
      ]
     },
     "execution_count": 443,
     "metadata": {},
     "output_type": "execute_result"
    }
   ],
   "source": [
    "A = [-1 1 1 0 ;\n",
    "      1 0 0 1]\n",
    "c = [0,1,0,0]\n",
    "b = [0,2]\n",
    "# starting basic feasible point\n",
    "xo = [0,0,0,1];\n",
    "SimplexFromBFS(c,A,b,xo;max_iterations=10,index_bfs=[3,4],index_nfs=[1,2])"
   ]
  },
  {
   "cell_type": "code",
   "execution_count": null,
   "metadata": {},
   "outputs": [],
   "source": []
  }
 ],
 "metadata": {
  "kernelspec": {
   "display_name": "Julia 1.0.5",
   "language": "julia",
   "name": "julia-1.0"
  },
  "language_info": {
   "file_extension": ".jl",
   "mimetype": "application/julia",
   "name": "julia",
   "version": "1.0.5"
  }
 },
 "nbformat": 4,
 "nbformat_minor": 4
}
