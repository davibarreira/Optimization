{
 "cells": [
  {
   "cell_type": "markdown",
   "metadata": {},
   "source": [
    "# Tutorial Simplex\n",
    "This is based on this [link.](https://www.softcover.io/read/7b8eb7d0/juliabook/simplex)"
   ]
  },
  {
   "cell_type": "code",
   "execution_count": 48,
   "metadata": {},
   "outputs": [
    {
     "name": "stdout",
     "output_type": "stream",
     "text": [
      "\u001b[32m\u001b[1m Resolving\u001b[22m\u001b[39m package versions...\n",
      "\u001b[32m\u001b[1m  Updating\u001b[22m\u001b[39m `~/.julia/environments/v1.0/Project.toml`\n",
      "\u001b[90m [no changes]\u001b[39m\n",
      "\u001b[32m\u001b[1m  Updating\u001b[22m\u001b[39m `~/.julia/environments/v1.0/Manifest.toml`\n",
      "\u001b[90m [no changes]\u001b[39m\n",
      "\u001b[32m\u001b[1m Resolving\u001b[22m\u001b[39m package versions...\n",
      "\u001b[32m\u001b[1m  Updating\u001b[22m\u001b[39m `~/.julia/environments/v1.0/Project.toml`\n",
      "\u001b[90m [no changes]\u001b[39m\n",
      "\u001b[32m\u001b[1m  Updating\u001b[22m\u001b[39m `~/.julia/environments/v1.0/Manifest.toml`\n",
      "\u001b[90m [no changes]\u001b[39m\n",
      "\u001b[32m\u001b[1m Resolving\u001b[22m\u001b[39m package versions...\n",
      "\u001b[32m\u001b[1m  Updating\u001b[22m\u001b[39m `~/.julia/environments/v1.0/Project.toml`\n",
      "\u001b[90m [no changes]\u001b[39m\n",
      "\u001b[32m\u001b[1m  Updating\u001b[22m\u001b[39m `~/.julia/environments/v1.0/Manifest.toml`\n",
      "\u001b[90m [no changes]\u001b[39m\n",
      "\u001b[32m\u001b[1m Resolving\u001b[22m\u001b[39m package versions...\n",
      "\u001b[32m\u001b[1m  Updating\u001b[22m\u001b[39m `~/.julia/environments/v1.0/Project.toml`\n",
      "\u001b[90m [no changes]\u001b[39m\n",
      "\u001b[32m\u001b[1m  Updating\u001b[22m\u001b[39m `~/.julia/environments/v1.0/Manifest.toml`\n",
      "\u001b[90m [no changes]\u001b[39m\n",
      "\u001b[32m\u001b[1m Resolving\u001b[22m\u001b[39m package versions...\n",
      "\u001b[32m\u001b[1m  Updating\u001b[22m\u001b[39m `~/.julia/environments/v1.0/Project.toml`\n",
      "\u001b[90m [no changes]\u001b[39m\n",
      "\u001b[32m\u001b[1m  Updating\u001b[22m\u001b[39m `~/.julia/environments/v1.0/Manifest.toml`\n",
      "\u001b[90m [no changes]\u001b[39m\n"
     ]
    }
   ],
   "source": [
    "using Pkg\n",
    "Pkg.add(\"Clp\")\n",
    "Pkg.add(\"JuMP\")\n",
    "Pkg.add(\"Cbc\");\n",
    "Pkg.add(\"MathProgBase\");\n",
    "Pkg.add(\"Combinatorics\");\n",
    "using StatsPlots, Plots\n",
    "using Combinatorics, LinearAlgebra, Printf"
   ]
  },
  {
   "cell_type": "markdown",
   "metadata": {},
   "source": [
    "### **1.** Searching all Basic Feasible Solutions"
   ]
  },
  {
   "cell_type": "code",
   "execution_count": 49,
   "metadata": {},
   "outputs": [
    {
     "data": {
      "text/plain": [
       "searchBFS (generic function with 1 method)"
      ]
     },
     "execution_count": 49,
     "metadata": {},
     "output_type": "execute_result"
    }
   ],
   "source": [
    "function isnonnegative(x::Array{Float64, 1})\n",
    "  return length( x[ x .< 0] ) == 0\n",
    "end\n",
    "\n",
    "function searchBFS(c, A, b)\n",
    "  m, n = size(A)\n",
    "  @assert rank(A) == m\n",
    "\n",
    "  opt_x = zeros(n)\n",
    "  obj = Inf\n",
    "\n",
    "  for b_idx in combinations(1:n, m)\n",
    "    B = A[:, b_idx]\n",
    "    c_B = c[b_idx]\n",
    "    x_B = inv(B) * b\n",
    "\n",
    "    if isnonnegative(x_B)\n",
    "      z = dot(c_B, x_B)\n",
    "      if z < obj\n",
    "        obj = z\n",
    "        opt_x = zeros(n)\n",
    "        opt_x[b_idx] = x_B\n",
    "      end\n",
    "    end\n",
    "\n",
    "    println(\"Basis:\", b_idx)\n",
    "    println(\"\\t x_B = \", x_B)\n",
    "    println(\"\\t nonnegative? \", isnonnegative(x_B))\n",
    "    if isnonnegative(x_B)\n",
    "      println(\"\\t obj = \", dot(c_B, x_B))\n",
    "    end\n",
    "\n",
    "  end\n",
    "\n",
    "  return opt_x, obj\n",
    "end"
   ]
  },
  {
   "cell_type": "code",
   "execution_count": 50,
   "metadata": {},
   "outputs": [
    {
     "name": "stdout",
     "output_type": "stream",
     "text": [
      "Basis:[1, 2, 3]\n",
      "\t x_B = [0.25, 4.75, -2.25]\n",
      "\t nonnegative? false\n",
      "Basis:[1, 2, 4]\n",
      "\t x_B = [0.172414, 1.87931, 0.155172]\n",
      "\t nonnegative? true\n",
      "\t obj = -5.051724137931034\n",
      "Basis:[1, 2, 5]\n",
      "\t x_B = [0.571429, 1.85714, -2.57143]\n",
      "\t nonnegative? false\n",
      "Basis:[1, 2, 6]\n",
      "\t x_B = [0.16, 1.96, 0.72]\n",
      "\t nonnegative? true\n",
      "\t obj = -4.3999999999999995\n",
      "Basis:[1, 2, 7]\n",
      "\t x_B = [-2.0, 7.0, -18.0]\n",
      "\t nonnegative? false\n",
      "Basis:[1, 3, 4]\n",
      "\t x_B = [0.121622, 1.47297, 0.256757]\n",
      "\t nonnegative? true\n",
      "\t obj = -3.121621621621621\n",
      "Basis:[1, 3, 5]\n",
      "\t x_B = [0.777778, 1.44444, -4.22222]\n",
      "\t nonnegative? false\n",
      "Basis:[1, 3, 6]\n",
      "\t x_B = [0.0967742, 1.58065, 1.22581]\n",
      "\t nonnegative? true\n",
      "\t obj = -1.8709677419354835\n",
      "Basis:[1, 3, 7]\n",
      "\t x_B = [5.0, -7.0, 38.0]\n",
      "\t nonnegative? false\n",
      "Basis:[1, 4, 5]\n",
      "\t x_B = [34.0, -13.0, -218.0]\n",
      "\t nonnegative? false\n",
      "Basis:[1, 4, 6]\n",
      "\t x_B = [0.461538, 3.76923, -16.7692]\n",
      "\t nonnegative? false\n",
      "Basis:[1, 4, 7]\n",
      "\t x_B = [0.969697, 0.212121, 6.60606]\n",
      "\t nonnegative? true\n",
      "\t obj = -3.9696969696969693\n",
      "Basis:[1, 5, 6]\n",
      "\t x_B = [8.0, -49.0, -13.0]\n",
      "\t nonnegative? false\n",
      "Basis:[1, 5, 7]\n",
      "\t x_B = [1.5, -3.5, 6.5]\n",
      "\t nonnegative? false\n",
      "Basis:[1, 6, 7]\n",
      "\t x_B = [1.0, 1.0, 7.0]\n",
      "\t nonnegative? true\n",
      "\t obj = -3.0\n",
      "Basis:[2, 3, 4]\n",
      "\t x_B = [-4.5, 5.0, 0.5]\n",
      "\t nonnegative? false\n",
      "Basis:[2, 3, 5]\n",
      "\t x_B = [7.0, -4.0, 2.0]\n",
      "\t nonnegative? false\n",
      "Basis:[2, 3, 6]\n",
      "\t x_B = [-3.0, 4.0, 2.0]\n",
      "\t nonnegative? false\n",
      "Basis:[2, 3, 7]\n",
      "\t x_B = [5.0, -2.0, -2.0]\n",
      "\t nonnegative? false\n",
      "Basis:[2, 4, 5]\n",
      "\t x_B = [1.88889, 0.222222, 1.11111]\n",
      "\t nonnegative? true\n",
      "\t obj = -4.888888888888889\n",
      "Basis:[2, 4, 6]\n",
      "\t x_B = [3.0, -2.0, 10.0]\n",
      "\t nonnegative? false\n",
      "Basis:[2, 4, 7]\n",
      "\t x_B = [2.28571, 0.142857, -1.42857]\n",
      "\t nonnegative? false\n",
      "Basis:[2, 5, 6]\n",
      "\t x_B = [2.0, 1.0, 1.0]\n",
      "\t nonnegative? true\n",
      "\t obj = -4.0\n",
      "Basis:[2, 5, 7]\n",
      "\t x_B = [3.0, -2.0, -4.0]\n",
      "\t nonnegative? false\n",
      "Basis:[2, 6, 7]\n",
      "\t x_B = [2.33333, 0.666667, -1.33333]\n",
      "\t nonnegative? false\n",
      "Basis:[3, 4, 5]\n",
      "\t x_B = [1.47826, 0.304348, 0.782609]\n",
      "\t nonnegative? true\n",
      "\t obj = -3.0\n",
      "Basis:[3, 4, 6]\n",
      "\t x_B = [2.0, -1.0, 6.0]\n",
      "\t nonnegative? false\n",
      "Basis:[3, 4, 7]\n",
      "\t x_B = [1.68421, 0.263158, -0.947368]\n",
      "\t nonnegative? false\n",
      "Basis:[3, 5, 6]\n",
      "\t x_B = [1.6, 0.6, 1.4]\n",
      "\t nonnegative? true\n",
      "\t obj = -1.6\n",
      "Basis:[3, 5, 7]\n",
      "\t x_B = [3.0, -5.0, -7.0]\n",
      "\t nonnegative? false\n",
      "Basis:[3, 6, 7]\n",
      "\t x_B = [1.75, 1.25, -0.75]\n",
      "\t nonnegative? false\n",
      "Basis:[4, 5, 6]\n",
      "\t x_B = [4.0, 3.0, -17.0]\n",
      "\t nonnegative? false\n",
      "Basis:[4, 5, 7]\n",
      "\t x_B = [0.6, 6.4, 6.8]\n",
      "\t nonnegative? true\n",
      "\t obj = -3.0000000000000004\n",
      "Basis:[4, 6, 7]\n",
      "\t x_B = [7.0, -32.0, -6.0]\n",
      "\t nonnegative? false\n",
      "Basis:[5, 6, 7]\n",
      "\t x_B = [7.0, 3.0, 8.0]\n",
      "\t nonnegative? true\n",
      "\t obj = 0.0\n"
     ]
    },
    {
     "data": {
      "text/plain": [
       "([0.172414, 1.87931, 0.0, 0.155172, 0.0, 0.0, 0.0], -5.051724137931034)"
      ]
     },
     "execution_count": 50,
     "metadata": {},
     "output_type": "execute_result"
    }
   ],
   "source": [
    "c = [-3; -2; -1; -5; 0; 0; 0]\n",
    "A = [7 3 4 1 1 0 0 ;\n",
    "     2 1 1 5 0 1 0 ;\n",
    "     1 4 5 2 0 0 1 ]\n",
    "b = [7; 3; 8]\n",
    "opt_x, obj = searchBFS(c, A, b)"
   ]
  },
  {
   "cell_type": "markdown",
   "metadata": {},
   "source": [
    "### **2.** Using solvers to solve the LP problem"
   ]
  },
  {
   "cell_type": "code",
   "execution_count": 51,
   "metadata": {},
   "outputs": [],
   "source": [
    "using JuMP, Clp, MathProgBase"
   ]
  },
  {
   "cell_type": "code",
   "execution_count": 52,
   "metadata": {},
   "outputs": [
    {
     "data": {
      "text/plain": [
       "(:Optimal, -5.051724137931035, [0.172414, 1.87931, 0.0, 0.155172, 0.0, 0.0, 0.0])"
      ]
     },
     "execution_count": 52,
     "metadata": {},
     "output_type": "execute_result"
    }
   ],
   "source": [
    "Af = convert(Array{Float64}, A)\n",
    "cf = convert(Array{Float64}, c)\n",
    "bf = convert(Array{Float64}, b)\n",
    "\n",
    "sol = linprog(cf, Af, '=', bf, ClpSolver()) #Only works with Float instead of Int\n",
    "sol.status, sol.objval, sol.sol"
   ]
  },
  {
   "cell_type": "markdown",
   "metadata": {},
   "source": [
    "### **3.** Implementing the Simplex\n",
    "Note that this code is different from the original due to the use of a more recent Julia version."
   ]
  },
  {
   "cell_type": "code",
   "execution_count": 334,
   "metadata": {},
   "outputs": [
    {
     "data": {
      "text/plain": [
       "simplex_method (generic function with 1 method)"
      ]
     },
     "execution_count": 334,
     "metadata": {},
     "output_type": "execute_result"
    }
   ],
   "source": [
    "  mutable struct simplex_tableau\n",
    "    z_c     ::Array{Float64}\n",
    "    Y       ::Array{Float64}\n",
    "    x_B     ::Array{Float64}\n",
    "    obj     ::Float64\n",
    "    b_idx   ::Array{Int64}\n",
    "  end\n",
    "\n",
    "  function isnonnegative(x::Array{Float64})\n",
    "    return length( x[ x .< 0] ) == 0\n",
    "  end\n",
    "\n",
    "  function initial_BFS(A, b)\n",
    "    m, n = size(A)\n",
    "\n",
    "    comb = collect(combinations(1:n, m))\n",
    "    for i in length(comb):-1:1\n",
    "      b_idx = comb[i]\n",
    "      B = A[:, b_idx]\n",
    "      x_B = inv(B) * b\n",
    "      if isnonnegative(x_B)\n",
    "        return b_idx, x_B, B\n",
    "      end\n",
    "    end\n",
    "\n",
    "    error(\"Infeasible\")\n",
    "  end\n",
    "\n",
    "  function print_tableau(t::simplex_tableau)\n",
    "    m, n = size(t.Y)\n",
    "\n",
    "    hline0 = repeat(\"-\", 6)\n",
    "    hline1 = repeat(\"-\", 7*n)\n",
    "    hline2 = repeat(\"-\", 7)\n",
    "    hline = join([hline0, \"+\", hline1, \"+\", hline2])\n",
    "\n",
    "    println(hline)\n",
    "\n",
    "    @printf(\"%6s|\", \"\")\n",
    "    for j in 1:length(t.z_c)\n",
    "      @printf(\"%6.2f \", t.z_c[j])\n",
    "    end\n",
    "    @printf(\"| %6.2f\\n\", t.obj)\n",
    "\n",
    "    println(hline)\n",
    "\n",
    "    for i in 1:m\n",
    "      @printf(\"x[%2d] |\", t.b_idx[i])\n",
    "      for j in 1:n\n",
    "        @printf(\"%6.2f \", t.Y[i,j])\n",
    "      end\n",
    "      @printf(\"| %6.2f\\n\", t.x_B[i])\n",
    "    end\n",
    "\n",
    "    println(hline)\n",
    "  end\n",
    "\n",
    "  function pivoting!(t::simplex_tableau)\n",
    "    m, n = size(t.Y)\n",
    "\n",
    "    entering, exiting = pivot_point(t)\n",
    "    println(\"Pivoting: entering = x_$entering, exiting = x_$(t.b_idx[exiting])\")\n",
    "\n",
    "    # Pivoting: exiting-row, entering-column\n",
    "    # updating exiting-row\n",
    "    coef = t.Y[exiting, entering]\n",
    "    t.Y[exiting, :] /= coef\n",
    "    t.x_B[exiting] /= coef\n",
    "\n",
    "    # updating other rows of Y\n",
    "    for i in setdiff(1:m, exiting)\n",
    "      coef = t.Y[i, entering]\n",
    "      t.Y[i, :] -= coef * t.Y[exiting, :]\n",
    "      t.x_B[i] -= coef * t.x_B[exiting]\n",
    "    end\n",
    "\n",
    "    # updating the row for the reduced costs\n",
    "    coef = t.z_c[entering]\n",
    "    t.z_c .-= coef * t.Y[exiting, :]'\n",
    "    t.obj -= coef * t.x_B[exiting]\n",
    "\n",
    "    # Updating b_idx\n",
    "    t.b_idx[ findall(t.b_idx.==t.b_idx[exiting])[1] ] = entering\n",
    "  end\n",
    "\n",
    "  function pivot_point(t::simplex_tableau)\n",
    "    # Finding the entering variable index\n",
    "    entering_aux = findfirst(t.z_c .> 0) # Auxiliary variable\n",
    "    if entering_aux == nothing\n",
    "      error(\"Optimal\")\n",
    "    end\n",
    "    entering = entering_aux[2]\n",
    "\n",
    "    # min ratio test / finding the exiting variable index\n",
    "    pos_idx = findall( t.Y[:, entering] .> 0 )\n",
    "    if length(pos_idx) == 0\n",
    "      error(\"Unbounded\")\n",
    "    end\n",
    "    exiting = pos_idx[ argmin( t.x_B[pos_idx] ./ t.Y[pos_idx, entering] ) ]\n",
    "\n",
    "    return entering, exiting\n",
    "  end\n",
    "\n",
    "  function initialize(c, A, b)\n",
    "    c = Array{Float64}(c)\n",
    "    A = Array{Float64}(A)\n",
    "    b = Array{Float64}(b)\n",
    "\n",
    "    m, n = size(A)\n",
    "\n",
    "    # Finding an initial BFS\n",
    "    b_idx, x_B, B = initial_BFS(A,b)\n",
    "\n",
    "    Y = inv(B) * A\n",
    "    c_B = c[b_idx]\n",
    "    obj = dot(c_B, x_B)\n",
    "\n",
    "    # z_c is a row vector\n",
    "    z_c = zeros(1,n)\n",
    "    n_idx = setdiff(1:n, b_idx)\n",
    "    z_c[n_idx] = c_B' * inv(B) * A[:,n_idx] - c[n_idx]'\n",
    "\n",
    "    return simplex_tableau(z_c, Y, x_B, obj, b_idx)\n",
    "  end\n",
    "\n",
    "  function isOptimal(tableau)\n",
    "    return findfirst( tableau.z_c .> 0 ) == nothing\n",
    "  end\n",
    "\n",
    "  function simplex_method(c, A, b)\n",
    "    tableau = initialize(c, A, b)\n",
    "    print_tableau(tableau)\n",
    "\n",
    "    while !isOptimal(tableau)\n",
    "      pivoting!(tableau)\n",
    "      print_tableau(tableau)\n",
    "    end\n",
    "\n",
    "    opt_x = zeros(length(c))\n",
    "    opt_x[tableau.b_idx] = tableau.x_B\n",
    "\n",
    "    return opt_x, tableau.obj\n",
    "  end"
   ]
  },
  {
   "cell_type": "code",
   "execution_count": 335,
   "metadata": {},
   "outputs": [
    {
     "name": "stdout",
     "output_type": "stream",
     "text": [
      "------+-------------------------------------------------+-------\n",
      "      |  3.00   2.00   1.00   5.00   0.00   0.00   0.00 |   0.00\n",
      "------+-------------------------------------------------+-------\n",
      "x[ 5] |  7.00   3.00   4.00   1.00   1.00   0.00   0.00 |   7.00\n",
      "x[ 6] |  2.00   1.00   1.00   5.00   0.00   1.00   0.00 |   3.00\n",
      "x[ 7] |  1.00   4.00   5.00   2.00   0.00   0.00   1.00 |   8.00\n",
      "------+-------------------------------------------------+-------\n",
      "Pivoting: entering = x_1, exiting = x_5\n",
      "------+-------------------------------------------------+-------\n",
      "      |  0.00   0.71  -0.71   4.57  -0.43   0.00   0.00 |  -3.00\n",
      "------+-------------------------------------------------+-------\n",
      "x[ 1] |  1.00   0.43   0.57   0.14   0.14   0.00   0.00 |   1.00\n",
      "x[ 6] |  0.00   0.14  -0.14   4.71  -0.29   1.00   0.00 |   1.00\n",
      "x[ 7] |  0.00   3.57   4.43   1.86  -0.14   0.00   1.00 |   7.00\n",
      "------+-------------------------------------------------+-------\n",
      "Pivoting: entering = x_2, exiting = x_7\n",
      "------+-------------------------------------------------+-------\n",
      "      |  0.00   0.00  -1.60   4.20  -0.40   0.00  -0.20 |  -4.40\n",
      "------+-------------------------------------------------+-------\n",
      "x[ 1] |  1.00   0.00   0.04  -0.08   0.16   0.00  -0.12 |   0.16\n",
      "x[ 6] |  0.00   0.00  -0.32   4.64  -0.28   1.00  -0.04 |   0.72\n",
      "x[ 2] |  0.00   1.00   1.24   0.52  -0.04   0.00   0.28 |   1.96\n",
      "------+-------------------------------------------------+-------\n",
      "Pivoting: entering = x_4, exiting = x_6\n",
      "------+-------------------------------------------------+-------\n",
      "      |  0.00   0.00  -1.31   0.00  -0.15  -0.91  -0.16 |  -5.05\n",
      "------+-------------------------------------------------+-------\n",
      "x[ 1] |  1.00   0.00   0.03   0.00   0.16   0.02  -0.12 |   0.17\n",
      "x[ 4] |  0.00   0.00  -0.07   1.00  -0.06   0.22  -0.01 |   0.16\n",
      "x[ 2] |  0.00   1.00   1.28   0.00  -0.01  -0.11   0.28 |   1.88\n",
      "------+-------------------------------------------------+-------\n"
     ]
    },
    {
     "data": {
      "text/plain": [
       "([0.172414, 1.87931, 0.0, 0.155172, 0.0, 0.0, 0.0], -5.051724137931035)"
      ]
     },
     "execution_count": 335,
     "metadata": {},
     "output_type": "execute_result"
    }
   ],
   "source": [
    "c = [-3; -2; -1; -5; 0; 0; 0]\n",
    "A = [7 3 4 1 1 0 0 ;\n",
    "     2 1 1 5 0 1 0 ;\n",
    "     1 4 5 2 0 0 1 ]\n",
    "b = [7; 3; 8]\n",
    "# include(\"simplex_method.jl\")\n",
    "# using SimplexMethod\n",
    "\n",
    "Results = simplex_method(c, A, b)"
   ]
  },
  {
   "cell_type": "code",
   "execution_count": 336,
   "metadata": {},
   "outputs": [
    {
     "data": {
      "text/plain": [
       "([0.172414, 1.87931, 0.0, 0.155172, 0.0, 0.0, 0.0], -5.051724137931035)"
      ]
     },
     "execution_count": 336,
     "metadata": {},
     "output_type": "execute_result"
    }
   ],
   "source": [
    "Results"
   ]
  }
 ],
 "metadata": {
  "kernelspec": {
   "display_name": "Julia 1.0.5",
   "language": "julia",
   "name": "julia-1.0"
  },
  "language_info": {
   "file_extension": ".jl",
   "mimetype": "application/julia",
   "name": "julia",
   "version": "1.0.5"
  }
 },
 "nbformat": 4,
 "nbformat_minor": 4
}
