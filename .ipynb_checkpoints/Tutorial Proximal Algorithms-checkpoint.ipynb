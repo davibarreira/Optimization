{
 "cells": [
  {
   "cell_type": "markdown",
   "metadata": {},
   "source": [
    "# Tutorial - Proximal Algorithms\n",
    "Tutorial on using proximal algorithms for solving optimization problem."
   ]
  },
  {
   "cell_type": "code",
   "execution_count": 10,
   "metadata": {},
   "outputs": [
    {
     "name": "stdout",
     "output_type": "stream",
     "text": [
      "\u001b[32m\u001b[1m Resolving\u001b[22m\u001b[39m package versions...\n",
      "\u001b[32m\u001b[1m  Updating\u001b[22m\u001b[39m `~/.julia/environments/v1.0/Project.toml`\n",
      "\u001b[90m [no changes]\u001b[39m\n",
      "\u001b[32m\u001b[1m  Updating\u001b[22m\u001b[39m `~/.julia/environments/v1.0/Manifest.toml`\n",
      "\u001b[90m [no changes]\u001b[39m\n"
     ]
    }
   ],
   "source": [
    "using Pkg\n",
    "Pkg.add(\"ProximalOperators\");"
   ]
  },
  {
   "cell_type": "code",
   "execution_count": 11,
   "metadata": {},
   "outputs": [],
   "source": [
    "using Distributions, StatsPlots, Plots, StatsBase, LinearAlgebra\n",
    "using ProximalOperators;"
   ]
  },
  {
   "cell_type": "markdown",
   "metadata": {},
   "source": [
    "The proximal operator is\n",
    "$$prox_{\\lambda f}(x) = argmin_y \\{\n",
    "f(y) + \\frac{1}{2\\lambda} ||{y-x}||^2\n",
    "\\}$$\n",
    "\n",
    "Hence, for each function $f$, the proximal operator will represent something different. For example, let\n",
    "$f$ is and indicator function $\\mathbb 1_C$, where it equals 0 if $x \\in C$, else it is $+\\infty$. Then,\n",
    "$prox_f(x)$ is equal to the projection of $x$ in $C$."
   ]
  },
  {
   "cell_type": "markdown",
   "metadata": {},
   "source": [
    "#### **Example 1.**\n",
    "Let $f$ be the L1 norm."
   ]
  },
  {
   "cell_type": "code",
   "execution_count": 67,
   "metadata": {},
   "outputs": [
    {
     "data": {
      "text/plain": [
       "description : weighted L1 norm\n",
       "domain      : AbstractArray{Real}, AbstractArray{Complex}\n",
       "expression  : x ↦ λ||x||_1\n",
       "parameters  : λ = 3.5"
      ]
     },
     "execution_count": 67,
     "metadata": {},
     "output_type": "execute_result"
    }
   ],
   "source": [
    "f = NormL1(3.5)"
   ]
  },
  {
   "cell_type": "code",
   "execution_count": 68,
   "metadata": {},
   "outputs": [
    {
     "data": {
      "text/plain": [
       "([0.0, 0.0, 0.0, 0.5, 1.5], 7.0)"
      ]
     },
     "execution_count": 68,
     "metadata": {},
     "output_type": "execute_result"
    }
   ],
   "source": [
    "x = [1.0, 2.0, 3.0, 4.0, 5.0]\n",
    "f(x)\n",
    "y, fy = prox(f, x, 1.0) "
   ]
  },
  {
   "cell_type": "markdown",
   "metadata": {},
   "source": [
    "#### **Example 2.**\n",
    "Let $f$ be $\\mathbb 1_C$."
   ]
  },
  {
   "cell_type": "code",
   "execution_count": 141,
   "metadata": {},
   "outputs": [
    {
     "data": {
      "text/plain": [
       "description : Translation\n",
       "domain      : AbstractArray{Real}, AbstractArray{Complex}\n",
       "expression  : x ↦ f(x + b)\n",
       "parameters  : n/a"
      ]
     },
     "execution_count": 141,
     "metadata": {},
     "output_type": "execute_result"
    }
   ],
   "source": [
    "f = IndBallL2(2.0)\n",
    "\n",
    "x = [2.0, 2.5]\n",
    "b = [2.0, 0.0]\n",
    "ft = Translate(f, -b)"
   ]
  },
  {
   "cell_type": "code",
   "execution_count": 142,
   "metadata": {},
   "outputs": [
    {
     "data": {
      "text/plain": [
       "Inf"
      ]
     },
     "execution_count": 142,
     "metadata": {},
     "output_type": "execute_result"
    }
   ],
   "source": [
    "ft(x)"
   ]
  },
  {
   "cell_type": "code",
   "execution_count": 189,
   "metadata": {},
   "outputs": [
    {
     "data": {
      "image/svg+xml": [
       "<?xml version=\"1.0\" encoding=\"utf-8\"?>\n",
       "<svg xmlns=\"http://www.w3.org/2000/svg\" xmlns:xlink=\"http://www.w3.org/1999/xlink\" width=\"600\" height=\"400\" viewBox=\"0 0 2400 1600\">\n",
       "<defs>\n",
       "  <clipPath id=\"clip8700\">\n",
       "    <rect x=\"0\" y=\"0\" width=\"2400\" height=\"1600\"/>\n",
       "  </clipPath>\n",
       "</defs>\n",
       "<path clip-path=\"url(#clip8700)\" d=\"\n",
       "M0 1600 L2400 1600 L2400 0 L0 0  Z\n",
       "  \" fill=\"#ffffff\" fill-rule=\"evenodd\" fill-opacity=\"1\"/>\n",
       "<defs>\n",
       "  <clipPath id=\"clip8701\">\n",
       "    <rect x=\"480\" y=\"0\" width=\"1681\" height=\"1600\"/>\n",
       "  </clipPath>\n",
       "</defs>\n",
       "<path clip-path=\"url(#clip8700)\" d=\"\n",
       "M141.865 1487.47 L2352.76 1487.47 L2352.76 47.2441 L141.865 47.2441  Z\n",
       "  \" fill=\"#ffffff\" fill-rule=\"evenodd\" fill-opacity=\"1\"/>\n",
       "<defs>\n",
       "  <clipPath id=\"clip8702\">\n",
       "    <rect x=\"141\" y=\"47\" width=\"2212\" height=\"1441\"/>\n",
       "  </clipPath>\n",
       "</defs>\n",
       "<polyline clip-path=\"url(#clip8702)\" style=\"stroke:#000000; stroke-width:2; stroke-opacity:0.1; fill:none\" points=\"\n",
       "  141.865,1487.47 141.865,47.2441 \n",
       "  \"/>\n",
       "<polyline clip-path=\"url(#clip8702)\" style=\"stroke:#000000; stroke-width:2; stroke-opacity:0.1; fill:none\" points=\"\n",
       "  694.587,1487.47 694.587,47.2441 \n",
       "  \"/>\n",
       "<polyline clip-path=\"url(#clip8702)\" style=\"stroke:#000000; stroke-width:2; stroke-opacity:0.1; fill:none\" points=\"\n",
       "  1247.31,1487.47 1247.31,47.2441 \n",
       "  \"/>\n",
       "<polyline clip-path=\"url(#clip8702)\" style=\"stroke:#000000; stroke-width:2; stroke-opacity:0.1; fill:none\" points=\"\n",
       "  1800.03,1487.47 1800.03,47.2441 \n",
       "  \"/>\n",
       "<polyline clip-path=\"url(#clip8702)\" style=\"stroke:#000000; stroke-width:2; stroke-opacity:0.1; fill:none\" points=\"\n",
       "  2352.76,1487.47 2352.76,47.2441 \n",
       "  \"/>\n",
       "<polyline clip-path=\"url(#clip8702)\" style=\"stroke:#000000; stroke-width:2; stroke-opacity:0.1; fill:none\" points=\"\n",
       "  141.865,1487.47 2352.76,1487.47 \n",
       "  \"/>\n",
       "<polyline clip-path=\"url(#clip8702)\" style=\"stroke:#000000; stroke-width:2; stroke-opacity:0.1; fill:none\" points=\"\n",
       "  141.865,1247.44 2352.76,1247.44 \n",
       "  \"/>\n",
       "<polyline clip-path=\"url(#clip8702)\" style=\"stroke:#000000; stroke-width:2; stroke-opacity:0.1; fill:none\" points=\"\n",
       "  141.865,1007.4 2352.76,1007.4 \n",
       "  \"/>\n",
       "<polyline clip-path=\"url(#clip8702)\" style=\"stroke:#000000; stroke-width:2; stroke-opacity:0.1; fill:none\" points=\"\n",
       "  141.865,767.359 2352.76,767.359 \n",
       "  \"/>\n",
       "<polyline clip-path=\"url(#clip8702)\" style=\"stroke:#000000; stroke-width:2; stroke-opacity:0.1; fill:none\" points=\"\n",
       "  141.865,527.321 2352.76,527.321 \n",
       "  \"/>\n",
       "<polyline clip-path=\"url(#clip8702)\" style=\"stroke:#000000; stroke-width:2; stroke-opacity:0.1; fill:none\" points=\"\n",
       "  141.865,287.283 2352.76,287.283 \n",
       "  \"/>\n",
       "<polyline clip-path=\"url(#clip8702)\" style=\"stroke:#000000; stroke-width:2; stroke-opacity:0.1; fill:none\" points=\"\n",
       "  141.865,47.2441 2352.76,47.2441 \n",
       "  \"/>\n",
       "<polyline clip-path=\"url(#clip8700)\" style=\"stroke:#000000; stroke-width:4; stroke-opacity:1; fill:none\" points=\"\n",
       "  141.865,1487.47 2352.76,1487.47 \n",
       "  \"/>\n",
       "<polyline clip-path=\"url(#clip8700)\" style=\"stroke:#000000; stroke-width:4; stroke-opacity:1; fill:none\" points=\"\n",
       "  141.865,1487.47 141.865,47.2441 \n",
       "  \"/>\n",
       "<polyline clip-path=\"url(#clip8700)\" style=\"stroke:#000000; stroke-width:4; stroke-opacity:1; fill:none\" points=\"\n",
       "  141.865,1487.47 141.865,1465.87 \n",
       "  \"/>\n",
       "<polyline clip-path=\"url(#clip8700)\" style=\"stroke:#000000; stroke-width:4; stroke-opacity:1; fill:none\" points=\"\n",
       "  694.587,1487.47 694.587,1465.87 \n",
       "  \"/>\n",
       "<polyline clip-path=\"url(#clip8700)\" style=\"stroke:#000000; stroke-width:4; stroke-opacity:1; fill:none\" points=\"\n",
       "  1247.31,1487.47 1247.31,1465.87 \n",
       "  \"/>\n",
       "<polyline clip-path=\"url(#clip8700)\" style=\"stroke:#000000; stroke-width:4; stroke-opacity:1; fill:none\" points=\"\n",
       "  1800.03,1487.47 1800.03,1465.87 \n",
       "  \"/>\n",
       "<polyline clip-path=\"url(#clip8700)\" style=\"stroke:#000000; stroke-width:4; stroke-opacity:1; fill:none\" points=\"\n",
       "  2352.76,1487.47 2352.76,1465.87 \n",
       "  \"/>\n",
       "<polyline clip-path=\"url(#clip8700)\" style=\"stroke:#000000; stroke-width:4; stroke-opacity:1; fill:none\" points=\"\n",
       "  141.865,1487.47 175.028,1487.47 \n",
       "  \"/>\n",
       "<polyline clip-path=\"url(#clip8700)\" style=\"stroke:#000000; stroke-width:4; stroke-opacity:1; fill:none\" points=\"\n",
       "  141.865,1247.44 175.028,1247.44 \n",
       "  \"/>\n",
       "<polyline clip-path=\"url(#clip8700)\" style=\"stroke:#000000; stroke-width:4; stroke-opacity:1; fill:none\" points=\"\n",
       "  141.865,1007.4 175.028,1007.4 \n",
       "  \"/>\n",
       "<polyline clip-path=\"url(#clip8700)\" style=\"stroke:#000000; stroke-width:4; stroke-opacity:1; fill:none\" points=\"\n",
       "  141.865,767.359 175.028,767.359 \n",
       "  \"/>\n",
       "<polyline clip-path=\"url(#clip8700)\" style=\"stroke:#000000; stroke-width:4; stroke-opacity:1; fill:none\" points=\"\n",
       "  141.865,527.321 175.028,527.321 \n",
       "  \"/>\n",
       "<polyline clip-path=\"url(#clip8700)\" style=\"stroke:#000000; stroke-width:4; stroke-opacity:1; fill:none\" points=\"\n",
       "  141.865,287.283 175.028,287.283 \n",
       "  \"/>\n",
       "<polyline clip-path=\"url(#clip8700)\" style=\"stroke:#000000; stroke-width:4; stroke-opacity:1; fill:none\" points=\"\n",
       "  141.865,47.2441 175.028,47.2441 \n",
       "  \"/>\n",
       "<g clip-path=\"url(#clip8700)\">\n",
       "<text style=\"fill:#000000; fill-opacity:1; font-family:Arial,Helvetica Neue,Helvetica,sans-serif; font-size:48px; text-anchor:middle;\" transform=\"rotate(0, 141.865, 1541.47)\" x=\"141.865\" y=\"1541.47\">0</text>\n",
       "</g>\n",
       "<g clip-path=\"url(#clip8700)\">\n",
       "<text style=\"fill:#000000; fill-opacity:1; font-family:Arial,Helvetica Neue,Helvetica,sans-serif; font-size:48px; text-anchor:middle;\" transform=\"rotate(0, 694.587, 1541.47)\" x=\"694.587\" y=\"1541.47\">2</text>\n",
       "</g>\n",
       "<g clip-path=\"url(#clip8700)\">\n",
       "<text style=\"fill:#000000; fill-opacity:1; font-family:Arial,Helvetica Neue,Helvetica,sans-serif; font-size:48px; text-anchor:middle;\" transform=\"rotate(0, 1247.31, 1541.47)\" x=\"1247.31\" y=\"1541.47\">4</text>\n",
       "</g>\n",
       "<g clip-path=\"url(#clip8700)\">\n",
       "<text style=\"fill:#000000; fill-opacity:1; font-family:Arial,Helvetica Neue,Helvetica,sans-serif; font-size:48px; text-anchor:middle;\" transform=\"rotate(0, 1800.03, 1541.47)\" x=\"1800.03\" y=\"1541.47\">6</text>\n",
       "</g>\n",
       "<g clip-path=\"url(#clip8700)\">\n",
       "<text style=\"fill:#000000; fill-opacity:1; font-family:Arial,Helvetica Neue,Helvetica,sans-serif; font-size:48px; text-anchor:middle;\" transform=\"rotate(0, 2352.76, 1541.47)\" x=\"2352.76\" y=\"1541.47\">8</text>\n",
       "</g>\n",
       "<g clip-path=\"url(#clip8700)\">\n",
       "<text style=\"fill:#000000; fill-opacity:1; font-family:Arial,Helvetica Neue,Helvetica,sans-serif; font-size:48px; text-anchor:end;\" transform=\"rotate(0, 117.865, 1504.97)\" x=\"117.865\" y=\"1504.97\">-3</text>\n",
       "</g>\n",
       "<g clip-path=\"url(#clip8700)\">\n",
       "<text style=\"fill:#000000; fill-opacity:1; font-family:Arial,Helvetica Neue,Helvetica,sans-serif; font-size:48px; text-anchor:end;\" transform=\"rotate(0, 117.865, 1264.94)\" x=\"117.865\" y=\"1264.94\">-2</text>\n",
       "</g>\n",
       "<g clip-path=\"url(#clip8700)\">\n",
       "<text style=\"fill:#000000; fill-opacity:1; font-family:Arial,Helvetica Neue,Helvetica,sans-serif; font-size:48px; text-anchor:end;\" transform=\"rotate(0, 117.865, 1024.9)\" x=\"117.865\" y=\"1024.9\">-1</text>\n",
       "</g>\n",
       "<g clip-path=\"url(#clip8700)\">\n",
       "<text style=\"fill:#000000; fill-opacity:1; font-family:Arial,Helvetica Neue,Helvetica,sans-serif; font-size:48px; text-anchor:end;\" transform=\"rotate(0, 117.865, 784.859)\" x=\"117.865\" y=\"784.859\">0</text>\n",
       "</g>\n",
       "<g clip-path=\"url(#clip8700)\">\n",
       "<text style=\"fill:#000000; fill-opacity:1; font-family:Arial,Helvetica Neue,Helvetica,sans-serif; font-size:48px; text-anchor:end;\" transform=\"rotate(0, 117.865, 544.821)\" x=\"117.865\" y=\"544.821\">1</text>\n",
       "</g>\n",
       "<g clip-path=\"url(#clip8700)\">\n",
       "<text style=\"fill:#000000; fill-opacity:1; font-family:Arial,Helvetica Neue,Helvetica,sans-serif; font-size:48px; text-anchor:end;\" transform=\"rotate(0, 117.865, 304.783)\" x=\"117.865\" y=\"304.783\">2</text>\n",
       "</g>\n",
       "<g clip-path=\"url(#clip8700)\">\n",
       "<text style=\"fill:#000000; fill-opacity:1; font-family:Arial,Helvetica Neue,Helvetica,sans-serif; font-size:48px; text-anchor:end;\" transform=\"rotate(0, 117.865, 64.7441)\" x=\"117.865\" y=\"64.7441\">3</text>\n",
       "</g>\n",
       "<path clip-path=\"url(#clip8702)\" d=\"\n",
       "M1247.31 767.359 L1247.03 752.204 L1246.21 737.064 L1244.83 721.954 L1242.91 706.889 L1240.44 691.885 L1237.42 676.955 L1233.87 662.116 L1229.77 647.382 L1225.14 632.767 \n",
       "  L1219.99 618.287 L1214.31 603.955 L1208.11 589.786 L1201.4 575.794 L1194.18 561.993 L1186.47 548.397 L1178.27 535.019 L1169.58 521.872 L1160.42 508.971 L1150.8 496.326 \n",
       "  L1140.72 483.952 L1130.2 471.861 L1119.24 460.064 L1107.86 448.573 L1096.07 437.401 L1083.88 426.557 L1071.3 416.052 L1058.34 405.898 L1045.02 396.105 L1031.35 386.681 \n",
       "  L1017.35 377.637 L1003.02 368.981 L988.39 360.723 L973.464 352.87 L958.26 345.43 L942.793 338.41 L927.079 331.818 L911.133 325.66 L894.972 319.943 L878.61 314.672 \n",
       "  L862.065 309.851 L845.353 305.487 L828.491 301.584 L811.496 298.144 L794.384 295.173 L777.172 292.672 L759.878 290.644 L742.519 289.091 L725.112 288.015 L707.675 287.417 \n",
       "  L690.225 287.297 L672.779 287.656 L655.354 288.493 L637.969 289.808 L620.641 291.598 L603.386 293.863 L586.222 296.6 L569.166 299.806 L552.235 303.478 L535.446 307.612 \n",
       "  L518.815 312.205 L502.36 317.251 L486.096 322.746 L470.041 328.685 L454.209 335.06 L438.616 341.867 L423.279 349.097 L408.212 356.745 L393.431 364.802 L378.95 373.26 \n",
       "  L364.783 382.111 L350.946 391.346 L337.451 400.956 L324.312 410.931 L311.541 421.261 L299.153 431.937 L287.159 442.947 L275.571 454.28 L264.401 465.925 L253.66 477.871 \n",
       "  L243.358 490.105 L233.506 502.615 L224.113 515.39 L215.19 528.416 L206.744 541.68 L198.785 555.168 L191.32 568.869 L184.356 582.767 L177.902 596.849 L171.962 611.101 \n",
       "  L166.543 625.509 L161.651 640.059 L157.289 654.735 L153.464 669.524 L150.178 684.41 L147.434 699.378 L145.236 714.415 L143.586 729.504 L142.484 744.631 L141.933 759.781 \n",
       "  L141.933 774.938 L142.484 790.088 L143.586 805.215 L145.236 820.304 L147.434 835.34 L150.178 850.309 L153.464 865.195 L157.289 879.984 L161.651 894.66 L166.543 909.209 \n",
       "  L171.962 923.617 L177.902 937.87 L184.356 951.952 L191.32 965.85 L198.785 979.55 L206.744 993.039 L215.19 1006.3 L224.113 1019.33 L233.506 1032.1 L243.358 1044.61 \n",
       "  L253.66 1056.85 L264.401 1068.79 L275.571 1080.44 L287.159 1091.77 L299.153 1102.78 L311.541 1113.46 L324.312 1123.79 L337.451 1133.76 L350.946 1143.37 L364.783 1152.61 \n",
       "  L378.95 1161.46 L393.431 1169.92 L408.212 1177.97 L423.279 1185.62 L438.616 1192.85 L454.209 1199.66 L470.041 1206.03 L486.096 1211.97 L502.36 1217.47 L518.815 1222.51 \n",
       "  L535.446 1227.11 L552.235 1231.24 L569.166 1234.91 L586.222 1238.12 L603.386 1240.86 L620.641 1243.12 L637.969 1244.91 L655.354 1246.23 L672.779 1247.06 L690.225 1247.42 \n",
       "  L707.675 1247.3 L725.112 1246.7 L742.519 1245.63 L759.878 1244.08 L777.172 1242.05 L794.384 1239.55 L811.496 1236.57 L828.491 1233.14 L845.353 1229.23 L862.065 1224.87 \n",
       "  L878.61 1220.05 L894.972 1214.78 L911.133 1209.06 L927.079 1202.9 L942.793 1196.31 L958.26 1189.29 L973.464 1181.85 L988.39 1174 L1003.02 1165.74 L1017.35 1157.08 \n",
       "  L1031.35 1148.04 L1045.02 1138.61 L1058.34 1128.82 L1071.3 1118.67 L1083.88 1108.16 L1096.07 1097.32 L1107.86 1086.15 L1119.24 1074.65 L1130.2 1062.86 L1140.72 1050.77 \n",
       "  L1150.8 1038.39 L1160.42 1025.75 L1169.58 1012.85 L1178.27 999.7 L1186.47 986.322 L1194.18 972.726 L1201.4 958.925 L1208.11 944.933 L1214.31 930.764 L1219.99 916.432 \n",
       "  L1225.14 901.951 L1229.77 887.337 L1233.87 872.603 L1237.42 857.763 L1240.44 842.834 L1242.91 827.83 L1244.83 812.765 L1246.21 797.655 L1247.03 782.515 L1247.31 767.359 \n",
       "  L1247.31 767.359 L1247.03 767.359 L1246.21 767.359 L1244.83 767.359 L1242.91 767.359 L1240.44 767.359 L1237.42 767.359 L1233.87 767.359 L1229.77 767.359 L1225.14 767.359 \n",
       "  L1219.99 767.359 L1214.31 767.359 L1208.11 767.359 L1201.4 767.359 L1194.18 767.359 L1186.47 767.359 L1178.27 767.359 L1169.58 767.359 L1160.42 767.359 L1150.8 767.359 \n",
       "  L1140.72 767.359 L1130.2 767.359 L1119.24 767.359 L1107.86 767.359 L1096.07 767.359 L1083.88 767.359 L1071.3 767.359 L1058.34 767.359 L1045.02 767.359 L1031.35 767.359 \n",
       "  L1017.35 767.359 L1003.02 767.359 L988.39 767.359 L973.464 767.359 L958.26 767.359 L942.793 767.359 L927.079 767.359 L911.133 767.359 L894.972 767.359 L878.61 767.359 \n",
       "  L862.065 767.359 L845.353 767.359 L828.491 767.359 L811.496 767.359 L794.384 767.359 L777.172 767.359 L759.878 767.359 L742.519 767.359 L725.112 767.359 L707.675 767.359 \n",
       "  L690.225 767.359 L672.779 767.359 L655.354 767.359 L637.969 767.359 L620.641 767.359 L603.386 767.359 L586.222 767.359 L569.166 767.359 L552.235 767.359 L535.446 767.359 \n",
       "  L518.815 767.359 L502.36 767.359 L486.096 767.359 L470.041 767.359 L454.209 767.359 L438.616 767.359 L423.279 767.359 L408.212 767.359 L393.431 767.359 L378.95 767.359 \n",
       "  L364.783 767.359 L350.946 767.359 L337.451 767.359 L324.312 767.359 L311.541 767.359 L299.153 767.359 L287.159 767.359 L275.571 767.359 L264.401 767.359 L253.66 767.359 \n",
       "  L243.358 767.359 L233.506 767.359 L224.113 767.359 L215.19 767.359 L206.744 767.359 L198.785 767.359 L191.32 767.359 L184.356 767.359 L177.902 767.359 L171.962 767.359 \n",
       "  L166.543 767.359 L161.651 767.359 L157.289 767.359 L153.464 767.359 L150.178 767.359 L147.434 767.359 L145.236 767.359 L143.586 767.359 L142.484 767.359 L141.933 767.359 \n",
       "  L141.933 767.359 L142.484 767.359 L143.586 767.359 L145.236 767.359 L147.434 767.359 L150.178 767.359 L153.464 767.359 L157.289 767.359 L161.651 767.359 L166.543 767.359 \n",
       "  L171.962 767.359 L177.902 767.359 L184.356 767.359 L191.32 767.359 L198.785 767.359 L206.744 767.359 L215.19 767.359 L224.113 767.359 L233.506 767.359 L243.358 767.359 \n",
       "  L253.66 767.359 L264.401 767.359 L275.571 767.359 L287.159 767.359 L299.153 767.359 L311.541 767.359 L324.312 767.359 L337.451 767.359 L350.946 767.359 L364.783 767.359 \n",
       "  L378.95 767.359 L393.431 767.359 L408.212 767.359 L423.279 767.359 L438.616 767.359 L454.209 767.359 L470.041 767.359 L486.096 767.359 L502.36 767.359 L518.815 767.359 \n",
       "  L535.446 767.359 L552.235 767.359 L569.166 767.359 L586.222 767.359 L603.386 767.359 L620.641 767.359 L637.969 767.359 L655.354 767.359 L672.779 767.359 L690.225 767.359 \n",
       "  L707.675 767.359 L725.112 767.359 L742.519 767.359 L759.878 767.359 L777.172 767.359 L794.384 767.359 L811.496 767.359 L828.491 767.359 L845.353 767.359 L862.065 767.359 \n",
       "  L878.61 767.359 L894.972 767.359 L911.133 767.359 L927.079 767.359 L942.793 767.359 L958.26 767.359 L973.464 767.359 L988.39 767.359 L1003.02 767.359 L1017.35 767.359 \n",
       "  L1031.35 767.359 L1045.02 767.359 L1058.34 767.359 L1071.3 767.359 L1083.88 767.359 L1096.07 767.359 L1107.86 767.359 L1119.24 767.359 L1130.2 767.359 L1140.72 767.359 \n",
       "  L1150.8 767.359 L1160.42 767.359 L1169.58 767.359 L1178.27 767.359 L1186.47 767.359 L1194.18 767.359 L1201.4 767.359 L1208.11 767.359 L1214.31 767.359 L1219.99 767.359 \n",
       "  L1225.14 767.359 L1229.77 767.359 L1233.87 767.359 L1237.42 767.359 L1240.44 767.359 L1242.91 767.359 L1244.83 767.359 L1246.21 767.359 L1247.03 767.359 L1247.31 767.359 \n",
       "   Z\n",
       "  \" fill=\"#0000ff\" fill-rule=\"evenodd\" fill-opacity=\"0.5\"/>\n",
       "<polyline clip-path=\"url(#clip8702)\" style=\"stroke:#009af9; stroke-width:4; stroke-opacity:0.5; fill:none\" points=\"\n",
       "  1247.31,767.359 1247.03,752.204 1246.21,737.064 1244.83,721.954 1242.91,706.889 1240.44,691.885 1237.42,676.955 1233.87,662.116 1229.77,647.382 1225.14,632.767 \n",
       "  1219.99,618.287 1214.31,603.955 1208.11,589.786 1201.4,575.794 1194.18,561.993 1186.47,548.397 1178.27,535.019 1169.58,521.872 1160.42,508.971 1150.8,496.326 \n",
       "  1140.72,483.952 1130.2,471.861 1119.24,460.064 1107.86,448.573 1096.07,437.401 1083.88,426.557 1071.3,416.052 1058.34,405.898 1045.02,396.105 1031.35,386.681 \n",
       "  1017.35,377.637 1003.02,368.981 988.39,360.723 973.464,352.87 958.26,345.43 942.793,338.41 927.079,331.818 911.133,325.66 894.972,319.943 878.61,314.672 \n",
       "  862.065,309.851 845.353,305.487 828.491,301.584 811.496,298.144 794.384,295.173 777.172,292.672 759.878,290.644 742.519,289.091 725.112,288.015 707.675,287.417 \n",
       "  690.225,287.297 672.779,287.656 655.354,288.493 637.969,289.808 620.641,291.598 603.386,293.863 586.222,296.6 569.166,299.806 552.235,303.478 535.446,307.612 \n",
       "  518.815,312.205 502.36,317.251 486.096,322.746 470.041,328.685 454.209,335.06 438.616,341.867 423.279,349.097 408.212,356.745 393.431,364.802 378.95,373.26 \n",
       "  364.783,382.111 350.946,391.346 337.451,400.956 324.312,410.931 311.541,421.261 299.153,431.937 287.159,442.947 275.571,454.28 264.401,465.925 253.66,477.871 \n",
       "  243.358,490.105 233.506,502.615 224.113,515.39 215.19,528.416 206.744,541.68 198.785,555.168 191.32,568.869 184.356,582.767 177.902,596.849 171.962,611.101 \n",
       "  166.543,625.509 161.651,640.059 157.289,654.735 153.464,669.524 150.178,684.41 147.434,699.378 145.236,714.415 143.586,729.504 142.484,744.631 141.933,759.781 \n",
       "  141.933,774.938 142.484,790.088 143.586,805.215 145.236,820.304 147.434,835.34 150.178,850.309 153.464,865.195 157.289,879.984 161.651,894.66 166.543,909.209 \n",
       "  171.962,923.617 177.902,937.87 184.356,951.952 191.32,965.85 198.785,979.55 206.744,993.039 215.19,1006.3 224.113,1019.33 233.506,1032.1 243.358,1044.61 \n",
       "  253.66,1056.85 264.401,1068.79 275.571,1080.44 287.159,1091.77 299.153,1102.78 311.541,1113.46 324.312,1123.79 337.451,1133.76 350.946,1143.37 364.783,1152.61 \n",
       "  378.95,1161.46 393.431,1169.92 408.212,1177.97 423.279,1185.62 438.616,1192.85 454.209,1199.66 470.041,1206.03 486.096,1211.97 502.36,1217.47 518.815,1222.51 \n",
       "  535.446,1227.11 552.235,1231.24 569.166,1234.91 586.222,1238.12 603.386,1240.86 620.641,1243.12 637.969,1244.91 655.354,1246.23 672.779,1247.06 690.225,1247.42 \n",
       "  707.675,1247.3 725.112,1246.7 742.519,1245.63 759.878,1244.08 777.172,1242.05 794.384,1239.55 811.496,1236.57 828.491,1233.14 845.353,1229.23 862.065,1224.87 \n",
       "  878.61,1220.05 894.972,1214.78 911.133,1209.06 927.079,1202.9 942.793,1196.31 958.26,1189.29 973.464,1181.85 988.39,1174 1003.02,1165.74 1017.35,1157.08 \n",
       "  1031.35,1148.04 1045.02,1138.61 1058.34,1128.82 1071.3,1118.67 1083.88,1108.16 1096.07,1097.32 1107.86,1086.15 1119.24,1074.65 1130.2,1062.86 1140.72,1050.77 \n",
       "  1150.8,1038.39 1160.42,1025.75 1169.58,1012.85 1178.27,999.7 1186.47,986.322 1194.18,972.726 1201.4,958.925 1208.11,944.933 1214.31,930.764 1219.99,916.432 \n",
       "  1225.14,901.951 1229.77,887.337 1233.87,872.603 1237.42,857.763 1240.44,842.834 1242.91,827.83 1244.83,812.765 1246.21,797.655 1247.03,782.515 1247.31,767.359 \n",
       "  \n",
       "  \"/>\n",
       "<circle clip-path=\"url(#clip8702)\" style=\"fill:#000000; stroke:none; fill-opacity:1\" cx=\"694.587\" cy=\"167.263\" r=\"18\"/>\n",
       "<circle clip-path=\"url(#clip8702)\" style=\"fill:#e26f46; stroke:none; fill-opacity:1\" cx=\"694.587\" cy=\"167.263\" r=\"14\"/>\n",
       "<circle clip-path=\"url(#clip8702)\" style=\"fill:#000000; stroke:none; fill-opacity:1\" cx=\"694.587\" cy=\"287.283\" r=\"18\"/>\n",
       "<circle clip-path=\"url(#clip8702)\" style=\"fill:#3da44d; stroke:none; fill-opacity:1\" cx=\"694.587\" cy=\"287.283\" r=\"14\"/>\n",
       "</svg>\n"
      ]
     },
     "execution_count": 189,
     "metadata": {},
     "output_type": "execute_result"
    }
   ],
   "source": [
    "y, fy = prox(ft, x, 1.0)\n",
    "xₜ(t) = 2*cos(t)+2\n",
    "yₜ(t) = 2*sin(t)\n",
    "\n",
    "plot(xₜ, yₜ, 0, 2π, leg=false, fill=(0,:blue), alpha=0.5,xlims = (0,8),ylims=(-3,3),label=\"C\")\n",
    "scatter!([x[1]],[x[2]],label=\"x\")\n",
    "scatter!([y[1]],[y[2]],label=\"y\")"
   ]
  },
  {
   "cell_type": "code",
   "execution_count": null,
   "metadata": {},
   "outputs": [],
   "source": []
  },
  {
   "cell_type": "code",
   "execution_count": 139,
   "metadata": {},
   "outputs": [
    {
     "data": {
      "text/plain": [
       "([2.0, 2.0], 0.0)"
      ]
     },
     "execution_count": 139,
     "metadata": {},
     "output_type": "execute_result"
    }
   ],
   "source": []
  },
  {
   "cell_type": "code",
   "execution_count": null,
   "metadata": {},
   "outputs": [],
   "source": []
  }
 ],
 "metadata": {
  "kernelspec": {
   "display_name": "Julia 1.0.5",
   "language": "julia",
   "name": "julia-1.0"
  },
  "language_info": {
   "file_extension": ".jl",
   "mimetype": "application/julia",
   "name": "julia",
   "version": "1.0.5"
  }
 },
 "nbformat": 4,
 "nbformat_minor": 4
}
